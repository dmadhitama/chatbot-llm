{
 "cells": [
  {
   "cell_type": "code",
   "execution_count": 1,
   "metadata": {},
   "outputs": [
    {
     "name": "stdout",
     "output_type": "stream",
     "text": [
      "Project ID: dwh-siloam\n",
      "Region: asia-southeast1\n",
      "Checking Credentials...\n",
      "Using service account credentials from service_account folder\n",
      "Using service account file: /Users/donnymirzaadhitama/workspace/others/chatbot-llm/service_account/dwh-siloam-99402e61edd2.json\n"
     ]
    }
   ],
   "source": [
    "PROJECT_ID = 'dwh-siloam'\n",
    "REGION = 'asia-southeast1'\n",
    "print(f\"Project ID: {PROJECT_ID}\\nRegion: {REGION}\")\n",
    "\n",
    "# Initialize Vertex AI\n",
    "from pathlib import Path\n",
    "import vertexai\n",
    "from google.cloud import aiplatform\n",
    "\n",
    "print(f\"Checking Credentials...\")\n",
    "if not any((Path.cwd()/\"service_account\").glob('*.json')):\n",
    "    print(\"Service account folder is empty. Fallback using default gcloud account\")\n",
    "    aiplatform.init(project=PROJECT_ID, location=REGION)\n",
    "    vertexai.init(project=PROJECT_ID, location=REGION)\n",
    "else:\n",
    "    print('Using service account credentials from service_account folder')\n",
    "    from google.oauth2 import service_account\n",
    "    sa_file = list((Path.cwd()/\"service_account\").glob('*.json'))[0]\n",
    "    print(f\"Using service account file: {sa_file}\")\n",
    "    credentials = service_account.Credentials.from_service_account_file(sa_file)\n",
    "    aiplatform.init(project=PROJECT_ID, location=REGION, credentials=credentials)\n",
    "    vertexai.init(project=PROJECT_ID, location=REGION, credentials=credentials)\n",
    "\n",
    "# Import libraries\n",
    "from langchain_google_vertexai import (\n",
    "    VertexAI, \n",
    "    ChatVertexAI, \n",
    "    VertexAIEmbeddings\n",
    ")\n",
    "from langchain_core.prompts import ChatPromptTemplate\n",
    "from langchain_core.pydantic_v1 import BaseModel, Field\n",
    "\n",
    "from typing import List, Optional\n",
    "import requests\n",
    "\n",
    "from langchain_core.messages import HumanMessage, AIMessage\n",
    "from langchain_core.prompts import MessagesPlaceholder\n",
    "from settings import CopilotSettings\n",
    "import time"
   ]
  },
  {
   "cell_type": "code",
   "execution_count": 2,
   "metadata": {},
   "outputs": [],
   "source": [
    "import os\n",
    "from pandasai import SmartDataframe, SmartDatalake\n",
    "import pandas as pd\n",
    "from pandasai import Agent\n",
    "from pandasai.connectors import GoogleBigQueryConnector\n",
    "from pandasai.ee.vectorstores import ChromaDB, Qdrant\n"
   ]
  },
  {
   "cell_type": "code",
   "execution_count": 3,
   "metadata": {},
   "outputs": [],
   "source": [
    "PANDASAI_API_KEY = \"$2a$10$KwsNJeV.2XVPza4Ca8x9fOyMAhti4IgqBdI0vIfGg7p46b4k2EkrW\"\n",
    "os.environ[\"PANDASAI_API_KEY\"] = PANDASAI_API_KEY"
   ]
  },
  {
   "cell_type": "code",
   "execution_count": 4,
   "metadata": {},
   "outputs": [],
   "source": [
    "# os.environ[\"LANGCHAIN_API_KEY\"] = \"ls__0f29968aab6d4fdeac9159bee2e411b1\"\n",
    "# os.environ[\"LANGCHAIN_TRACING_V2\"] = \"true\"\n",
    "# os.environ[\"LANGCHAIN_ENDPOINT\"] = \"https://api.smith.langchain.com\"\n",
    "# os.environ[\"LANGCHAIN_PROJECT\"] = \"opensource-llm\"\n",
    "\n",
    "# from langsmith import Client\n",
    "# client = Client()"
   ]
  },
  {
   "cell_type": "markdown",
   "metadata": {},
   "source": [
    "## Test using scratch dataframe"
   ]
  },
  {
   "cell_type": "code",
   "execution_count": 4,
   "metadata": {},
   "outputs": [
    {
     "data": {
      "text/html": [
       "<div>\n",
       "<style scoped>\n",
       "    .dataframe tbody tr th:only-of-type {\n",
       "        vertical-align: middle;\n",
       "    }\n",
       "\n",
       "    .dataframe tbody tr th {\n",
       "        vertical-align: top;\n",
       "    }\n",
       "\n",
       "    .dataframe thead th {\n",
       "        text-align: right;\n",
       "    }\n",
       "</style>\n",
       "<table border=\"1\" class=\"dataframe\">\n",
       "  <thead>\n",
       "    <tr style=\"text-align: right;\">\n",
       "      <th></th>\n",
       "      <th>country</th>\n",
       "      <th>gdp</th>\n",
       "      <th>happiness_index</th>\n",
       "    </tr>\n",
       "  </thead>\n",
       "  <tbody>\n",
       "    <tr>\n",
       "      <th>0</th>\n",
       "      <td>United States</td>\n",
       "      <td>19294482071552</td>\n",
       "      <td>6.94</td>\n",
       "    </tr>\n",
       "    <tr>\n",
       "      <th>1</th>\n",
       "      <td>United Kingdom</td>\n",
       "      <td>2891615567872</td>\n",
       "      <td>7.16</td>\n",
       "    </tr>\n",
       "    <tr>\n",
       "      <th>2</th>\n",
       "      <td>France</td>\n",
       "      <td>2411255037952</td>\n",
       "      <td>6.66</td>\n",
       "    </tr>\n",
       "    <tr>\n",
       "      <th>3</th>\n",
       "      <td>Germany</td>\n",
       "      <td>3435817336832</td>\n",
       "      <td>7.07</td>\n",
       "    </tr>\n",
       "    <tr>\n",
       "      <th>4</th>\n",
       "      <td>Italy</td>\n",
       "      <td>1745433788416</td>\n",
       "      <td>6.38</td>\n",
       "    </tr>\n",
       "  </tbody>\n",
       "</table>\n",
       "</div>"
      ],
      "text/plain": [
       "          country             gdp  happiness_index\n",
       "0   United States  19294482071552             6.94\n",
       "1  United Kingdom   2891615567872             7.16\n",
       "2          France   2411255037952             6.66\n",
       "3         Germany   3435817336832             7.07\n",
       "4           Italy   1745433788416             6.38"
      ]
     },
     "execution_count": 4,
     "metadata": {},
     "output_type": "execute_result"
    }
   ],
   "source": [
    "df = pd.DataFrame({\n",
    "    \"country\": [\n",
    "        \"United States\",\n",
    "        \"United Kingdom\",\n",
    "        \"France\",\n",
    "        \"Germany\",\n",
    "        \"Italy\",\n",
    "        \"Spain\",\n",
    "        \"Canada\",\n",
    "        \"Australia\",\n",
    "        \"Japan\",\n",
    "        \"China\",\n",
    "    ],\n",
    "    \"gdp\": [\n",
    "        19294482071552,\n",
    "        2891615567872,\n",
    "        2411255037952,\n",
    "        3435817336832,\n",
    "        1745433788416,\n",
    "        1181205135360,\n",
    "        1607402389504,\n",
    "        1490967855104,\n",
    "        4380756541440,\n",
    "        14631844184064,\n",
    "    ],\n",
    "    \"happiness_index\": [6.94, 7.16, 6.66, 7.07, 6.38, 6.4, 7.23, 7.22, 5.87, 5.12],\n",
    "})\n",
    "\n",
    "df.head()"
   ]
  },
  {
   "cell_type": "markdown",
   "metadata": {},
   "source": [
    "### Test using default LLM of PandasAI"
   ]
  },
  {
   "cell_type": "code",
   "execution_count": 5,
   "metadata": {},
   "outputs": [],
   "source": [
    "sdf = SmartDataframe(df)"
   ]
  },
  {
   "cell_type": "code",
   "execution_count": 7,
   "metadata": {},
   "outputs": [
    {
     "name": "stdout",
     "output_type": "stream",
     "text": [
      "Negara dengan GDP tertinggi adalah United States dengan GDP sebesar 19294482071552.\n"
     ]
    }
   ],
   "source": [
    "response = sdf.chat(\"Negara mana dengan GDP tertinggi? Dan berapa GDP-nya?\")\n",
    "print(response)"
   ]
  },
  {
   "cell_type": "markdown",
   "metadata": {},
   "source": [
    "Proof it with pandas querying."
   ]
  },
  {
   "cell_type": "code",
   "execution_count": 8,
   "metadata": {},
   "outputs": [
    {
     "data": {
      "text/html": [
       "<div>\n",
       "<style scoped>\n",
       "    .dataframe tbody tr th:only-of-type {\n",
       "        vertical-align: middle;\n",
       "    }\n",
       "\n",
       "    .dataframe tbody tr th {\n",
       "        vertical-align: top;\n",
       "    }\n",
       "\n",
       "    .dataframe thead th {\n",
       "        text-align: right;\n",
       "    }\n",
       "</style>\n",
       "<table border=\"1\" class=\"dataframe\">\n",
       "  <thead>\n",
       "    <tr style=\"text-align: right;\">\n",
       "      <th></th>\n",
       "      <th>country</th>\n",
       "      <th>gdp</th>\n",
       "      <th>happiness_index</th>\n",
       "    </tr>\n",
       "  </thead>\n",
       "  <tbody>\n",
       "    <tr>\n",
       "      <th>0</th>\n",
       "      <td>United States</td>\n",
       "      <td>19294482071552</td>\n",
       "      <td>6.94</td>\n",
       "    </tr>\n",
       "  </tbody>\n",
       "</table>\n",
       "</div>"
      ],
      "text/plain": [
       "         country             gdp  happiness_index\n",
       "0  United States  19294482071552             6.94"
      ]
     },
     "execution_count": 8,
     "metadata": {},
     "output_type": "execute_result"
    }
   ],
   "source": [
    "df.loc[df[\"gdp\"] == df[\"gdp\"].max()]"
   ]
  },
  {
   "cell_type": "markdown",
   "metadata": {},
   "source": [
    "More test here:"
   ]
  },
  {
   "cell_type": "code",
   "execution_count": null,
   "metadata": {},
   "outputs": [],
   "source": []
  },
  {
   "cell_type": "markdown",
   "metadata": {},
   "source": [
    "### Test using VertexAI LLM (using csv file dataframe)"
   ]
  },
  {
   "cell_type": "code",
   "execution_count": 4,
   "metadata": {},
   "outputs": [],
   "source": [
    "config = CopilotSettings()"
   ]
  },
  {
   "cell_type": "code",
   "execution_count": 5,
   "metadata": {},
   "outputs": [],
   "source": [
    "llm = VertexAI(\n",
    "    model_name=config.GCP_GEMINI_MODEL_NAME, \n",
    "    temperature=0, \n",
    "    max_output_tokens=8192\n",
    ")"
   ]
  },
  {
   "cell_type": "code",
   "execution_count": 6,
   "metadata": {},
   "outputs": [
    {
     "data": {
      "text/html": [
       "<div>\n",
       "<style scoped>\n",
       "    .dataframe tbody tr th:only-of-type {\n",
       "        vertical-align: middle;\n",
       "    }\n",
       "\n",
       "    .dataframe tbody tr th {\n",
       "        vertical-align: top;\n",
       "    }\n",
       "\n",
       "    .dataframe thead th {\n",
       "        text-align: right;\n",
       "    }\n",
       "</style>\n",
       "<table border=\"1\" class=\"dataframe\">\n",
       "  <thead>\n",
       "    <tr style=\"text-align: right;\">\n",
       "      <th></th>\n",
       "      <th>PassengerId</th>\n",
       "      <th>Survived</th>\n",
       "      <th>Pclass</th>\n",
       "      <th>Name</th>\n",
       "      <th>Sex</th>\n",
       "      <th>Age</th>\n",
       "      <th>SibSp</th>\n",
       "      <th>Parch</th>\n",
       "      <th>Ticket</th>\n",
       "      <th>Fare</th>\n",
       "      <th>Cabin</th>\n",
       "      <th>Embarked</th>\n",
       "    </tr>\n",
       "  </thead>\n",
       "  <tbody>\n",
       "    <tr>\n",
       "      <th>0</th>\n",
       "      <td>1</td>\n",
       "      <td>0</td>\n",
       "      <td>3</td>\n",
       "      <td>Braund, Mr. Owen Harris</td>\n",
       "      <td>male</td>\n",
       "      <td>22.0</td>\n",
       "      <td>1</td>\n",
       "      <td>0</td>\n",
       "      <td>A/5 21171</td>\n",
       "      <td>7.2500</td>\n",
       "      <td>NaN</td>\n",
       "      <td>S</td>\n",
       "    </tr>\n",
       "    <tr>\n",
       "      <th>1</th>\n",
       "      <td>2</td>\n",
       "      <td>1</td>\n",
       "      <td>1</td>\n",
       "      <td>Cumings, Mrs. John Bradley (Florence Briggs Th...</td>\n",
       "      <td>female</td>\n",
       "      <td>38.0</td>\n",
       "      <td>1</td>\n",
       "      <td>0</td>\n",
       "      <td>PC 17599</td>\n",
       "      <td>71.2833</td>\n",
       "      <td>C85</td>\n",
       "      <td>C</td>\n",
       "    </tr>\n",
       "    <tr>\n",
       "      <th>2</th>\n",
       "      <td>3</td>\n",
       "      <td>1</td>\n",
       "      <td>3</td>\n",
       "      <td>Heikkinen, Miss. Laina</td>\n",
       "      <td>female</td>\n",
       "      <td>26.0</td>\n",
       "      <td>0</td>\n",
       "      <td>0</td>\n",
       "      <td>STON/O2. 3101282</td>\n",
       "      <td>7.9250</td>\n",
       "      <td>NaN</td>\n",
       "      <td>S</td>\n",
       "    </tr>\n",
       "    <tr>\n",
       "      <th>3</th>\n",
       "      <td>4</td>\n",
       "      <td>1</td>\n",
       "      <td>1</td>\n",
       "      <td>Futrelle, Mrs. Jacques Heath (Lily May Peel)</td>\n",
       "      <td>female</td>\n",
       "      <td>35.0</td>\n",
       "      <td>1</td>\n",
       "      <td>0</td>\n",
       "      <td>113803</td>\n",
       "      <td>53.1000</td>\n",
       "      <td>C123</td>\n",
       "      <td>S</td>\n",
       "    </tr>\n",
       "    <tr>\n",
       "      <th>4</th>\n",
       "      <td>5</td>\n",
       "      <td>0</td>\n",
       "      <td>3</td>\n",
       "      <td>Allen, Mr. William Henry</td>\n",
       "      <td>male</td>\n",
       "      <td>35.0</td>\n",
       "      <td>0</td>\n",
       "      <td>0</td>\n",
       "      <td>373450</td>\n",
       "      <td>8.0500</td>\n",
       "      <td>NaN</td>\n",
       "      <td>S</td>\n",
       "    </tr>\n",
       "  </tbody>\n",
       "</table>\n",
       "</div>"
      ],
      "text/plain": [
       "   PassengerId  Survived  Pclass  \\\n",
       "0            1         0       3   \n",
       "1            2         1       1   \n",
       "2            3         1       3   \n",
       "3            4         1       1   \n",
       "4            5         0       3   \n",
       "\n",
       "                                                Name     Sex   Age  SibSp  \\\n",
       "0                            Braund, Mr. Owen Harris    male  22.0      1   \n",
       "1  Cumings, Mrs. John Bradley (Florence Briggs Th...  female  38.0      1   \n",
       "2                             Heikkinen, Miss. Laina  female  26.0      0   \n",
       "3       Futrelle, Mrs. Jacques Heath (Lily May Peel)  female  35.0      1   \n",
       "4                           Allen, Mr. William Henry    male  35.0      0   \n",
       "\n",
       "   Parch            Ticket     Fare Cabin Embarked  \n",
       "0      0         A/5 21171   7.2500   NaN        S  \n",
       "1      0          PC 17599  71.2833   C85        C  \n",
       "2      0  STON/O2. 3101282   7.9250   NaN        S  \n",
       "3      0            113803  53.1000  C123        S  \n",
       "4      0            373450   8.0500   NaN        S  "
      ]
     },
     "execution_count": 6,
     "metadata": {},
     "output_type": "execute_result"
    }
   ],
   "source": [
    "df_titanic = pd.read_csv(\"dataset/titanic/train.csv\")\n",
    "df_titanic.head()"
   ]
  },
  {
   "cell_type": "code",
   "execution_count": 8,
   "metadata": {},
   "outputs": [],
   "source": [
    "sdf_vertexai = SmartDataframe(\n",
    "    df_titanic, \n",
    "    config={\"llm\": llm}\n",
    ")"
   ]
  },
  {
   "cell_type": "code",
   "execution_count": 13,
   "metadata": {},
   "outputs": [
    {
     "name": "stdout",
     "output_type": "stream",
     "text": [
      "27.276021505376345\n"
     ]
    }
   ],
   "source": [
    "response = sdf_vertexai.chat(\"Berapa rata-rata umur penumpang laki-laki yang selamat?\")\n",
    "print(response)"
   ]
  },
  {
   "cell_type": "markdown",
   "metadata": {},
   "source": [
    "Proof it!"
   ]
  },
  {
   "cell_type": "code",
   "execution_count": 14,
   "metadata": {},
   "outputs": [
    {
     "data": {
      "text/plain": [
       "27.276021505376345"
      ]
     },
     "execution_count": 14,
     "metadata": {},
     "output_type": "execute_result"
    }
   ],
   "source": [
    "df_titanic.loc[(df_titanic[\"Sex\"] == \"male\") & (df_titanic[\"Survived\"] == 1)][\"Age\"].mean()"
   ]
  },
  {
   "cell_type": "markdown",
   "metadata": {},
   "source": [
    "### Visualization answer example"
   ]
  },
  {
   "cell_type": "code",
   "execution_count": 14,
   "metadata": {},
   "outputs": [
    {
     "data": {
      "text/plain": [
       "'/Users/donnymirzaadhitama/workspace/others/chatbot-llm/exports/charts/temp_chart.png'"
      ]
     },
     "execution_count": 14,
     "metadata": {},
     "output_type": "execute_result"
    },
    {
     "data": {
      "image/png": "[encoded data removed]",
      "text/plain": [
       "<Figure size 640x480 with 1 Axes>"
      ]
     },
     "metadata": {},
     "output_type": "display_data"
    }
   ],
   "source": [
    "sdf_vertexai.chat(\"Apakah penumpang laki-laki atau perempuan yang paling banyak selamat?\")"
   ]
  },
  {
   "cell_type": "code",
   "execution_count": null,
   "metadata": {},
   "outputs": [],
   "source": []
  },
  {
   "cell_type": "markdown",
   "metadata": {},
   "source": [
    "More test here:"
   ]
  },
  {
   "cell_type": "code",
   "execution_count": 11,
   "metadata": {},
   "outputs": [
    {
     "name": "stdout",
     "output_type": "stream",
     "text": [
      "I cannot answer this question. I can only process the given data.\n"
     ]
    }
   ],
   "source": [
    "response = sdf_vertexai.chat(\"Siapa presiden Guatemala?\")\n",
    "print(response)"
   ]
  },
  {
   "cell_type": "code",
   "execution_count": 18,
   "metadata": {},
   "outputs": [
    {
     "name": "stdout",
     "output_type": "stream",
     "text": [
      "df = dfs[0]\n",
      "df_not_survived = df[df['Survived'] == 0]\n",
      "age_by_sex = df_not_survived.groupby(['Sex'])['Age'].mean().reset_index()\n",
      "result = {'type': 'dataframe', 'value': age_by_sex}\n"
     ]
    }
   ],
   "source": [
    "print(sdf_vertexai.last_code_executed)"
   ]
  },
  {
   "cell_type": "markdown",
   "metadata": {},
   "source": [
    "## Query multiple dataframes using SmartDatalake"
   ]
  },
  {
   "cell_type": "code",
   "execution_count": 20,
   "metadata": {},
   "outputs": [],
   "source": [
    "employees_data = {\n",
    "    'EmployeeID': [1, 2, 3, 4, 5],\n",
    "    'Name': ['John', 'Emma', 'Liam', 'Olivia', 'William'],\n",
    "    'Department': ['HR', 'Sales', 'IT', 'Marketing', 'Finance']\n",
    "}\n",
    "\n",
    "salaries_data = {\n",
    "    'EmployeeID': [1, 2, 3, 4, 5],\n",
    "    'Salary': [5000, 6000, 4500, 7000, 5500]\n",
    "}\n",
    "\n",
    "employees_df = pd.DataFrame(employees_data)\n",
    "salaries_df = pd.DataFrame(salaries_data)"
   ]
  },
  {
   "cell_type": "code",
   "execution_count": 17,
   "metadata": {},
   "outputs": [
    {
     "data": {
      "text/html": [
       "<div>\n",
       "<style scoped>\n",
       "    .dataframe tbody tr th:only-of-type {\n",
       "        vertical-align: middle;\n",
       "    }\n",
       "\n",
       "    .dataframe tbody tr th {\n",
       "        vertical-align: top;\n",
       "    }\n",
       "\n",
       "    .dataframe thead th {\n",
       "        text-align: right;\n",
       "    }\n",
       "</style>\n",
       "<table border=\"1\" class=\"dataframe\">\n",
       "  <thead>\n",
       "    <tr style=\"text-align: right;\">\n",
       "      <th></th>\n",
       "      <th>EmployeeID</th>\n",
       "      <th>Name</th>\n",
       "      <th>Department</th>\n",
       "    </tr>\n",
       "  </thead>\n",
       "  <tbody>\n",
       "    <tr>\n",
       "      <th>0</th>\n",
       "      <td>1</td>\n",
       "      <td>John</td>\n",
       "      <td>HR</td>\n",
       "    </tr>\n",
       "    <tr>\n",
       "      <th>1</th>\n",
       "      <td>2</td>\n",
       "      <td>Emma</td>\n",
       "      <td>Sales</td>\n",
       "    </tr>\n",
       "    <tr>\n",
       "      <th>2</th>\n",
       "      <td>3</td>\n",
       "      <td>Liam</td>\n",
       "      <td>IT</td>\n",
       "    </tr>\n",
       "    <tr>\n",
       "      <th>3</th>\n",
       "      <td>4</td>\n",
       "      <td>Olivia</td>\n",
       "      <td>Marketing</td>\n",
       "    </tr>\n",
       "    <tr>\n",
       "      <th>4</th>\n",
       "      <td>5</td>\n",
       "      <td>William</td>\n",
       "      <td>Finance</td>\n",
       "    </tr>\n",
       "  </tbody>\n",
       "</table>\n",
       "</div>"
      ],
      "text/plain": [
       "   EmployeeID     Name Department\n",
       "0           1     John         HR\n",
       "1           2     Emma      Sales\n",
       "2           3     Liam         IT\n",
       "3           4   Olivia  Marketing\n",
       "4           5  William    Finance"
      ]
     },
     "execution_count": 17,
     "metadata": {},
     "output_type": "execute_result"
    }
   ],
   "source": [
    "employees_df"
   ]
  },
  {
   "cell_type": "code",
   "execution_count": 18,
   "metadata": {},
   "outputs": [
    {
     "data": {
      "text/html": [
       "<div>\n",
       "<style scoped>\n",
       "    .dataframe tbody tr th:only-of-type {\n",
       "        vertical-align: middle;\n",
       "    }\n",
       "\n",
       "    .dataframe tbody tr th {\n",
       "        vertical-align: top;\n",
       "    }\n",
       "\n",
       "    .dataframe thead th {\n",
       "        text-align: right;\n",
       "    }\n",
       "</style>\n",
       "<table border=\"1\" class=\"dataframe\">\n",
       "  <thead>\n",
       "    <tr style=\"text-align: right;\">\n",
       "      <th></th>\n",
       "      <th>EmployeeID</th>\n",
       "      <th>Salary</th>\n",
       "    </tr>\n",
       "  </thead>\n",
       "  <tbody>\n",
       "    <tr>\n",
       "      <th>0</th>\n",
       "      <td>1</td>\n",
       "      <td>5000</td>\n",
       "    </tr>\n",
       "    <tr>\n",
       "      <th>1</th>\n",
       "      <td>2</td>\n",
       "      <td>6000</td>\n",
       "    </tr>\n",
       "    <tr>\n",
       "      <th>2</th>\n",
       "      <td>3</td>\n",
       "      <td>4500</td>\n",
       "    </tr>\n",
       "    <tr>\n",
       "      <th>3</th>\n",
       "      <td>4</td>\n",
       "      <td>7000</td>\n",
       "    </tr>\n",
       "    <tr>\n",
       "      <th>4</th>\n",
       "      <td>5</td>\n",
       "      <td>5500</td>\n",
       "    </tr>\n",
       "  </tbody>\n",
       "</table>\n",
       "</div>"
      ],
      "text/plain": [
       "   EmployeeID  Salary\n",
       "0           1    5000\n",
       "1           2    6000\n",
       "2           3    4500\n",
       "3           4    7000\n",
       "4           5    5500"
      ]
     },
     "execution_count": 18,
     "metadata": {},
     "output_type": "execute_result"
    }
   ],
   "source": [
    "salaries_df"
   ]
  },
  {
   "cell_type": "code",
   "execution_count": 21,
   "metadata": {},
   "outputs": [],
   "source": [
    "lake = SmartDatalake(\n",
    "    [\n",
    "        employees_df, \n",
    "        salaries_df\n",
    "    ], \n",
    "    config={\"llm\": llm}\n",
    ")"
   ]
  },
  {
   "cell_type": "code",
   "execution_count": 23,
   "metadata": {},
   "outputs": [
    {
     "name": "stdout",
     "output_type": "stream",
     "text": [
      "Employees with salary increase each year: Emma, John, Liam, Olivia, William\n"
     ]
    }
   ],
   "source": [
    "response = lake.chat(\"Siapa yang gajinya naik tiap tahun?\")\n",
    "print(response)"
   ]
  },
  {
   "cell_type": "markdown",
   "metadata": {},
   "source": [
    "More test here:"
   ]
  },
  {
   "cell_type": "markdown",
   "metadata": {},
   "source": [
    "## Agent (for multi-turn conversation)"
   ]
  },
  {
   "cell_type": "code",
   "execution_count": 21,
   "metadata": {},
   "outputs": [
    {
     "data": {
      "text/html": [
       "<div>\n",
       "<style scoped>\n",
       "    .dataframe tbody tr th:only-of-type {\n",
       "        vertical-align: middle;\n",
       "    }\n",
       "\n",
       "    .dataframe tbody tr th {\n",
       "        vertical-align: top;\n",
       "    }\n",
       "\n",
       "    .dataframe thead th {\n",
       "        text-align: right;\n",
       "    }\n",
       "</style>\n",
       "<table border=\"1\" class=\"dataframe\">\n",
       "  <thead>\n",
       "    <tr style=\"text-align: right;\">\n",
       "      <th></th>\n",
       "      <th>country</th>\n",
       "      <th>sales</th>\n",
       "      <th>deals_opened</th>\n",
       "      <th>deals_closed</th>\n",
       "    </tr>\n",
       "  </thead>\n",
       "  <tbody>\n",
       "    <tr>\n",
       "      <th>9</th>\n",
       "      <td>China</td>\n",
       "      <td>7000</td>\n",
       "      <td>120</td>\n",
       "      <td>110</td>\n",
       "    </tr>\n",
       "    <tr>\n",
       "      <th>0</th>\n",
       "      <td>United States</td>\n",
       "      <td>5000</td>\n",
       "      <td>142</td>\n",
       "      <td>120</td>\n",
       "    </tr>\n",
       "    <tr>\n",
       "      <th>8</th>\n",
       "      <td>Japan</td>\n",
       "      <td>4500</td>\n",
       "      <td>110</td>\n",
       "      <td>100</td>\n",
       "    </tr>\n",
       "    <tr>\n",
       "      <th>3</th>\n",
       "      <td>Germany</td>\n",
       "      <td>4100</td>\n",
       "      <td>90</td>\n",
       "      <td>80</td>\n",
       "    </tr>\n",
       "    <tr>\n",
       "      <th>1</th>\n",
       "      <td>United Kingdom</td>\n",
       "      <td>3200</td>\n",
       "      <td>80</td>\n",
       "      <td>70</td>\n",
       "    </tr>\n",
       "  </tbody>\n",
       "</table>\n",
       "</div>"
      ],
      "text/plain": [
       "          country  sales  deals_opened  deals_closed\n",
       "9           China   7000           120           110\n",
       "0   United States   5000           142           120\n",
       "8           Japan   4500           110           100\n",
       "3         Germany   4100            90            80\n",
       "1  United Kingdom   3200            80            70"
      ]
     },
     "execution_count": 21,
     "metadata": {},
     "output_type": "execute_result"
    }
   ],
   "source": [
    "sales_by_country = pd.DataFrame({\n",
    "    \"country\": [\"United States\", \"United Kingdom\", \"France\", \"Germany\", \"Italy\", \"Spain\", \"Canada\", \"Australia\", \"Japan\", \"China\"],\n",
    "    \"sales\": [5000, 3200, 2900, 4100, 2300, 2100, 2500, 2600, 4500, 7000],\n",
    "    \"deals_opened\": [142, 80, 70, 90, 60, 50, 40, 30, 110, 120],\n",
    "    \"deals_closed\": [120, 70, 60, 80, 50, 40, 30, 20, 100, 110]\n",
    "})\n",
    "\n",
    "agent = Agent(\n",
    "    sales_by_country,\n",
    "    config={\"llm\": llm}\n",
    ")\n",
    "agent.chat('Which are the top 5 countries by sales?')"
   ]
  },
  {
   "cell_type": "code",
   "execution_count": 22,
   "metadata": {},
   "outputs": [
    {
     "data": {
      "text/html": [
       "<div>\n",
       "<style scoped>\n",
       "    .dataframe tbody tr th:only-of-type {\n",
       "        vertical-align: middle;\n",
       "    }\n",
       "\n",
       "    .dataframe tbody tr th {\n",
       "        vertical-align: top;\n",
       "    }\n",
       "\n",
       "    .dataframe thead th {\n",
       "        text-align: right;\n",
       "    }\n",
       "</style>\n",
       "<table border=\"1\" class=\"dataframe\">\n",
       "  <thead>\n",
       "    <tr style=\"text-align: right;\">\n",
       "      <th></th>\n",
       "      <th>country</th>\n",
       "      <th>sales</th>\n",
       "      <th>deals_opened</th>\n",
       "      <th>deals_closed</th>\n",
       "    </tr>\n",
       "  </thead>\n",
       "  <tbody>\n",
       "    <tr>\n",
       "      <th>0</th>\n",
       "      <td>United States</td>\n",
       "      <td>5000</td>\n",
       "      <td>142</td>\n",
       "      <td>120</td>\n",
       "    </tr>\n",
       "    <tr>\n",
       "      <th>9</th>\n",
       "      <td>China</td>\n",
       "      <td>7000</td>\n",
       "      <td>120</td>\n",
       "      <td>110</td>\n",
       "    </tr>\n",
       "    <tr>\n",
       "      <th>8</th>\n",
       "      <td>Japan</td>\n",
       "      <td>4500</td>\n",
       "      <td>110</td>\n",
       "      <td>100</td>\n",
       "    </tr>\n",
       "    <tr>\n",
       "      <th>3</th>\n",
       "      <td>Germany</td>\n",
       "      <td>4100</td>\n",
       "      <td>90</td>\n",
       "      <td>80</td>\n",
       "    </tr>\n",
       "    <tr>\n",
       "      <th>1</th>\n",
       "      <td>United Kingdom</td>\n",
       "      <td>3200</td>\n",
       "      <td>80</td>\n",
       "      <td>70</td>\n",
       "    </tr>\n",
       "  </tbody>\n",
       "</table>\n",
       "</div>"
      ],
      "text/plain": [
       "          country  sales  deals_opened  deals_closed\n",
       "0   United States   5000           142           120\n",
       "9           China   7000           120           110\n",
       "8           Japan   4500           110           100\n",
       "3         Germany   4100            90            80\n",
       "1  United Kingdom   3200            80            70"
      ]
     },
     "execution_count": 22,
     "metadata": {},
     "output_type": "execute_result"
    }
   ],
   "source": [
    "agent.chat('How about the top opened deals?')"
   ]
  },
  {
   "cell_type": "markdown",
   "metadata": {},
   "source": [
    "Using titanic dataset..."
   ]
  },
  {
   "cell_type": "code",
   "execution_count": 23,
   "metadata": {},
   "outputs": [
    {
     "name": "stdout",
     "output_type": "stream",
     "text": [
      "30.72664459161148\n"
     ]
    }
   ],
   "source": [
    "agent = Agent(\n",
    "    df_titanic,\n",
    "    config={\"llm\": llm}\n",
    ")\n",
    "response = agent.chat(\"Berapa rata-rata penumpang laki-laki yang meninggal?\")\n",
    "print(response)"
   ]
  },
  {
   "cell_type": "code",
   "execution_count": 24,
   "metadata": {},
   "outputs": [
    {
     "name": "stdout",
     "output_type": "stream",
     "text": [
      " To calculate the average age of male passengers who died, we first need to select only the male passengers from the dataset. We can do this by filtering the dataset based on the 'Sex' column and selecting only the rows where the 'Sex' column is equal to 'male'.\n",
      "\n",
      "Once we have the male passengers, we can calculate the average age of these passengers by using the 'mean()' function on the 'Age' column.\n",
      "\n",
      "Finally, we can store the result in a variable and return it as the answer to the query.\n"
     ]
    }
   ],
   "source": [
    "explanation = agent.explain()\n",
    "print(explanation)"
   ]
  },
  {
   "cell_type": "code",
   "execution_count": 25,
   "metadata": {},
   "outputs": [
    {
     "name": "stdout",
     "output_type": "stream",
     "text": [
      "male_passengers = dfs[0][dfs[0]['Sex'] == 'male']\n",
      "avg_age_male_passengers = male_passengers['Age'].mean()\n",
      "result = {'type': 'number', 'value': avg_age_male_passengers}\n"
     ]
    }
   ],
   "source": [
    "print(agent.last_code_executed)"
   ]
  },
  {
   "cell_type": "code",
   "execution_count": 26,
   "metadata": {},
   "outputs": [
    {
     "name": "stdout",
     "output_type": "stream",
     "text": [
      "/Users/donnymirzaadhitama/workspace/others/chatbot-llm/exports/charts/temp_chart.png\n"
     ]
    },
    {
     "data": {
      "image/png": "[encoded data removed]",
      "text/plain": [
       "<Figure size 640x480 with 1 Axes>"
      ]
     },
     "metadata": {},
     "output_type": "display_data"
    }
   ],
   "source": [
    "response = agent.chat(\"Bagaimana dengan penumpang perempuan?\")\n",
    "print(response)"
   ]
  },
  {
   "cell_type": "code",
   "execution_count": 27,
   "metadata": {},
   "outputs": [
    {
     "name": "stdout",
     "output_type": "stream",
     "text": [
      " To calculate the average number of female passengers who died, we first need to filter the DataFrame to only include female passengers. We can do this by using the `[0]` operator to select the first DataFrame in the list of DataFrames, and then using the `['Sex'] == 'female'` operator to select only the rows where the `Sex` column is equal to `female`.\n",
      "\n",
      "Once we have the DataFrame of female passengers, we can calculate the average number of deaths by using the `mean()` method on the `Survived` column. This will give us the average number of deaths for female passengers.\n",
      "\n",
      "To display the results, we can use the `plt.bar()` function to create a bar chart. The first argument to `plt.bar()` is the label for the bar, and the second argument is the value of the bar. In this case, the label is `Female` and the value is the average number of deaths for female passengers.\n",
      "\n",
      "We can then use the `plt.xlabel()` and `plt.ylabel()` functions to label the x-axis and y-axis of the chart, and the `plt.title()` function to give the chart a title.\n",
      "\n",
      "Finally, we can use the `plt.savefig()` function to save the chart to a file. In this case, we are saving the chart to a file called `temp_chart.png`.\n",
      "\n",
      "Once the chart is saved, we can return the results as a dictionary. The dictionary will have two keys: `type` and `value`. The `type` key will be set to `plot`, and the `value` key will be set to the path to the saved chart.\n"
     ]
    }
   ],
   "source": [
    "explanation = agent.explain()\n",
    "print(explanation)"
   ]
  },
  {
   "cell_type": "markdown",
   "metadata": {},
   "source": [
    "Agent clarification"
   ]
  },
  {
   "cell_type": "code",
   "execution_count": 28,
   "metadata": {},
   "outputs": [
    {
     "data": {
      "text/plain": [
       "['Apakah yang dimaksud dengan penumpang adalah semua penumpang atau hanya penumpang yang selamat?',\n",
       " 'Apakah yang dimaksud dengan penumpang perempuan adalah semua penumpang perempuan atau hanya penumpang perempuan yang meninggal?',\n",
       " 'Apakah yang dimaksud dengan penumpang perempuan adalah semua penumpang perempuan atau hanya penumpang perempuan yang selamat?']"
      ]
     },
     "execution_count": 28,
     "metadata": {},
     "output_type": "execute_result"
    }
   ],
   "source": [
    "agent.clarification_questions(\"Bagaimana dengan penumpang\") # gak terlalu guna"
   ]
  },
  {
   "cell_type": "markdown",
   "metadata": {},
   "source": [
    "Rephrase question"
   ]
  },
  {
   "cell_type": "code",
   "execution_count": 29,
   "metadata": {},
   "outputs": [
    {
     "name": "stdout",
     "output_type": "stream",
     "text": [
      " Apa penyebab kematian penumpang?\n"
     ]
    }
   ],
   "source": [
    "rephrased = agent.rephrase_query(\"Kenapa penumpang meninggal\")\n",
    "print(rephrased)"
   ]
  },
  {
   "cell_type": "markdown",
   "metadata": {},
   "source": [
    "## Connect to BigQuery"
   ]
  },
  {
   "cell_type": "code",
   "execution_count": 7,
   "metadata": {},
   "outputs": [],
   "source": [
    "field_descriptions_gwi = {\n",
    "    \"organization_id\": \"id for organization/hospital\",\n",
    "    \"hospital_region\": \"region of hospital, such as Region 1, Region 2, etc\",\n",
    "    \"hospital_type\": \"type of hospital, such as Mature, Flagship, Distinct, BPJS, Ramping Up, and Hospital Services\",\n",
    "    \"archetype\": \"archetype of hospital, such as Value Seeker, Premium, and BPJS\",\n",
    "    \"hospital_name\": \"name of hospital such as Siloam Hospitals Lippo Village, Siloam Hospitals Kebon Jeruk, MRCCC Siloam Hospitals Semanggi, etc\",\n",
    "    \"hospital_address\": \"address of hospital such as Jl. Siloam No. 6, Lippo Village, Tangerang, Banten, Indonesia, Jl. Panjang No. 26, Kebon Jeruk, Jakarta Barat, DKI Jakarta, Indonesia, Jl. Garnisun Dalam No. 2-3, Karet Semanggi, Setiabudi, Jakarta Selatan, DKI Jakarta, Indonesia, etc\",\n",
    "    \"hospital_code\": \"code of hospital unit such as SHLV, SHKJ, MRCCC, etc\",\n",
    "    \"month\": \"month of year, such as 1, 2, 3, etc\",\n",
    "    \"year\": \"year of data, such as 2023, 2022, etc\",\n",
    "    \"gwi_score\": \"group wide indicator (gwi) score of siloam hospital\",\n",
    "    \"rank_unit_top\": \"ranking of hospital unit based on gwi score at that period of data, 1 is the highest\",\n",
    "    \"rank_unit_bottom\": \"ranking of hospital unit based on gwi score at that period of data, 1 is the lowest\",\n",
    "    \"month_year\": \"month and year of data, such as 12022, 22022, etc\",\n",
    "    \"quarter_year\": \"quarter and year of data, such as Q1-2022, Q2-2022, etc\",\n",
    "    \"semester_year\": \"semester and year of data, such as S1-2022, S2-2022, etc\",\n",
    "}"
   ]
  },
  {
   "cell_type": "code",
   "execution_count": 8,
   "metadata": {},
   "outputs": [
    {
     "name": "stdout",
     "output_type": "stream",
     "text": [
      "/Users/donnymirzaadhitama/workspace/others/chatbot-llm/exports/charts/temp_chart.png\n"
     ]
    },
    {
     "data": {
      "image/png": "[encoded data removed]",
      "text/plain": [
       "<Figure size 1200x600 with 1 Axes>"
      ]
     },
     "metadata": {},
     "output_type": "display_data"
    }
   ],
   "source": [
    "# ref: https://github.com/Sinaptik-AI/pandas-ai/issues/971\n",
    "gwi_score_connector = GoogleBigQueryConnector(\n",
    "    config={\n",
    "        \"credentials_path\" : \"service_account/dwh-siloam-99402e61edd2.json\",\n",
    "        \"database\" : \"GWI_LLM\",\n",
    "        \"table\" : \"gwi_score_view\",\n",
    "        \"projectID\" : \"dwh-siloam\",\n",
    "        # \"where\": [\n",
    "        #     # this is optional and filters the data to\n",
    "        #     # reduce the size of the dataframe\n",
    "        #     [\"loan_status\", \"=\", \"PAIDOFF\"],\n",
    "        # ],\n",
    "    },\n",
    "    field_descriptions=field_descriptions_gwi,\n",
    ")\n",
    "\n",
    "df_gwi = SmartDataframe(gwi_score_connector)\n",
    "response = df_gwi.chat(\"Tampilkan chart 5 hospital dengan gwi score tertinggi di bulan januari 2023\")\n",
    "print(response)"
   ]
  },
  {
   "cell_type": "code",
   "execution_count": 32,
   "metadata": {},
   "outputs": [
    {
     "data": {
      "text/html": [
       "<div>\n",
       "<style scoped>\n",
       "    .dataframe tbody tr th:only-of-type {\n",
       "        vertical-align: middle;\n",
       "    }\n",
       "\n",
       "    .dataframe tbody tr th {\n",
       "        vertical-align: top;\n",
       "    }\n",
       "\n",
       "    .dataframe thead th {\n",
       "        text-align: right;\n",
       "    }\n",
       "</style>\n",
       "<table border=\"1\" class=\"dataframe\">\n",
       "  <thead>\n",
       "    <tr style=\"text-align: right;\">\n",
       "      <th></th>\n",
       "      <th>organization_id</th>\n",
       "      <th>hospital_region</th>\n",
       "      <th>hospital_type</th>\n",
       "      <th>archetype</th>\n",
       "      <th>hospital_name</th>\n",
       "      <th>hospital_address</th>\n",
       "      <th>hospital_code</th>\n",
       "      <th>month</th>\n",
       "      <th>year</th>\n",
       "      <th>gwi_score</th>\n",
       "      <th>rank_unit_top</th>\n",
       "      <th>rank_unit_bottom</th>\n",
       "      <th>month_year</th>\n",
       "      <th>quarter_year</th>\n",
       "      <th>semester_year</th>\n",
       "    </tr>\n",
       "  </thead>\n",
       "  <tbody>\n",
       "    <tr>\n",
       "      <th>0</th>\n",
       "      <td>27.0</td>\n",
       "      <td>Region 1</td>\n",
       "      <td>Distinct</td>\n",
       "      <td>Premium</td>\n",
       "      <td>Siloam Hospitals Asri</td>\n",
       "      <td>Jl. Duren Tiga Raya No. 20 Jakarta, 12760</td>\n",
       "      <td>ASRI</td>\n",
       "      <td>5</td>\n",
       "      <td>2022</td>\n",
       "      <td>73.302052</td>\n",
       "      <td>15</td>\n",
       "      <td>26</td>\n",
       "      <td>52022</td>\n",
       "      <td>Q2-2022</td>\n",
       "      <td>S1-2022</td>\n",
       "    </tr>\n",
       "    <tr>\n",
       "      <th>1</th>\n",
       "      <td>3.0</td>\n",
       "      <td>Region 1</td>\n",
       "      <td>Flagship</td>\n",
       "      <td>Premium</td>\n",
       "      <td>Siloam Hospitals Kebon Jeruk</td>\n",
       "      <td>Jl. Raya Pejuangan Kav 8 Kebon Jeruk, Jakarta ...</td>\n",
       "      <td>SHKJ</td>\n",
       "      <td>8</td>\n",
       "      <td>2023</td>\n",
       "      <td>84.244482</td>\n",
       "      <td>20</td>\n",
       "      <td>22</td>\n",
       "      <td>82023</td>\n",
       "      <td>Q3-2023</td>\n",
       "      <td>S2-2023</td>\n",
       "    </tr>\n",
       "    <tr>\n",
       "      <th>2</th>\n",
       "      <td>33.0</td>\n",
       "      <td>Region 4</td>\n",
       "      <td>Mature</td>\n",
       "      <td>Value Seeker</td>\n",
       "      <td>Siloam Hospitals Palangkaraya</td>\n",
       "      <td>Null</td>\n",
       "      <td>SHPR</td>\n",
       "      <td>2</td>\n",
       "      <td>2022</td>\n",
       "      <td>61.174114</td>\n",
       "      <td>32</td>\n",
       "      <td>9</td>\n",
       "      <td>22022</td>\n",
       "      <td>Q1-2022</td>\n",
       "      <td>S1-2022</td>\n",
       "    </tr>\n",
       "  </tbody>\n",
       "</table>\n",
       "</div>"
      ],
      "text/plain": [
       "   organization_id hospital_region hospital_type     archetype  \\\n",
       "0             27.0        Region 1      Distinct       Premium   \n",
       "1              3.0        Region 1      Flagship       Premium   \n",
       "2             33.0        Region 4        Mature  Value Seeker   \n",
       "\n",
       "                   hospital_name  \\\n",
       "0          Siloam Hospitals Asri   \n",
       "1   Siloam Hospitals Kebon Jeruk   \n",
       "2  Siloam Hospitals Palangkaraya   \n",
       "\n",
       "                                    hospital_address hospital_code  month  \\\n",
       "0          Jl. Duren Tiga Raya No. 20 Jakarta, 12760          ASRI      5   \n",
       "1  Jl. Raya Pejuangan Kav 8 Kebon Jeruk, Jakarta ...          SHKJ      8   \n",
       "2                                               Null          SHPR      2   \n",
       "\n",
       "   year  gwi_score  rank_unit_top  rank_unit_bottom month_year quarter_year  \\\n",
       "0  2022  73.302052             15                26      52022      Q2-2022   \n",
       "1  2023  84.244482             20                22      82023      Q3-2023   \n",
       "2  2022  61.174114             32                 9      22022      Q1-2022   \n",
       "\n",
       "  semester_year  \n",
       "0       S1-2022  \n",
       "1       S2-2023  \n",
       "2       S1-2022  "
      ]
     },
     "execution_count": 32,
     "metadata": {},
     "output_type": "execute_result"
    }
   ],
   "source": [
    "df_gwi.head_df"
   ]
  },
  {
   "cell_type": "code",
   "execution_count": 9,
   "metadata": {},
   "outputs": [],
   "source": [
    "description = \"\"\"\n",
    "You are Analytics Department in Siloam Hospitals Group,\n",
    "Your task is to answer questions related to operational data and analytics accross Siloam Hospitals in Indonesia.\n",
    "You CAN ONLY answer questions that are related to operational of Siloam Hospitals in Indonesia, and allowed to politely reject other than that.\n",
    "The question have to be in Indonesian language and the answer should be also in Indonesia language.\n",
    "\"\"\""
   ]
  },
  {
   "cell_type": "code",
   "execution_count": 16,
   "metadata": {},
   "outputs": [
    {
     "name": "stdout",
     "output_type": "stream",
     "text": [
      "/Users/donnymirzaadhitama/workspace/others/chatbot-llm/exports/charts/temp_chart.png\n"
     ]
    },
    {
     "data": {
      "image/png": "[encoded data removed]",
      "text/plain": [
       "<Figure size 640x480 with 1 Axes>"
      ]
     },
     "metadata": {},
     "output_type": "display_data"
    }
   ],
   "source": [
    "agent = Agent(\n",
    "    gwi_score_connector,\n",
    "    config={\"llm\": llm},\n",
    "    description=description,\n",
    ")\n",
    "response = agent.chat(\"Berikan nilai rata-rata GWI Score untuk Setiap Archetype pada bulan Agustus 2023\")\n",
    "print(response)"
   ]
  },
  {
   "cell_type": "code",
   "execution_count": 35,
   "metadata": {},
   "outputs": [
    {
     "data": {
      "text/plain": [
       "'/Users/donnymirzaadhitama/workspace/others/chatbot-llm/exports/charts/temp_chart.png'"
      ]
     },
     "execution_count": 35,
     "metadata": {},
     "output_type": "execute_result"
    },
    {
     "data": {
      "image/png": "[encoded data removed]",
      "text/plain": [
       "<Figure size 1000x500 with 1 Axes>"
      ]
     },
     "metadata": {},
     "output_type": "display_data"
    }
   ],
   "source": [
    "agent.chat(\"Bagaimana dengan bulan sebelumnya?\")"
   ]
  },
  {
   "cell_type": "code",
   "execution_count": 36,
   "metadata": {},
   "outputs": [
    {
     "name": "stdout",
     "output_type": "stream",
     "text": [
      " To generate the code, I first identified the request from the user, which was to compare the average GWI scores for each archetype in the previous month (July 2023) with the current month (August 2023).\n",
      "\n",
      "I started by creating a dataframe for the previous month (July 2023) using the `query()` function to filter the data. Then, I calculated the average GWI score for each archetype in that month using the `groupby()` and `mean()` functions.\n",
      "\n",
      "Next, I created a bar chart to visualize the average GWI scores for both July and August 2023. I used the `plt.bar()` function to create the bars and specified the colors and labels for each month. I also added labels to the x and y axes and a title to the chart.\n",
      "\n",
      "Finally, I saved the chart as an image file using the `plt.savefig()` function and returned the path to the image file as the result.\n"
     ]
    }
   ],
   "source": [
    "explanation = agent.explain()\n",
    "print(explanation)"
   ]
  },
  {
   "cell_type": "code",
   "execution_count": 37,
   "metadata": {},
   "outputs": [
    {
     "name": "stdout",
     "output_type": "stream",
     "text": [
      "prev_month_df = dfs[0].query('month == 1 and year == 2023')\n",
      "prev_month_gwi_score = prev_month_df.groupby('archetype')['gwi_score'].mean()\n",
      "plt.figure(figsize=(10, 5))\n",
      "plt.bar(prev_month_gwi_score.index, prev_month_gwi_score, color='blue', label='July 2023')\n",
      "plt.bar(dfs[0].groupby('archetype')['gwi_score'].mean().index, dfs[0].groupby('archetype')['gwi_score'].mean(), color='orange', label='August 2023')\n",
      "plt.xlabel('Archetype')\n",
      "plt.ylabel('Average GWI Score')\n",
      "plt.title('Comparison of Average GWI Scores in July and August 2023')\n",
      "plt.legend()\n",
      "plt.savefig('/Users/donnymirzaadhitama/workspace/others/chatbot-llm/exports/charts/temp_chart.png')\n",
      "result = {'type': 'plot', 'value': '/Users/donnymirzaadhitama/workspace/others/chatbot-llm/exports/charts/temp_chart.png'}\n"
     ]
    }
   ],
   "source": [
    "print(agent.last_code_executed)"
   ]
  },
  {
   "cell_type": "markdown",
   "metadata": {},
   "source": [
    "## Add more tables"
   ]
  },
  {
   "cell_type": "code",
   "execution_count": 10,
   "metadata": {},
   "outputs": [],
   "source": [
    "field_descriptions_indicator = {\n",
    "    \"organization_id\": \"id for organization/hospital\",\n",
    "    \"hospital_name\": \"name of hospital such as Siloam Hospitals Lippo Village, Siloam Hospitals Kebon Jeruk, MRCCC Siloam Hospitals Semanggi, etc\",\n",
    "    \"hospital_code\": \"code of hospital unit such as SHLV, SHKJ, MRCCC, etc\",\n",
    "    \"hospital_region\": \"region of hospital, such as Region 1, Region 2, etc\",\n",
    "    \"hospital_type\": \"type of hospital, such as Mature, Flagship, Distinct, BPJS, Ramping Up, and Hospital Services\",\n",
    "    \"archetype\": \"archetype of hospital, such as Value Seeker, Premium, and BPJS\",\n",
    "    \"hospital_group\": \"hospital group, such as Group 1, Group 2\",\n",
    "    \"month\": \"month of year, such as 1, 2, 3, etc\",\n",
    "    \"year\": \"year of data, such as 2023, 2022, etc\",\n",
    "    \"month_year\": \"month and year of data, such as 12022, 22022, etc\",\n",
    "    \"quarter_year\": \"quarter and year of data, such as Q1-2022, Q2-2022, etc\",\n",
    "    \"semester_year\": \"semester and year of data, such as S1-2022, S2-2022, etc\",\n",
    "    \"indicator_id\": \"id of indicator, such as C-DQ/0, C-DQ/1, etc\",\n",
    "    \"target\": \"target of indicator value in numeric, such as 100.0, 90.0, 0.0 etc\",\n",
    "    \"rules\": \"rules of indicator, such as >=, <=, and null\",\n",
    "    \"avg_indicator_numerator_month\": \"average numerator of indicator value in month\",\n",
    "    \"avg_indicator_denumerator_month\": \"average denominator of indicator value in month\",\n",
    "    \"avg_num_result\": \"average result of indicator in month (avg_num_month/avg_denum_month)\",\n",
    "    \"traffic_light_month\": \"traffic light of indicator in month, such as red, yellow, green, and null\",\n",
    "    \"perspective\": \"perspective of indicator, such as Internal Process, Customer, Financial, and Learning & Growth\",\n",
    "    \"category\": \"category of indicator, such as Clinical Governance, OPD Transformation, OPD Transformation - Goals, etc\",\n",
    "    \"is_gwi_index\": \"indicator is GWI index or not\",\n",
    "    \"unit\": \"unit of indicator, such as %, Minute, hours, Days, and null\",\n",
    "    \"avg_indicator_result_month\": \"average indicator result value in month\",\n",
    "    \"indicators\": \"names of indicator, such as Procedure Duration On Time, Call performance - Medical Check Up, etc\",\n",
    "    \"indicators_\": \"information of target indicator such as *Call performance - Operator -- (Target = 80%), *Delayed Elective Surgery > 60 mins -- (Target = 5%), etc\",\n",
    "    \"is_use\": \"indicator is used or not\"\n",
    "}"
   ]
  },
  {
   "cell_type": "code",
   "execution_count": 11,
   "metadata": {},
   "outputs": [],
   "source": [
    "gwi_indicator_connector = GoogleBigQueryConnector(\n",
    "    config={\n",
    "        \"credentials_path\" : \"service_account/dwh-siloam-99402e61edd2.json\",\n",
    "        \"database\" : \"GWI_LLM\",\n",
    "        \"table\" : \"indicator_result_view\",\n",
    "        \"projectID\" : \"dwh-siloam\",\n",
    "        # \"where\": [\n",
    "        #     # this is optional and filters the data to\n",
    "        #     # reduce the size of the dataframe\n",
    "        #     [\"loan_status\", \"=\", \"PAIDOFF\"],\n",
    "        # ],\n",
    "    },\n",
    "    field_descriptions=field_descriptions_gwi,\n",
    ")"
   ]
  },
  {
   "cell_type": "code",
   "execution_count": 12,
   "metadata": {},
   "outputs": [],
   "source": [
    "field_descriptions_opd = {\n",
    "\t\"patient_visit_id\": \"unique identifier for each patient visit\",\n",
    "\t\"PatientNameMYSILOAM\": \"patient's name as recorded in the MYSILOAM system\",\n",
    "\t\"PatientNameBIDWH\": \"patient's name as recorded in the MYSILOAM system\",\n",
    "\t\"organization_id\": \"id for organization/hospital\",\n",
    "\t\"hospital_region\": \"region of hospital, such as Region 1, Region 2, etc\",\n",
    "\t\"hospital_type\": \"type of hospital, such as Mature, Flagship, Distinct, BPJS, Ramping Up, and Hospital Services\",\n",
    "\t\"hospital_id\": \"alpha-numeric id for organization/hospital\",\n",
    "\t\"HospitalNameMYSILOAM\": \"hospital name as recorded in the MYSILOAM system, such as Siloam Hospitals Lippo Village, Siloam Hospitals ASRI, Siloam Hospitals Kelapa Dua, etc\",\n",
    "\t\"HospitalNameBIDWH\": \"hospital name as recorded in the BIDWH system, such as SHLV - Siloam Hospitals Lippo Village, ASRI - Siloam Hospitals Asri, RSUSKD - Siloam Hospitals Kelapa Dua, etc\",\n",
    "\t\"hospital_code\": \"code of hospital unit such as SHLV, ASRI, RSUSKD, etc\",\n",
    "\t\"new_time_zone\": \"time zone of the hospital, such as 07:00:00, 08:00:00, 09:00:00\",\n",
    "\t\"local_mr_no\": \"patient's medical record number at the local hospital\",\n",
    "\t\"admission_number\": \"admission number for the patient visit\",\n",
    "\t\"admission_hope_id\": \"unique identifier for the admission in the HOPE system\",\n",
    "\t\"AdmissionTypeId\": \"id for type of admission\",\n",
    "\t\"LOB\": \"line of business, such as MCU, OPD\",\n",
    "\t\"doctor_hope_id\": \"unique identifier for the doctor in the HOPE system\",\n",
    "\t\"DoctorNameMYSILOAM\": \"doctor's name as recorded in the MYSILOAM system\",\n",
    "\t\"DoctorNameBIDWH\": \"doctor's name as recorded in the BIDWH system\",\n",
    "\t\"queue_no\": \"queue number for the patient visit\",\n",
    "\t\"patient_type_MYSILOAM\": \"patient type as recorded in the MYSILOAM system, such as private, payer\",\n",
    "\t\"patient_type_MYSILOAM2\": \"patient type as recorded in the MYSILOAM system (additional information), such as private, payer\",\n",
    "\t\"patient_type_key\": \"key for the patient type, such as PAT\",\n",
    "\t\"patient_type_value\": \"value for the patient type, such as 2, 1, 5, 4\",\n",
    "\t\"patient_type_HOPE\": \"value for the patient type as recorded in the HOPE system, such as PAYER, PRIVATE, PASSPORT, KITAS\",\n",
    "\t\"get_queue_number_datetime\": \"date and time when the patient got their queue number\",\n",
    "\t\"registration_datetime\": \"date and time when the patient registered for their visit\",\n",
    "\t\"checkin_datetime\": \"date and time when the patient checked in for their visit\",\n",
    "\t\"input_visit_number_datetime\": \"date and time when the patient's visit number was inputted\",\n",
    "\t\"call_nurse_datetime\": \"date and time when the nurse was called to see the patient\",\n",
    "\t\"first_assessment_datetime\": \"date and time when the patient's first assessment was completed\",\n",
    "\t\"call_doctor_datetime\": \"date and time when the doctor was called to see the patient\",\n",
    "\t\"submit_sign_datetime\": \"date and time when the patient submitted their signature or in other definition is an SOAP (Subjective, Objective, Assessment and Plan) time\",\n",
    "\t\"input_pembayaran_datetime\": \"date and time when the patient's payment information was inputted\",\n",
    "\t\"call_cashier_datetime\": \"date and time when the cashier was called to process the payment\",\n",
    "\t\"hope_invoice_datetime\": \"date and time when the HOPE invoice was generated\",\n",
    "\t\"is_nurse_coord_pharmacy\": \"indicates whether the nurse coordinated with the pharmacy\",\n",
    "\t\"is_nurse_coord_cashier\": \"indicates whether the nurse coordinated with the cashier\",\n",
    "\t\"nurse_coord_pharmacy_datetime\": \"date and time when the nurse coordinated with the pharmacy\",\n",
    "\t\"nurse_coord_cashier_datetime\": \"date and time when the nurse coordinated with the cashier\",\n",
    "\t\"nurse_input_mr_datetime\": \"date and time when the nurse inputted the patient's medical record\",\n",
    "\t\"verify_prescription_datetime\": \"date and time when the prescription was verified\",\n",
    "\t\"confirm_worklist_datetime\": \"date and time when the worklist was confirmed\",\n",
    "\t\"call_worklist_datetime\": \"date and time when the worklist was called or in other terms is the pharmacy call time\",\n",
    "\t\"first_click_emr_doctor_datetime\": \"date and time when the doctor first clicked on the EMR\",\n",
    "\t\"appointment_date\": \"date of the patient's appointment\",\n",
    "\t\"appointment_time\": \"time of the patient's appointment\",\n",
    "\t\"admission_date\": \"date of the patient's admission\",\n",
    "\t\"admission_datetime\": \"date and time of the patient's admission\",\n",
    "\t\"admission_day\": \"date of the patient's admission\",\n",
    "\t\"admission_month\": \"month of the patient's admission\",\n",
    "\t\"admission_year\": \"year of the patient's admission\",\n",
    "\t\"billing_datetime\": \"date and time when the patient was billed\",\n",
    "\t\"processing_emr_pharmacy_datetime\": \"date and time when the EMR was processed by the pharmacy\",\n",
    "\t\"check_emr_pharmacy_datetime\": \"date and time when the EMR was checked by the pharmacy\",\n",
    "\t\"done_emr_pharmacy_datetime\": \"date and time when the EMR was completed by the pharmacy\",\n",
    "\t\"drug_status\": \"status of the patient's medication, such as Racikan, Non Racikan\",\n",
    "\t\"is_contactless\": \"indicates whether the patient's visit was contactless\",\n",
    "\t\"PayerNameMYSILOAM\": \"name of the patient's payer as recorded in the MYSILOAM system\",\n",
    "\t\"PayerNameBIDWH\": \"name of the patient's payer as recorded in the BIDWH system\",\n",
    "\t\"Archetype\": \"archetype of hospital, such as Value Seeker, Premium, and BPJS\",\n",
    "\t\"GroupId\": \"unique identifier for the patient's payer group, such as 4, 8, 3, 7, etc\",\n",
    "\t\"PayerNameGroupBI_SILOAM1\": \"name of the patient's payer group as recorded in the BI_SILOAM1 system, such as Third Parties - Insurance Government (Non-BPJS), Third Parties - Corporate, Third Partied - Corporate Guarantee, Third Parties - Employee, etc\",\n",
    "\t\"PayerNameGroupBI_SILOAM2\": \"name of the patient's payer group as recorded in the BI_SILOAM2 system, such as BPJS, OPE, KMK, Government, etc\",\n",
    "\t\"PayerGroupCode\": \"code for the patient's payer group, such as 140, 213, 120, etc\",\n",
    "\t\"user_regis\": \"user who registered the patient\",\n",
    "\t\"queue_line_regis\": \"queue line where the patient was registered, such as FO Ruang Kaca, Antrian Touchless SHLC, Antrian Touchless SHPL, Sunday / Holiday Clinic, etc\",\n",
    "\t\"button_name_regis\": \"name of the button clicked to register the patient, such as P. Medis, CUSTOMER SERVICE, E. BPJS Walk-in Poli Pagi, Sudah Bayar, etc\",\n",
    "\t\"first_assessment_user\": \"user who performed the patient's first assessment\",\n",
    "\t\"first_click_doctor_datetime\": \"date and time when the doctor first clicked on the patient's record\",\n",
    "\t\"is_express_checkout\": \"indicates whether the patient used express checkout\",\n",
    "\t\"store_loc\": \"location of the store where the patient picked up their medication, such as PHARMACY PEDIATRIC, PHARMACY 2F OPD, PHARMACY CENTRAL 2ND FLOOR, PHARMACY EXPIRED, etc\",\n",
    "\t\"pharmacy_user\": \"user who processed the patient's medication order\",\n",
    "\t\"user_cashier\": \"user who processed the patient's payment\",\n",
    "\t\"queue_line_cashier\": \"queue line where the patient paid for their medication, such as Poli Bedah, Kasir Front Office, SHASRI FO LT.2, Sunday / Holiday Clinic, OPD UMUM, etc\",\n",
    "\t\"button_name_cashier\": \"name of the button clicked to process the patient's payment, such as PLN, Kasir Jaminan Vida, Kasir VIDA (ASURANSI), Kasir Jaminan SHG, etc\",\n",
    "\t\"cancel_reason\": \"reason for the patient's visit being cancelled\",\n",
    "\t\"is_rad\": \"indicates whether the patient had radiology services during their visit\",\n",
    "\t\"is_lab\": \"indicates whether the patient had laboratory services during their visit\",\n",
    "\t\"is_pharmacy\": \"indicates whether the patient had pharmacy services during their visit\",\n",
    "\t\"add_medical_order_time\": \"date and time when the medical order was added\",\n",
    "\t\"user_phar_verify\": \"user who verified the patient's prescription\",\n",
    "\t\"counter_farmasi\": \"counter where the patient picked up their medication, such as Floor 0 - Farmasi, Floor Mezzanine - Farmasi, Floor - Farmasi, Floor 7 - Farmasi, etc\",\n",
    "\t\"craft_group\": \"craft group of the patient's visit, such as Kedokteran Nuklir, Andrologi, Kedokteran Okupasi, Pediatri (Anak), etc\",\n",
    "\t\"craft_group2\": \"craft group of the patient's visit (additional information), such as SURGERY, CARDIOLOGY, ANESTHESIOLOGY, NUCLEAR MEDICINE, etc\",\n",
    "}"
   ]
  },
  {
   "cell_type": "code",
   "execution_count": 13,
   "metadata": {},
   "outputs": [],
   "source": [
    "opd_connector = GoogleBigQueryConnector(\n",
    "    config={\n",
    "        \"credentials_path\" : \"service_account/dwh-siloam-99402e61edd2.json\",\n",
    "        \"database\" : \"OPD\",\n",
    "        \"table\" : \"Operational_Dashboard\",\n",
    "        \"projectID\" : \"dwh-siloam\",\n",
    "        # \"where\": [\n",
    "        #     # this is optional and filters the data to\n",
    "        #     # reduce the size of the dataframe\n",
    "        #     [\"loan_status\", \"=\", \"PAIDOFF\"],\n",
    "        # ],\n",
    "    },\n",
    "    field_descriptions=field_descriptions_opd,\n",
    ")"
   ]
  },
  {
   "cell_type": "code",
   "execution_count": 14,
   "metadata": {},
   "outputs": [],
   "source": [
    "embedding_model = VertexAIEmbeddings(\n",
    "    model_name=config.GCP_EMBEDDING_MODEL_NAME, \n",
    ")"
   ]
  },
  {
   "cell_type": "code",
   "execution_count": 33,
   "metadata": {},
   "outputs": [],
   "source": [
    "prompt = \"\"\"\n",
    "You will be asked a question in Indonesian language.\n",
    "You need to answer the question also in Indonesian.\n",
    "If you provide a table or chart or both of them in the answer, you have to give an explanation and analyze it using your own reasoning in Indonesian language.\n",
    "\n",
    "Question: {question}\n",
    "\"\"\""
   ]
  },
  {
   "cell_type": "code",
   "execution_count": null,
   "metadata": {},
   "outputs": [],
   "source": []
  },
  {
   "cell_type": "code",
   "execution_count": 34,
   "metadata": {},
   "outputs": [
    {
     "name": "stdout",
     "output_type": "stream",
     "text": [
      "      archetype  gwi_score\n",
      "0          BPJS  84.220152\n",
      "1       Premium  81.359223\n",
      "2  Value Seeker  81.208348\n"
     ]
    }
   ],
   "source": [
    "# vectorstore = ChromaDB(\n",
    "#     collection_name=\"gwi_kb\",\n",
    "#     embedding_model=embedding_model,\n",
    "# )\n",
    "\n",
    "with open(\"dataset/GWI_KB_25_Mar_2024.txt\", \"r\") as f:\n",
    "    docs = f.read()\n",
    "\n",
    "agent = Agent(\n",
    "    [\n",
    "        gwi_score_connector, \n",
    "        gwi_indicator_connector,\n",
    "        opd_connector,\n",
    "    ],\n",
    "    config={\n",
    "        \"llm\": llm,\n",
    "        \"verbose\": True,\n",
    "    },\n",
    "    description=description,\n",
    "    # vectorstore=vectorstore,\n",
    ")\n",
    "# agent.train(docs=docs)\n",
    "\n",
    "question = \"Berikan nilai rata-rata GWI Score untuk Setiap Archetype pada Mei 2023\"\n",
    "response = agent.chat(prompt.format(question=question))\n",
    "print(response)"
   ]
  },
  {
   "cell_type": "code",
   "execution_count": 28,
   "metadata": {},
   "outputs": [
    {
     "name": "stdout",
     "output_type": "stream",
     "text": [
      "        organization_id               hospital_name hospital_code  \\\n",
      "101638                5   Siloam Hospitals Surabaya          SHSB   \n",
      "102890                5   Siloam Hospitals Surabaya          SHSB   \n",
      "103089                5   Siloam Hospitals Surabaya          SHSB   \n",
      "103090                5   Siloam Hospitals Surabaya          SHSB   \n",
      "103288                5   Siloam Hospitals Surabaya          SHSB   \n",
      "104037                5   Siloam Hospitals Surabaya          SHSB   \n",
      "\n",
      "       hospital_region hospital_type archetype  month  month_year  \\\n",
      "101638        Region 3        Mature   Premium      3       32024   \n",
      "102890        Region 3        Mature   Premium      1       12024   \n",
      "103089        Region 3        Mature   Premium      1       12023   \n",
      "103090        Region 3        Mature   Premium      2       22024   \n",
      "103288        Region 3        Mature   Premium      3       32023   \n",
      "104037        Region 3        Mature   Premium      2       22023   \n",
      "\n",
      "       quarter_year semester_year  ...  avg_indicator_denumerator_month  \\\n",
      "101638      Q1-2024       S1-2024  ...                           3712.0   \n",
      "102890      Q1-2024       S1-2024  ...                           4138.0   \n",
      "103089      Q1-2023       S1-2023  ...                           3624.0   \n",
      "103090      Q1-2024       S1-2024  ...                           3624.0   \n",
      "103288      Q1-2023       S1-2023  ...                           3515.0   \n",
      "104037      Q1-2023       S1-2023  ...                           3450.0   \n",
      "\n",
      "             perspective            category  is_gwi_index    unit  \\\n",
      "101638  Internal Process  OPD Transformation          True  Minute   \n",
      "102890  Internal Process  OPD Transformation          True  Minute   \n",
      "103089  Internal Process  OPD Transformation          True  Minute   \n",
      "103090  Internal Process  OPD Transformation          True  Minute   \n",
      "103288  Internal Process  OPD Transformation          True  Minute   \n",
      "104037  Internal Process  OPD Transformation          True  Minute   \n",
      "\n",
      "        avg_indicator_result_month  \\\n",
      "101638                    1.904256   \n",
      "102890                    1.155441   \n",
      "103089                    0.548091   \n",
      "103090                    1.277686   \n",
      "103288                    0.554708   \n",
      "104037                    0.696671   \n",
      "\n",
      "                                         indicators  \\\n",
      "101638  Cashier waiting time - OPE (single Q - OPD)   \n",
      "102890  Cashier waiting time - OPE (single Q - OPD)   \n",
      "103089  Cashier waiting time - OPE (single Q - OPD)   \n",
      "103090  Cashier waiting time - OPE (single Q - OPD)   \n",
      "103288  Cashier waiting time - OPE (single Q - OPD)   \n",
      "104037  Cashier waiting time - OPE (single Q - OPD)   \n",
      "\n",
      "                                   indicators_with_target is_automation  \\\n",
      "101638  *Cashier waiting time - OPE (single Q - OPD) -...          True   \n",
      "102890  *Cashier waiting time - OPE (single Q - OPD) -...          True   \n",
      "103089  *Cashier waiting time - OPE (single Q - OPD) -...          True   \n",
      "103090  *Cashier waiting time - OPE (single Q - OPD) -...          True   \n",
      "103288  *Cashier waiting time - OPE (single Q - OPD) -...          True   \n",
      "104037  *Cashier waiting time - OPE (single Q - OPD) -...          True   \n",
      "\n",
      "        is_use  \n",
      "101638   False  \n",
      "102890   False  \n",
      "103089    True  \n",
      "103090   False  \n",
      "103288    True  \n",
      "104037    True  \n",
      "\n",
      "[6 rows x 26 columns]\n"
     ]
    }
   ],
   "source": [
    "question = \"\"\"\n",
    "Bagaimana result indikator C-AO/32 pada hospital code SHSB di bulan maret 2024 jika dibandingkan dengan result bulan-bulan sebelumnya?\n",
    "\"\"\"\n",
    "response = agent.chat(question)\n",
    "print(response)"
   ]
  },
  {
   "cell_type": "code",
   "execution_count": 29,
   "metadata": {},
   "outputs": [
    {
     "name": "stdout",
     "output_type": "stream",
     "text": [
      "df_filtered = dfs[1][(dfs[1]['hospital_code'] == 'SHSB') & (dfs[1]['indicator_id'] == 'C-AO/32')]\n",
      "df_filtered = df_filtered[df_filtered['month'].isin([1, 2, 3])]\n",
      "result = {'type': 'dataframe', 'value': df_filtered}\n"
     ]
    }
   ],
   "source": [
    "code = agent.last_code_executed\n",
    "print(code)"
   ]
  },
  {
   "cell_type": "code",
   "execution_count": 46,
   "metadata": {},
   "outputs": [
    {
     "data": {
      "text/plain": [
       "'2.0.43'"
      ]
     },
     "execution_count": 46,
     "metadata": {},
     "output_type": "execute_result"
    }
   ],
   "source": [
    "import pandasai\n",
    "pandasai.__version__"
   ]
  }
 ],
 "metadata": {
  "kernelspec": {
   "display_name": "Python 3",
   "language": "python",
   "name": "python3"
  },
  "language_info": {
   "codemirror_mode": {
    "name": "ipython",
    "version": 3
   },
   "file_extension": ".py",
   "mimetype": "text/x-python",
   "name": "python",
   "nbconvert_exporter": "python",
   "pygments_lexer": "ipython3",
   "version": "3.1.undefined"
  }
 },
 "nbformat": 4,
 "nbformat_minor": 2
}
