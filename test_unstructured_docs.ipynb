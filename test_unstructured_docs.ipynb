{
 "cells": [
  {
   "cell_type": "code",
   "execution_count": 1,
   "metadata": {},
   "outputs": [
    {
     "name": "stdout",
     "output_type": "stream",
     "text": [
      "Project ID: dwh-siloam\n",
      "Region: asia-southeast1\n",
      "Checking Credentials...\n",
      "Using service account credentials from service_account folder\n",
      "Using service account file: /Users/donnymirzaadhitama/workspace/others/chatbot-llm/service_account/dwh-siloam-99402e61edd2.json\n"
     ]
    }
   ],
   "source": [
    "PROJECT_ID = 'dwh-siloam'\n",
    "REGION = 'asia-southeast1'\n",
    "print(f\"Project ID: {PROJECT_ID}\\nRegion: {REGION}\")\n",
    "\n",
    "# Initialize Vertex AI\n",
    "from pathlib import Path\n",
    "import vertexai\n",
    "from google.cloud import aiplatform\n",
    "\n",
    "print(f\"Checking Credentials...\")\n",
    "if not any((Path.cwd()/\"service_account\").glob('*.json')):\n",
    "    print(\"Service account folder is empty. Fallback using default gcloud account\")\n",
    "    aiplatform.init(project=PROJECT_ID, location=REGION)\n",
    "    vertexai.init(project=PROJECT_ID, location=REGION)\n",
    "else:\n",
    "    print('Using service account credentials from service_account folder')\n",
    "    from google.oauth2 import service_account\n",
    "    sa_file = list((Path.cwd()/\"service_account\").glob('*.json'))[0]\n",
    "    print(f\"Using service account file: {sa_file}\")\n",
    "    credentials = service_account.Credentials.from_service_account_file(sa_file)\n",
    "    aiplatform.init(project=PROJECT_ID, location=REGION, credentials=credentials)\n",
    "    vertexai.init(project=PROJECT_ID, location=REGION, credentials=credentials)\n",
    "\n",
    "# Import libraries\n",
    "from langchain_google_vertexai import VertexAI, ChatVertexAI, create_structured_runnable\n",
    "from langchain_core.prompts import ChatPromptTemplate\n",
    "from langchain_core.pydantic_v1 import BaseModel, Field\n",
    "\n",
    "from typing import List, Optional\n",
    "import requests\n",
    "\n",
    "from langchain_core.messages import HumanMessage, AIMessage\n",
    "from langchain_core.prompts import MessagesPlaceholder\n",
    "from settings import CopilotSettings\n",
    "import time\n",
    "\n",
    "import io\n",
    "from langchain_community.document_loaders import AzureAIDocumentIntelligenceLoader"
   ]
  },
  {
   "cell_type": "code",
   "execution_count": 2,
   "metadata": {},
   "outputs": [],
   "source": [
    "config = CopilotSettings()"
   ]
  },
  {
   "cell_type": "markdown",
   "metadata": {},
   "source": [
    "## Testing Azure Document Intelligence"
   ]
  },
  {
   "cell_type": "code",
   "execution_count": 3,
   "metadata": {},
   "outputs": [
    {
     "name": "stdout",
     "output_type": "stream",
     "text": [
      "----Key-value pairs found in document----\n",
      "Masuk if: Key 'Sex:': Value: 'Male /'\n",
      "Masuk if: Key 'Ph:': Value: '085399799077'\n",
      "Masuk if: Key 'MR No:': Value: 'MRCCC.00-42-94-47'\n",
      "Masuk if: Key 'DOB:': Value: '31-Dec-1971'\n",
      "Masuk if: Key 'Kepada TS :': Value: 'dr.'\n",
      "Masuk if: Key 'Internal': Value: ':selected:'\n",
      "Masuk if: Key 'Eksternal': Value: ':unselected:'\n",
      "Masuk if: Key 'Mohon konsultasi dan tindak lanjut untuk pasien dengan :': Value: 'Keluhan utama\n",
      "Bah- Kin'\n",
      "Masuk if: Key 'Hasil pemeriksaan yang ditemukan\n",
      ":': Value: 'difama\n",
      "Km .'\n",
      "Masuk if: Key 'Diagnosa\n",
      ":': Value: 'Saf Smilde'\n",
      "Masuk if: Key 'Konsultasi satu kali': Value: ':unselected:'\n",
      "Masuk if: Key 'Rawat bersama': Value: ':selected:'\n",
      "Masuk if: Key 'Alih rawat': Value: ':unselected:'\n",
      "Masuk if: Key 'Tanggal :': Value: '1120'\n",
      "----------------------------------------\n"
     ]
    }
   ],
   "source": [
    "\"\"\"\n",
    "This code sample shows Prebuilt Document operations with the Azure Form Recognizer client library. \n",
    "The async versions of the samples require Python 3.6 or later.\n",
    "\n",
    "To learn more, please visit the documentation - Quickstart: Form Recognizer Python client library SDKs\n",
    "https://learn.microsoft.com/azure/applied-ai-services/form-recognizer/quickstarts/get-started-v3-sdk-rest-api?view=doc-intel-3.1.0&pivots=programming-language-python\n",
    "\"\"\"\n",
    "\n",
    "from azure.core.credentials import AzureKeyCredential\n",
    "from azure.ai.formrecognizer import DocumentAnalysisClient\n",
    "\n",
    "\"\"\"\n",
    "Remember to remove the key from your code when you're done, and never post it publicly. For production, use\n",
    "secure methods to store and access your credentials. For more information, see \n",
    "https://docs.microsoft.com/en-us/azure/cognitive-services/cognitive-services-security?tabs=command-line%2Ccsharp#environment-variables-and-application-configuration\n",
    "\"\"\"\n",
    "endpoint = config.AZURE_DOCS_INT_ENDPOINT\n",
    "key = config.AZURE_DOCS_INT_API_KEY\n",
    "\n",
    "# sample document\n",
    "form_url = \"https://raw.githubusercontent.com/Azure-Samples/cognitive-services-REST-api-samples/master/curl/form-recognizer/sample-layout.pdf\"\n",
    "file_path = \"/Users/donnymirzaadhitama/workspace/bithealth/training_data/FPKS/2022082011446651_MRCCC_FPKS_VALE INDONESIA PT_OPA2208190466_KAMRULLAH ILYAS-1.pdf\"\n",
    "in_file = io.BytesIO(\n",
    "    open(file_path, 'rb').read()\n",
    ")\n",
    "\n",
    "document_analysis_client = DocumentAnalysisClient(\n",
    "        endpoint=endpoint, credential=AzureKeyCredential(key)\n",
    "    )\n",
    "    \n",
    "# poller = document_analysis_client.begin_analyze_document_from_url(\n",
    "#     model_id=\"prebuilt-document\",\n",
    "#     document_url=form_url\n",
    "# )\n",
    "poller = document_analysis_client.begin_analyze_document(\n",
    "    model_id=\"prebuilt-document\",\n",
    "    document=in_file\n",
    ")\n",
    "\n",
    "result = poller.result()\n",
    "\n",
    "print(\"----Key-value pairs found in document----\")\n",
    "for kv_pair in result.key_value_pairs:\n",
    "    if kv_pair.key and kv_pair.value:\n",
    "        print(\"Masuk if: Key '{}': Value: '{}'\".format(kv_pair.key.content, kv_pair.value.content))\n",
    "    else:\n",
    "        print(\"Masuk else: Key '{}': Value:\".format(kv_pair.key.content))\n",
    "\n",
    "print(\"----------------------------------------\")\n"
   ]
  },
  {
   "cell_type": "markdown",
   "metadata": {},
   "source": [
    "## Create object document loader"
   ]
  },
  {
   "cell_type": "code",
   "execution_count": 67,
   "metadata": {},
   "outputs": [],
   "source": [
    "from abc import ABC, abstractmethod\n",
    "from azure.ai.formrecognizer._models import AnalyzeResult\n",
    "from langchain_text_splitters.character import RecursiveCharacterTextSplitter, TextSplitter\n",
    "from typing import Any, List, Optional, Iterable, Iterator\n",
    "from azure.core.credentials import AzureKeyCredential\n",
    "from azure.ai.formrecognizer import DocumentAnalysisClient\n",
    "from langchain_core.documents import Document\n",
    "from langchain_community.document_loaders.blob_loaders import Blob\n",
    "from langchain_community.document_loaders.base import BaseLoader\n",
    "from langchain_community.document_loaders import PyPDFLoader\n",
    "\n",
    "class DocumentAnalyzer(ABC):\n",
    "    @abstractmethod\n",
    "    def analyze(\n",
    "        self,\n",
    "        file_path: str = None,\n",
    "        file_url: str = None,\n",
    "        **kwargs,\n",
    "    ) -> AnalyzeResult:\n",
    "        pass\n",
    "\n",
    "    @abstractmethod\n",
    "    def split_documents(\n",
    "        self,\n",
    "        documents: Iterable[AnalyzeResult]\n",
    "    ) -> List[Document]:\n",
    "        pass\n",
    "\n",
    "class UnstructuredDocumentAnalyzer(DocumentAnalyzer):\n",
    "    def __init__(\n",
    "        self,\n",
    "        endpoint: str,\n",
    "        key: str,\n",
    "        model_id: str = \"prebuilt-document\",\n",
    "        text_splitter: Optional[TextSplitter] = None,\n",
    "        embedding: Optional[str] = None,\n",
    "        **kwargs: Any,\n",
    "    ) -> None:\n",
    "        \"\"\" \n",
    "        Initialize a unstructured document analyzer\n",
    "        \"\"\"\n",
    "        super().__init__()\n",
    "        self.text_splitter = text_splitter\n",
    "        self.model_id = model_id\n",
    "        self.embedding = embedding\n",
    "        self.endpoint = endpoint\n",
    "        self.api_key = key\n",
    "\n",
    "    def analyze(\n",
    "        self,\n",
    "        file_path: Optional[str] = None,\n",
    "        file_url: Optional[str] = None,\n",
    "        **kwargs,\n",
    "    ) -> AnalyzeResult:\n",
    "        \"\"\" \n",
    "        Analyze\n",
    "        \"\"\"\n",
    "        document_analysis_client = DocumentAnalysisClient(\n",
    "            endpoint=self.endpoint, \n",
    "            credential=AzureKeyCredential(self.api_key)\n",
    "        )\n",
    "        assert (\n",
    "            file_path is not None or file_url is not None\n",
    "        ), \"file_path or file_url is required!\"\n",
    "        if file_url:\n",
    "            self.source = file_url\n",
    "            poller = document_analysis_client.begin_analyze_document_from_url(\n",
    "                model_id=self.model_id,\n",
    "                document_url=file_url\n",
    "            )\n",
    "        elif file_path:\n",
    "            self.source = file_path\n",
    "            blob = Blob.from_path(file_path)\n",
    "            with blob.as_bytes_io() as in_file:\n",
    "                poller = document_analysis_client.begin_analyze_document(\n",
    "                    model_id=self.model_id,\n",
    "                    document=in_file,\n",
    "                )\n",
    "        return poller.result()\n",
    "\n",
    "    def _get_dict_from_key_value_poller(\n",
    "        self,\n",
    "        poller_result: AnalyzeResult,\n",
    "        source: str = None,\n",
    "    ) -> dict:\n",
    "        dict_poller = {}\n",
    "        for kv_pair in poller_result.key_value_pairs:\n",
    "            if kv_pair.key not in dict_poller:\n",
    "                dict_poller[kv_pair.key.content] = {}\n",
    "                if \"value\" not in dict_poller[kv_pair.key.content]:\n",
    "                    dict_poller[kv_pair.key.content][\"value\"] = []\n",
    "                if \"confidence\" not in dict_poller[kv_pair.key.content]:\n",
    "                    dict_poller[kv_pair.key.content][\"confidence\"] = []\n",
    "\n",
    "            if kv_pair.key and kv_pair.value:\n",
    "                dict_poller[kv_pair.key.content][\"value\"].append(kv_pair.value.content)\n",
    "                dict_poller[kv_pair.key.content][\"confidence\"].append(kv_pair.confidence)\n",
    "            else:\n",
    "                dict_poller[kv_pair.key.content][\"value\"].append(None)\n",
    "                dict_poller[kv_pair.key.content][\"confidence\"].append(None)\n",
    "\n",
    "        dict_poller[\"source\"] = source\n",
    "        return dict_poller\n",
    "\n",
    "    def split_documents(\n",
    "        self, \n",
    "        documents: Iterable[AnalyzeResult]\n",
    "    ) -> List[Document]:\n",
    "        \"\"\"\n",
    "        Split poller result from document intelligence.\n",
    "        Note: Replaced the inherited split_documents method with additional metadata values\n",
    "        \"\"\"\n",
    "        texts, metadatas = [], []\n",
    "        for doc in documents:\n",
    "            texts.append(doc.content)\n",
    "            dict_poller = self._get_dict_from_key_value_poller(doc, self.source)\n",
    "            metadatas.append(dict_poller)\n",
    "        return self.text_splitter.create_documents(texts, metadatas=metadatas)\n",
    "    \n",
    "    def load(\n",
    "        self,\n",
    "        file_path: str,\n",
    "    ) -> List[Document]:\n",
    "        \"\"\" \n",
    "        Load large PDF documents such as paper or journal\n",
    "        \"\"\"\n",
    "        loader = PyPDFLoader(\n",
    "            file_path,\n",
    "            extract_images=True\n",
    "        )\n",
    "        return loader.load_and_split(self.text_splitter)"
   ]
  },
  {
   "cell_type": "code",
   "execution_count": 68,
   "metadata": {},
   "outputs": [
    {
     "data": {
      "text/plain": [
       "[Document(page_content='Lung Cancer 2020\\nEpidemiology, Etiology, and\\nPrevention\\nBrett C. Bade, MD, Charles S. Dela Cruz, MD, PhD *\\nNotable changes in lung cancer epidemiology and\\nprevention have occurred over the past decadeowing to changes in smoking patterns, ground-\\nbreaking advances in our understanding of the ge-\\nnetics of lung cancer, the immune system’s role inlung cancer control, and lung cancer treatment op-\\ntions. Despite these advances, lung cancer re-\\nmains the leading cause of cancer death.\\n1\\nWorldwide, there are more lung cancer casesand deaths since 2011, the number of smokers\\nincreased between 1980 and 2012,\\n2,3and lung\\ncancer rates are climbing in developing countriesin conjunction with tobacco smoking. In the United\\nStates, lower tobacco smoking rates have led to\\nreductions in lung cancer incidence and mortality,altered the demographics of patients developing\\nlung cancer, and heightened the importance of', metadata={'source': '/Users/donnymirzaadhitama/Documents/Lung Cancer 2020- Epidemiology, Etiology, and Prevention.pdf', 'page': 0}),\n",
       " Document(page_content='nontobacco risk factors. Although disease under-standing, treatment options, and outcomes for\\nlung cancer in the United States are improving,\\nsurvival continues to be low. Clinicians caring forpatients with lung cancer should be familiar withcurrent contemporary trends. This article reviewsthe epidemiology and etiology of lung cancer as\\nwell as preventive interventions.\\nEPIDEMIOLOGY OF LUNG CANCER\\nGlobal Lung Cancer Trends\\nGlobally, lung cancer cases and deaths are rising.In 2018, GLOBOCAN estimated 2.09 million new\\ncases (11.6% of total cancer cases) and 1.76\\nmillion deaths (18.4% of total cancer deaths),\\n4,5\\nhigher than 2012 reported rates (1.8 million new\\ncases and 1.6 million deaths),6making it the\\nmost frequent cancer and cause of cancer death\\nin men and women combined ( Fig. 1 A, B),5,7and\\nin women, the third most common cancer type\\nand the second most common cause of cancer\\ndeath ( Fig. 1 C).5,7\\nBetween countries, significant variation in lung', metadata={'source': '/Users/donnymirzaadhitama/Documents/Lung Cancer 2020- Epidemiology, Etiology, and Prevention.pdf', 'page': 0}),\n",
       " Document(page_content='cancer incidence and demographic distribution\\nare noted, and tobacco smoking rates and stageof economic development influence these pat-\\nterns. Although cancer statistics in developing\\ncountries are less reliable, lung cancer incidenceis expected to increase in developing regions\\nFunding Sources for this work: None.\\nDepartment of Medicine, Section of Pulmonary, Critical Care, and Sleep Medicine, Yale University School of\\nMedicine, PO Box 208057, 300 Cedar Street TAC-441 South, New Haven, CT 06520-8057, USA* Corresponding author.\\nE-mail address: charles.delacruz@yale.edu\\nKEYWORDS\\n/C15Lung cancer /C15Tobacco smoking /C15Epidemiology /C15Etiology /C15Prevention\\nKEY POINTS\\n/C15Lung cancer is on the rise globally and is the most common cause of cancer death.\\n/C15Tobacco smoking remains the biggest risk factor for lung cancer.\\n/C15In the United States, lung cancer incidence, mortality, and survival are improving, although risk of', metadata={'source': '/Users/donnymirzaadhitama/Documents/Lung Cancer 2020- Epidemiology, Etiology, and Prevention.pdf', 'page': 0}),\n",
       " Document(page_content='disease development and outcomes vary by age, gender, race, and socioeconomic status.\\n/C15Nontobacco risk factors including environmental and occupational exposures, chronic lung dis-\\nease, and lifestyle factors contribute to lung cancer risk.\\nClin Chest Med 41 (2020) 1–24\\nhttps://doi.org/10.1016/j.ccm.2019.10.0010272-5231/20/ /C2112019 Elsevier Inc. All rights reserved.\\nchestmed.theclinics.com', metadata={'source': '/Users/donnymirzaadhitama/Documents/Lung Cancer 2020- Epidemiology, Etiology, and Prevention.pdf', 'page': 0}),\n",
       " Document(page_content='with the recent increase in smoking prevalence in\\nChina, Indonesia, Eastern Europe, and the North-\\nern and Southern parts of Africa.5,7Up to 80% of\\ncurrent smokers now live in low- or middle-income countries, and more than one-half of lung\\ncancer deaths occur in less developed regions.\\n6–8\\nBy contrast, lung cancer incidence is decreasing\\nor expected to decrease in countries that “took\\nup” smoking the earliest and are now successfullyimplementing smoking cessation and avoidance\\ncampaigns.5These countries are generally high in-\\ncome and include the United States, the UnitedKingdom, the Nordic countries, Australia, NewZealand, Singapore, Germany, and Uruguay.\\n5,7\\nAlthough the increasing lung cancer burden\\nglobally is driven by lung cancer cases in men,most countries are also observing an increasing\\nincidence in women.\\n5Although breast cancer is\\nFig. 1. Distribution of cases and deaths\\nfor the 10 most common cancers in\\n2018 for ( A) both sexes, ( B) males,', metadata={'source': '/Users/donnymirzaadhitama/Documents/Lung Cancer 2020- Epidemiology, Etiology, and Prevention.pdf', 'page': 1}),\n",
       " Document(page_content='and ( C) females. For each sex, the\\narea of the pie chart reflects the pro-\\nportion of the total number of casesor deaths. (GLOBOCAN 2018. GlobalCancer Observatory (http://gco.iarc.fr/)\\n/C211International Agency for Research\\non Cancer 2019.)Bade & Dela Cruz 2A\\nBothsexes\\nIncidence\\nMortality\\nLung\\n18ng\\n11.6%\\nOther\\nBreast\\n29.3%\\nOther\\n11.6%\\n36.6%\\nColorcctum\\n9.2%\\nColorectum\\n10.2%\\nLoukaomia\\nStomach\\n3.2%\\n8.2%\\nProstato\\nCervixuteri\\n7.1%\\n3.3%\\nLiver\\nBladder\\n8.2%\\n3.0%\\nProstate\\nTrhyroid.\\n3.8%\\n3.1%\\nStomach\\nPancreas\\nCervix uter\\nLver\\n5.7%\\n4.5%\\nBreast\\n3.2%\\n4.7%\\n6.6%\\nEsophagus\\nEsophagus\\n3.2%\\n5.3%\\n18.1 million\\n9.6million\\nnew cases\\ndeaths\\nB\\nMales\\nIncidence\\nMortality\\n14.5%\\nLung\\nOther\\n22.0%\\nOther\\n30.6%\\n23.0%\\nProstate\\nNon-Hodgkin\\n13.5%\\nlymphoma\\n2.7%\\nBladder\\nLiver\\n2.8%\\n10.2%\\nLeukaemia\\nColoreclum\\n2.6%\\\\\\nLeukaemia\\n10.9%\\nKidney\\n3.3%\\nStomach\\n2.7%\\nPancreas\\n9.5%\\nUbpoH-Uon\\nStomach\\n4.2%\\nlymphoma\\nLiver\\n7.2%\\n3.0%\\n6.3%\\nEsophagus\\nEsophagusBladder\\n%99\\nProstate\\nColorectum\\n4.2%\\n4.5%\\n6.7%\\n9.0%\\n9.5million\\n5.4million\\nnew cases', metadata={'source': '/Users/donnymirzaadhitama/Documents/Lung Cancer 2020- Epidemiology, Etiology, and Prevention.pdf', 'page': 1}),\n",
       " Document(page_content='new cases\\ndeaths\\nFemales\\nIncidence\\nMortality\\nOther\\nBreast\\nBreast\\n28.9%\\n24.2%\\n15.0%\\nOther\\n23.1%\\nLung\\n13.8%\\nNon-Hodgkin\\nColorectum\\nymphoma\\n9.5%\\nLeukaemia\\n26%\\n3.1%\\nLiver\\nColorectum\\n2.8%\\nLung\\nEsophagus\\n3.6%\\n9.5%\\nABAO\\n3.4%\\nOvar\\nStomach\\n4.4%\\n4.1%\\nPancreas\\nCorvixutori\\nCorvix uleri\\n4.4%\\n6.6%\\n4.9%\\n5.1%\\nLiver\\nStomach\\n7.5%\\n5.6%\\n6.5%\\n8.6 million\\n4.2million\\nnewcases\\ndeaths', metadata={'source': '/Users/donnymirzaadhitama/Documents/Lung Cancer 2020- Epidemiology, Etiology, and Prevention.pdf', 'page': 1}),\n",
       " Document(page_content='the leading cause of cancer-associated deaths in\\nwomen globally,7lung cancer is the leading cause\\nof cancer death in women in several areas,including North America, Northern/Western\\nEurope, Australia, and New Zealand (see Fig. 1 ).\\n5\\nThe higher mortality rates in these areas likely\\nreflect local smoking patterns. The World Health\\nOrganization estimates that 48% of men and\\n10% of women globally are smokers.8Although\\nsmoking prevalence is similar between men in\\ndeveloped and developing countries, smoking\\nprevalence is significantly lower in women indeveloping countries ( Fig. 2 ).\\n2In areas where to-\\nbacco smoking rates in women are low, nonto-\\nbacco risk factors likely play a more significant\\nrole in lung cancer development. For example,despite a lower smoking prevalence in Chinese\\nwomen, the incidence rate of lung cancer is similar\\nto that of many European countries, which may berelated to the inhalation of smoke from charcoal,\\nheating, or cooking.\\n5', metadata={'source': '/Users/donnymirzaadhitama/Documents/Lung Cancer 2020- Epidemiology, Etiology, and Prevention.pdf', 'page': 2}),\n",
       " Document(page_content='5\\nUnfortunately, owing to the global increase in\\nthe number of smokers since 1980,2the burden\\nof lung cancer will likely continue to increase in\\nthe coming years primarily in developing coun-tries, where high-quality cancer registry data areunavailable.\\n5,7These trends underscore 2 impor-\\ntant points. First, the role of tobacco avoidance\\nand cessation efforts cannot be underestimated,because a country’s tobacco cessation efforts\\nmay not be recognized for many years after reduc-\\ntions in smoking rates. In the United States, forexample, lung cancer incidence and mortality\\nimproved 20 to 30 years after smoking prevalence\\nbegan to fall.\\n9,10Second, more emphasis andresources for high-quality data collection on to-\\nbacco smoking patterns, cancer development,and cancer outcomes in developing countries areneeded to implement tobacco cessation and can-\\ncer control programs.\\nLung Cancer Trends in the United States\\nIn the United States, lung cancer remains the sec-', metadata={'source': '/Users/donnymirzaadhitama/Documents/Lung Cancer 2020- Epidemiology, Etiology, and Prevention.pdf', 'page': 2}),\n",
       " Document(page_content='ond most common cancer and the leading cause\\nof cancer death ( Fig. 3 ).11,12According to the Sur-\\nveillance, Epidemiology, and End Results pro-gram, lung cancer currently accounts for\\napproximately 12.9% of all new cancer cases in\\nthe United States and 538,243 people in theUnited States were estimated to be living withlung cancer in 2016.\\n10Data from 2016 revealed\\ndeaths from lung cancer in men and women\\nwere 80,775 and 68,095, respectively,12which\\nexceeded the combined number of deaths for\\nbreast cancer, prostate cancer, colon cancer,\\nand leukemia.12For 2019, Siegel and colleagues13\\nestimated 228,150 new cases of lung cancer and\\n142,670 deaths. There is a trend in both sexes of\\nmore lung cancer cases but fewer deaths.11,12,14\\nWhen stratifying by sex, the estimated number of\\nnew cases and deaths in 2019 for men continues\\nto exceed those values in women.12\\nAlthough lung cancer incidence and mortality\\nwere rising in women before 2000, both values', metadata={'source': '/Users/donnymirzaadhitama/Documents/Lung Cancer 2020- Epidemiology, Etiology, and Prevention.pdf', 'page': 2}),\n",
       " Document(page_content='are now steadily improving in males and fe-\\nmales.10Fig. 4 shows the overall incidence and\\nmortality of lung cancer in the United States since\\n1975.10,15Owing to lung cancer’s high case fatality\\nrate, disease incidence is paralleled by diseasemortality.\\n6Although lung cancer incidence and\\nFig. 2. Estimated age-standardized prevalence of daily smoking and annualized rate of change, 1980 to 2012. ( A)\\nPrevalence of smoking by year. ( B) Annualized rate of change in the prevalence of daily smoking by year. ( From\\nNg M, Freeman MK, Fleming TD, et al. Smoking prevalence and cigarette consumption in 187 countries, 1980-\\n2012. JAMA 2014;311(2):183-192; with permission.)Lung Cancer Epidemiology 3Developedcountries\\nDevelopingcountries\\nGlobal\\nWomen\\nOWomen\\nWomen\\nMen\\nMen\\nMen\\nA\\nB\\n50\\n40\\nAnnualized Rate of Change,%\\n%\\nPrevalence,\\n30\\n20\\n10\\n0\\n1980\\n1984\\n1988\\n1992\\n1996\\n2000\\n2004\\n2008\\n2012\\n1980\\n1984\\n1988\\n1992\\n1996\\n2000\\n2004\\n2008\\n2012\\nYear\\nYear', metadata={'source': '/Users/donnymirzaadhitama/Documents/Lung Cancer 2020- Epidemiology, Etiology, and Prevention.pdf', 'page': 2}),\n",
       " Document(page_content='mortality rates are higher in males, they continue to\\ndecrease more rapidly in men compared withwomen,\\n12possibly attributed to earlier decreases\\nin smoking prevalence among men and women’s\\nincreased uptake of smoking around World WarII.Fig. 5 shows steady reduction in US smoking\\nprevalence in both sexes since 1965; however, if\\ncurrent trends continue, lung cancer mortalityrates in women are estimated to exceed those in\\nmen by 2045.\\n16\\nThe 5-year survival of lung cancer reported by\\nthe Surveillance, Epidemiology, and End Results\\nprogram in 2011 was 15.6% and in 2019\\n19.4%.10Improvement in lung cancer survival is\\nlikely multifactorial and owing to decreases in to-bacco smoking, increased thoracoscopic sur-\\ngeries and stereotactic radiation for early stage\\ndisease, and better treatments for advanced stagedisease (ie, targeted and immunologic thera-\\npies).\\n12,17Tobacco smoking trends and broaderimplementation of lung cancer screening (LCS)', metadata={'source': '/Users/donnymirzaadhitama/Documents/Lung Cancer 2020- Epidemiology, Etiology, and Prevention.pdf', 'page': 3}),\n",
       " Document(page_content='suggest that lung cancer survival will continue toimprove. Fig. 5 shows that tobacco smoking rates\\nin the United States are improving in both sexes,\\nand modeling studies estimate that if smokingrates continue to decline, age-adjusted lung can-\\ncer mortality may decrease by up to 79% by\\n2065.\\n16Although improvements in smoking rates\\nand lung cancer survival are encouraging, both\\nvalues are not uniformly falling across the country.\\nDemographic, socioeconomic, and geographicvariables are related to smoking prevalence and\\n(therefore) lung cancer rates.\\n18\\nDespite modest improvements in outcomes in\\nthe United States, lung cancer survival remainsheavily influenced by stage at diagnosis, and\\nmost lung cancers (57%) are diagnosed when\\nthe cancer has metastasized outside the lung(Fig. 6 ).\\n10,15Although LCS efforts will likely “shift”\\nthe diagnosis of lung cancer to earlier stages,19', metadata={'source': '/Users/donnymirzaadhitama/Documents/Lung Cancer 2020- Epidemiology, Etiology, and Prevention.pdf', 'page': 3}),\n",
       " Document(page_content='Fig. 3. Estimated new cancer cases and deaths by sex, United States, 2019. ( From Siegel RL, Miller KD, Jemal A.\\nCancer statistics, 2019. CA Cancer J Clin 2019;69(1):7-34; with permission.)Bade & Dela Cruz 4EstimatedNewCases\\nMales\\nFemales\\nProstate\\n174,650\\n20%\\nBreast\\n268,600\\n30%\\nLung&bronchus\\n116,440\\n13%\\nLung&bronchus\\n111,710\\n13%\\nColon&rectum\\n78,500\\n9%\\nColon&rectum\\n67,100\\n8%\\nUrinarybladder\\n61,700\\n7%\\nUterine corpus\\n61,880\\n7%\\nMelanomaoftheskin\\n57,220\\n7%\\nMelanomaoftheskin\\n39,260\\n4%\\nKidney&renal pelvis\\n44,120\\n5%\\nThyroid\\n37,810\\n4%\\nNon-Hodgkin lymphoma\\n41,090\\n5%\\nNon-Hodgkin lymphoma\\n33,110\\n4%\\nOral cavity & pharynx\\n38,140\\n4%\\nKidney&renalpelvis\\n29,700\\n3%\\nLeukemia\\n35,920\\n4%\\nPancreas\\n26,830\\n3%\\nPancreas\\n29,940\\n3%\\nLeukemia\\n25,860\\n3%\\nAll Sites\\n870,970\\n100%\\nAll Sites\\n891,480\\n100%\\nEstimatedDeaths\\nMales\\nFemales\\nLung&bronchus\\n76,650\\n24%\\nLung&bronchus\\n66,020\\n23%\\nProstate\\n31,620\\n10%\\nBreast\\n41,760\\n15%\\nColon&rectum\\n27,640\\n9%\\nColon&rectum\\n23,380\\n8%\\nPancreas\\n23,800\\n7%\\nPancreas\\n21,950\\n8%', metadata={'source': '/Users/donnymirzaadhitama/Documents/Lung Cancer 2020- Epidemiology, Etiology, and Prevention.pdf', 'page': 3}),\n",
       " Document(page_content='Pancreas\\n21,950\\n8%\\nLiver&intrahepaticbileduct\\n21,600\\n7%\\nOvary\\n13,980\\n5%\\nLeukemia\\n13,150\\n4%\\nUterine corpus\\n12,160\\n4%\\nEsophagus\\n13,020\\n4%\\nLiver&intrahepaticbile duct\\n10,180\\n4%\\nUrinarybladder\\n12,870\\n4%\\nLoukcmia\\n0,600\\n3%\\nNon-Hodgkin lymphoma\\n11,510\\n4%\\nNon-Hodgkinlymphoma\\n8,460\\n3%\\nBrain&othernervoussystem\\n9,910\\n3%\\nBrain&othernervoussystem\\n7,850\\n3%\\nAll Sites\\n321,670\\n100%\\nAll Sites\\n285,210\\n100%', metadata={'source': '/Users/donnymirzaadhitama/Documents/Lung Cancer 2020- Epidemiology, Etiology, and Prevention.pdf', 'page': 3}),\n",
       " Document(page_content='uptake has been slow with only 4% of eligible\\nAmericans undergoing low-dose computed to-mography screening in 2015.\\n20Continued imple-\\nmentation of LCS combined with therapeutic\\nadvances for early and advanced stage diseasemay help reverse our current trends of late-stagediagnosis and low overall survival.\\nPerhaps the greatest change in our understand-\\ning of lung cancer epidemiology in the UnitedStates is the recognition of the disease’s “diver-\\nsity.” That is, lung cancer can no longer be stereo-\\ntyped as a disease of older male smokers. Fig. 4\\ndemonstrates the meaningful change in lung can-\\ncer development and outcomes by gender in the\\nlast 50 years. Although smoking history and olderage remain the predominant risk factors for lung\\ncancer development, current estimates are that10% to 20% of patients who develop lung cancerare never smokers,\\n21and lung cancer incidence in\\nwomen is approaching that in men. Also, although', metadata={'source': '/Users/donnymirzaadhitama/Documents/Lung Cancer 2020- Epidemiology, Etiology, and Prevention.pdf', 'page': 4}),\n",
       " Document(page_content='the overall trend in the United States is towardfewer lung cancer deaths and longer survival,\\nmany groups struggle with more lung cancer\\ncases and worsening outcomes. Several demo-graphic factors have been identified that influence\\nlung cancer development and outcomes, including\\ngender, age, race, geography, and socioeconomicstatus (SES).\\nGender\\nChristina R. MacRosty and M. Patricia Rivera’s\\narticle, “ Lung Cancer in Women: A Modern\\nEpidemic ,” in this issue, of this Clinics issue is\\ndedicated to lung cancer in women. Owing to\\nthe significant changes in lung cancer epidemi-\\nology, we mention 3 points here. First, lung can-cer incidence and mortality are consistently\\nlower in women compared with men (see\\nFig. 4 ), although the gender “gap” is narrowing\\nowing to both values falling more rapidly in\\nmen. If current trends continue, modeling studies\\nsuggest that the number of lung cancer deaths inwomen will exceed those in men in 2045.\\n16Sec-\\nond, the demographics of women diagnosed', metadata={'source': '/Users/donnymirzaadhitama/Documents/Lung Cancer 2020- Epidemiology, Etiology, and Prevention.pdf', 'page': 4}),\n",
       " Document(page_content='with lung cancer are different than those in\\nmen. Specifically, women tend to be diagnosedwith lung cancer at a younger age, are more\\nlikely to be nonsmokers, and are more likely to\\nbe diagnosed with an adenocarcinoma.\\n22Finally,\\nwomen have improved lung cancer survival\\nacross all disease stages than men.23In combi-\\nnation, these findings support unique biologicaland genetic mechanisms of lung cancerbetween men and women. Refer to Christina R.\\nMacRosty and M. Patricia Rivera’s article,\\n“Lung Cancer in Women: A Modern Epidemic ,”\\nin this issue, for a complete discussion of lung\\ncancer in women.\\nFig. 4. Cancer of the lung and bronchus Surveillance,\\nEpidemiology, and End Results delay-adjusted inci-dence and US death rates, 1975 to 2016, all races, bysex. ( From Howlader N NA, Krapcho M, Miller D, Brest\\nA, Yu M, Ruhl J, Tatalovich Z, Mariotto A, Lewis DR,\\nChen HS, Feuer EJ, Cronin KA (eds). SEER Cancer Statis-tics Review, 1975-2016. 2019; https://seer.cancer.gov/', metadata={'source': '/Users/donnymirzaadhitama/Documents/Lung Cancer 2020- Epidemiology, Etiology, and Prevention.pdf', 'page': 4}),\n",
       " Document(page_content='csr/1975_2016/ . Accessed May 26, 2019; with\\npermission.)\\nFig. 5. Percentage of adults aged\\n18 years and older who were current\\ncigarette smokers, overall and by sex; Na-tional Health Interview Survey, United\\nStates, 1965 to 2017. ( From Wang TW, As-\\nman K, Gentzke AS, et al. Tobacco Prod-uct Use Among Adults - United States,2017. MMWR Morb Mortal Wkly Rep\\n2018;67(44):1225-1232; with permission.)Lung Cancer Epidemiology 5Rateper100,000\\n120\\n100\\n80\\n60\\n40\\nMaleDelay-Adjusted Incidence\\nMaleMortality\\n20\\nFemaleDelay-AdjustedIncidence\\nFemale Mortality\\n0\\n1975\\n1980\\n1985\\n1990\\n1995\\n2000\\n2005\\n2010\\n2016\\nYearofDiagnosis/Death100\\n60\\nOverall\\nMale\\nFemale\\n50\\nPercentage\\n40\\n30\\n20\\n10\\n1965\\n1974\\n1978\\n1983\\n1988\\n1992\\n1995\\n1999\\n2002\\n2005\\n2008\\n2011\\n2014\\n2017\\nYear', metadata={'source': '/Users/donnymirzaadhitama/Documents/Lung Cancer 2020- Epidemiology, Etiology, and Prevention.pdf', 'page': 4}),\n",
       " Document(page_content='Age\\nLung cancer is most common in men and women\\n70 years of age and older12(Fig. 7 ).10Lung cancer\\nhas become the most common cause of cancer\\ndeath in men ages 40 and older and womenages 60 and older.\\n12The median age at lung can-\\ncer diagnosis is 70 years, and the median age at\\nlung cancer death is 72 years.6In general, lung\\ncancer mortality increases with age until approxi-mately ages 80 to 85 ( Fig. 8 ), after which heart dis-\\nease exceeds cancer as the most common causeof death in both genders.\\n6,12Interestingly, a recent\\nstudy identified higher incidence rates of lung can-\\ncer among young Hispanic and non-Hispanicwhite women (compared with men) between the\\nages of 30 and 49 years.\\n24Although smoking pat-\\nterns likely contribute to this finding, the authorsnoted that smoking behaviors did not entirelyexplain the recognized differences. The discovery\\nof higher incidence of lung cancer in younger\\nwomen demonstrates how our “traditional” viewof lung cancer is changing.', metadata={'source': '/Users/donnymirzaadhitama/Documents/Lung Cancer 2020- Epidemiology, Etiology, and Prevention.pdf', 'page': 5}),\n",
       " Document(page_content='Fig. 6. Percent of cases and 5-year relative survival by stage at diagnosis: lung and bronchus cancer. ( A) Surveil-\\nlance, Epidemiology, and End Results 18 data (2009 to 2015), all races, both sexes by ( B) Surveillance, Epidemi-\\nology, and End Results summary stage (2000). ( From Howlader N NA, Krapcho M, Miller D, Brest A, Yu M, Ruhl\\nJ, Tatalovich Z, Mariotto A, Lewis DR, Chen HS, Feuer EJ, Cronin KA (eds). SEER Cancer Statistics Review, 1975-2016. 2019; https://seer.cancer.gov/csr/1975_2016/ . Accessed May 26, 2019.)Bade & Dela Cruz 6Percent of cases by Stage\\nA\\n4%\\n16%\\nLocalized (16%)\\nConfined to Primary Site\\nRegional (22%)\\nSpread to Regional Lymph Nodes\\nDistant (57%)\\nCancer Has Metastasized\\n22%\\nUnknown (4%)\\n57%\\nUnstaged\\nB\\n5-YRelativeSurvival\\n100\\n90\\n80\\nPercent Surviving\\n70\\n60\\n57.4%\\n50\\n40\\n30.8%\\n30\\n20\\n8.2%\\n10\\n5.2%\\n0\\nLocalized\\nRegional\\nDistant\\nUnknown\\nStage', metadata={'source': '/Users/donnymirzaadhitama/Documents/Lung Cancer 2020- Epidemiology, Etiology, and Prevention.pdf', 'page': 5}),\n",
       " Document(page_content='Race\\nOverall, lung cancer incidence and mortality are\\nhighest in African American men and lowest in His-panic women.\\n6In data from 2008 to 2014,\\ncompared with Caucasians, African Americans\\nhad lower rates of localized disease at diagnosis\\n(13% vs 17%) and worsened 5-year relative sur-vival for localized (52% vs 56%), regional (27%\\nvs 30%), and all-stage disease (16% vs 19%).\\n12\\nHigher lung cancer-associated mortality by race\\nis likely multifactorial, including smoking preva-\\nlence, access to health insurance, and SES. Amer-\\nican Indians/Alaska Natives currently have thehighest overall smoking rate in the United States\\n(21.9%).\\n25Whereas lung cancer mortality has\\nbeen decreasing in most races since the early1990s, lung cancer mortality in American Indiansand Alaska Natives did not start falling until\\napproximately 2010 ( Fig. 9 ).\\nThere are significantly lower rates of surgical\\nand chemotherapy treatments in African Ameri-\\ncans.\\n26,27Worse survival in Hispanics with early', metadata={'source': '/Users/donnymirzaadhitama/Documents/Lung Cancer 2020- Epidemiology, Etiology, and Prevention.pdf', 'page': 6}),\n",
       " Document(page_content='stage non small cell lung cancer has been noted,which was largely explained by lower resection\\nrates.\\n28Racial differences in lung cancer mortality\\nhave also been noted in screening efforts. In theNational Lung Screening Trial, all-cause mortality\\nwas higher in black participants and low-dose\\ncomputed tomography screening decreased lungcancer-associated mortality more in African Amer-icans.\\n29In combination, these reports suggest that\\nracial differences in lung cancer therapy and\\nscreening persist and achieving equivalent out-comes will require a multifaceted approach\\nincluding access to health care, smoking\\nFig. 7. Percent of new cases by age group: lung and bronchus cancer. Surveillance, Epidemiology, and End Results\\n21 data (2012 to 2016), all races, both sexes. AI/AN, American Indian/Alaska Native; API, Asian/Pacific Islander.(From Howlader N NA, Krapcho M, Miller D, Brest A, Yu M, Ruhl J, Tatalovich Z, Mariotto A, Lewis DR, Chen', metadata={'source': '/Users/donnymirzaadhitama/Documents/Lung Cancer 2020- Epidemiology, Etiology, and Prevention.pdf', 'page': 6}),\n",
       " Document(page_content='HS, Feuer EJ, Cronin KA (eds). SEER Cancer Statistics Review, 1975-2016. 2019; https://seer.cancer.gov/csr/1975_\\n2016/ . Accessed May 26, 2019.)\\nFig. 8. Lung cancer incidence and mortality rates by sex\\nand age, United States, 2006 to 2010. Rates are 100,000and age-adjusted to the 2000 US standard population.\\n(From Torre LA, Siegel RL, JemalA.Lung Cancer Statistics.\\nAdv Exp Med Biol 2016;893:1-19; with permission.)7600\\n-Incidence\\nMortality\\n500\\nMales\\n400\\nAge-standardized rate\\n300\\nFemales\\n200\\n100\\n85\\nAgeLung and bronchus cancer is most\\nfrequently diagnosed among\\n40\\npeople aged 65-74.\\n35\\n33.7%\\nPercent of New Cases\\n30\\nMedian Age\\n26.7%\\n25\\nAt Diagnosis\\n21.7%\\n20\\n70\\n15\\n9.6%\\n10\\n7.0%\\n5\\n1.0%\\n0.2%\\n0\\n<20\\n20-34\\n35-44\\n45-54\\n55-64\\n65-74\\n75-84\\n>84\\nAge', metadata={'source': '/Users/donnymirzaadhitama/Documents/Lung Cancer 2020- Epidemiology, Etiology, and Prevention.pdf', 'page': 6}),\n",
       " Document(page_content='cessation, early diagnosis, and equivalent stage-\\nappropriate treatments.\\nGeography\\nMuch like trends globally, geography influences\\nlung cancer epidemiology in the United States,\\nand smoking patterns determine the higher andlower risk areas. Currently, the highest lung cancer\\nincidence and mortality rates are in Kentucky,\\nwhere the age-adjusted incidence per 100,000people is 112.8 for men and 79.0 for women.\\n12\\nThe age-adjusted mortality per 100,000 people is84.5 in men and 52.2 in women.\\n12In contrast,\\nthe lowest incidence and age-adjusted lung can-cer death rates are in Utah, with incidences of\\n32.4 and 23.7 and mortality rates of 23.4 and\\n15.6 in men and women, respectively.\\n10–12\\nAlthough lung cancer incidence and mortality rates\\nare decreasing nationally, several areas of the\\ncountry with higher smoking prevalence have notobserved the same improvements in lung cancer\\noutcomes. Comparing the time periods 1990 to\\n1999 and 2006 to 2015, Ross and colleagues\\n30', metadata={'source': '/Users/donnymirzaadhitama/Documents/Lung Cancer 2020- Epidemiology, Etiology, and Prevention.pdf', 'page': 7}),\n",
       " Document(page_content='30\\nused county-level data and identified 2 hotspots\\n(Appalachia and the Midwest) where lung cancer\\ndeath rates in women actually increased withtime, which is consistent with prior work showinghigher lung cancer rates for women living in south-\\nern and midwestern states.\\n31Greater smoking\\ncessation rates in western states and decline insmoking prevalence correlating with cigarette\\ntaxes and indoor air legislation has beenreported.\\n32Nationwide differences in lung cancer\\nincidence and mortality are likely to persist untilsimilar smoking cessation rates are achieved.\\nSocioeconomic Status\\nLower SES and education contribute to lung can-\\ncer risk and worse outcomes, particularly in\\nmen.33Men and women with less than a high\\nschool education or annual incomes of less than\\n$12,500 and with lower SES including educational,\\noccupational, and income-based positions havehigher lung cancer rate ratios.\\n34,35Because lower\\nincome counties have much higher rates of to-', metadata={'source': '/Users/donnymirzaadhitama/Documents/Lung Cancer 2020- Epidemiology, Etiology, and Prevention.pdf', 'page': 7}),\n",
       " Document(page_content='bacco smoking, lung cancer disparities owing toSES are analogous to those seen geographi-\\ncally.\\n12In poor counties (compared with affluent\\ncounties), lung cancer mortality in men is morethan 40% higher,\\n12and low SES may increase\\nthe risk of death during hospitalization for a lung\\ncancer resection.36However, studies have shown\\nthat controlling for education, SES,33and smoking\\nstatus37decreased but did not normalize lung can-\\ncer risk. It seems clear that the individual’s risk of\\ndeveloping and surviving lung cancer is theresult of a complex relationship involving age,\\ngender, race, smoking status, geographic loca-\\ntion, and SES.\\nETIOLOGY AND PREVENTION OF LUNG\\nCANCER\\nWith decreasing smoking prevalence and\\nincreasing cases of lung cancer in nonsmokers,\\nFig. 9. Surveillance, Epidemiology, and End Results incidence and US death rates. Cancer of the lung and bron-', metadata={'source': '/Users/donnymirzaadhitama/Documents/Lung Cancer 2020- Epidemiology, Etiology, and Prevention.pdf', 'page': 7}),\n",
       " Document(page_content='chus, both sexes. (Howlader N NA, Krapcho M, Miller D, Brest A, Yu M, Ruhl J, Tatalovich Z, Mariotto A, Lewis DR,Chen HS, Feuer EJ, Cronin KA (eds). SEER Cancer Statistics Review, 1975-2016. 2019; https://seer.cancer.gov/csr/\\n1975_2016/ . Accessed May 26, 2019.)Bade & Dela Cruz 8Incidence\\nMortality\\nRate per 100,000\\nRate per 100.000\\n100\\n100\\nWhite\\n90\\n90\\nA\\nBlack\\n80\\nAPI b\\n80\\nAI/AN C\\n70\\n70\\n会\\nHispanic\\n60\\n60\\n50\\n50\\n0\\n40\\n40\\n0\\n30\\n30\\n20\\n20\\n10\\n10\\n0\\n0\\n1975\\n1985\\n1995\\n2005\\n2016\\n1975\\n1985\\n1995\\n2005\\n2016\\nYearofDiagnosis\\nYearofDeath', metadata={'source': '/Users/donnymirzaadhitama/Documents/Lung Cancer 2020- Epidemiology, Etiology, and Prevention.pdf', 'page': 7}),\n",
       " Document(page_content='there is heightened importance to better under-\\nstand disease development. Although tobaccosmoking remains the leading risk factor for lungcancer, risk is linked to other exposures and lung\\ncancer prevention should focus on avoiding or\\ndecreasing exposure to known risk factors.\\nTobacco Smoking\\nTobacco use in the form of cigarettes has signifi-\\ncantly increased with the average adult smoking\\nfewer than 100 cigarettes per year in the 1900sto the estimated maximum of approximately\\n4400 cigarettes per person per year in the\\n1960s.\\n38,39The seminal US Public Health Service\\nreport by the Surgeon General in 1964 was instru-mental in highlighting the adverse effects of ciga-\\nrette smoking on health,\\n40concluding that\\ncigarette smoking was associated with a 70% in-crease in the age-specific death rates for men, a\\nlesser increase in the death rates for women, and\\nthat cigarette smoking was causally related tolung cancer. Moreover, cigarette smoking was', metadata={'source': '/Users/donnymirzaadhitama/Documents/Lung Cancer 2020- Epidemiology, Etiology, and Prevention.pdf', 'page': 8}),\n",
       " Document(page_content='believed to be more important than occupational\\nexposures in the cause of lung cancer. Since thereport, smoking has decreased from 20.8% of all\\nUS adults aged 18 years or older in 2005% to\\n14.0% in 2017.\\n14The proportion of ever smokers\\nthat have quit has also increased.14\\nThe effects of cigarette smoking outweigh all\\nother factors that lead to lung cancer. In 1912,\\nAdler41described 374 cases of primary lung can-\\ncer in autopsy cases from the United States and\\nwestern Europe; this represented only 0.5% of all\\ncancer cases at the time. Lung cancer constituted1% of all cancers in the United States in 1920. In\\n1938, an association of cigarette smoking with\\nincreased risk of death was described in moderateand heavy white male smokers greater than30 years of age.\\n42A 1941 review of lung carcinoma\\nreported that “the increase in the incidence of pul-\\nmonary carcinoma is due largely to the increase insmoking.”\\n43Two large landmark studies in 1950\\nestablished tobacco smoking as a causal factor', metadata={'source': '/Users/donnymirzaadhitama/Documents/Lung Cancer 2020- Epidemiology, Etiology, and Prevention.pdf', 'page': 8}),\n",
       " Document(page_content='in bronchogenic carcinoma and concluded that(1) excessive and prolonged use of tobacco was\\nan important factor in lung cancer induction, (2)\\nlung cancers in nonsmokers were rare (currentexperience show that this is not the case\\nanymore), and (3) that there could be a lag of 10\\nor more years between smoking cessation andthe clinical onset of carcinoma.\\n44,45In 2004, the\\nUnited States Surgeon General re-emphasized\\nthe message that “cigarette smoking is the major\\ncause of lung cancer.”46To this day, there is no\\nquestion that tobacco smoking remains the most\\nimportant modifiable risk factor for lung cancerwith about 90% of lung cancers arising owing to\\ntobacco use.47\\nTobacco Smoke Carcinogens\\nTobacco cigarette smoke is a complex aerosolcomposed of gaseous and particulate com-\\npounds. The smoke consists of mainstream\\nsmoke and side stream smoke components.Mainstream smoke is produced by inhalation of\\nair through the cigarette and is the primary source', metadata={'source': '/Users/donnymirzaadhitama/Documents/Lung Cancer 2020- Epidemiology, Etiology, and Prevention.pdf', 'page': 8}),\n",
       " Document(page_content='of smoke exposure for the smoker. Side streamsmoke is produced from smoldering of the ciga-\\nrette between puffs and is the major source of\\nenvironmental tobacco smoke (ETS). The maindeterminant of tobacco addiction is nicotine,whereas the tar is the total particulate matter\\n(PM) of cigarette smoke after nicotine and water\\nhave been removed. Cumulative exposure to tarseems to be a major component of lung cancer\\nrisk. There are more than 4000 chemical constitu-\\nents of cigarette smoke.\\n48The International\\nAgency for Research on Cancer has identified at\\nleast 50 carcinogens in tobacco smoke.49\\nMainstream smoke contains many potential car-\\ncinogens, including polycyclic aromatic hydrocar-\\nbons, aromatic amines, N-nitrosamines, and other\\norganic and inorganic compounds, such as ben-zene, vinyl chloride, arsenic, and chromium. Thepolycyclic aromatic hydrocarbons and N-nitrosa-\\nmines require metabolic activation to become', metadata={'source': '/Users/donnymirzaadhitama/Documents/Lung Cancer 2020- Epidemiology, Etiology, and Prevention.pdf', 'page': 8}),\n",
       " Document(page_content='carcinogenic. Metabolic detoxification of thesecompounds can also occur, and the balance be-\\ntween activation and detoxification likely affects\\nindividual cancer risk. Radioactive materials,such as radon and its decay products, bismuth,\\nand polonium, are also present in tobacco smoke.\\nThe agents of particular concern in lung cancer\\nare the tobacco-specific N-nitrosamines formed\\nby nitrosation of nicotine during tobacco\\nprocessing and smoking. Of the tobacco-specific\\nN-nitrosamines, 4-(methylnitrosamino)-1(3-pyr-\\nidyl)-1-butanone seems to be the most important\\ninducer of lung cancer. The mechanisms of carci-\\nnogenesis from tobacco also include formation ofDNA adducts, their metabolites, and free radical\\ndamage.\\n50The primary factor determining the in-\\ntensity of cigarette use is the nicotine dependenceof the smoker, and, although modern cigarettes\\ncontain less nicotine and tar, smokers tend to', metadata={'source': '/Users/donnymirzaadhitama/Documents/Lung Cancer 2020- Epidemiology, Etiology, and Prevention.pdf', 'page': 8}),\n",
       " Document(page_content='smoke more intensively with a greater number ofpuffs per minute and deeper inhalations to satisfytheir nicotine need. Interestingly, low-yield filtered\\ncigarettes might be a contributing factor to the in-\\ncrease in the incidence of adenocarcinoma of thelung.\\n51With deeper inhalation, higher-order\\nbronchi with more susceptible peripheral lungLung Cancer Epidemiology 9', metadata={'source': '/Users/donnymirzaadhitama/Documents/Lung Cancer 2020- Epidemiology, Etiology, and Prevention.pdf', 'page': 8}),\n",
       " Document(page_content='epithelium are exposed to carcinogen-containing\\nsmoke linked to the induction of adenocarcinoma.\\nThe relative risk of lung cancer in long-term\\nsmokers has been estimated as 10-fold to 30-\\nfold compared with lifetime nonsmokers. The cu-\\nmulative lung cancer risk among heavy smokerscan be as high as 30% compared with a lifetime\\nrisk of less than 1% in nonsmokers. One in 6\\nsmokers eventually develops lung cancer.\\n47The\\nlung cancer risk is proportional to the quantity of\\ncigarette consumption, and important factors\\ninclude the number of packs per day smoked,the age of onset of smoking, the degree of inhala-tion, the tar and nicotine content of cigarettes, and\\nuse of unfiltered cigarettes.\\n52Up to 20% of all can-\\ncer deaths worldwide could be prevented by theelimination of tobacco smoking.\\n53Although more\\nthan 80% of lung cancers occur in persons with to-\\nbacco exposure, fewer than 20% of averagesmokers develop lung cancer. This variability in', metadata={'source': '/Users/donnymirzaadhitama/Documents/Lung Cancer 2020- Epidemiology, Etiology, and Prevention.pdf', 'page': 9}),\n",
       " Document(page_content='cancer susceptibility is likely affected by other\\nenvironmental factors or by geneticpredisposition.\\nRate of Tobacco Use\\nIn the United States, cigarette smoking prevalenceis steadily decreasing in both sexes (see Fig. 4 )\\nand recent estimates show cigarette smoking at\\nits lowest prevalence to date (14% or 34.3 millionUS adults).\\n14Interestingly, analogous to the riskof lung cancer development, several demo-\\ngraphic, social, and medical factors influence anindividual’s likelihood of smoking ( Table 1 ).\\n14The\\nnumber of adult smokers in the United States is\\nlikely to continue decreasing. The Centers for Dis-\\nease Control and Prevention reported increases inthe proportion of smokers trying to quit, recently\\nquitting, receiving advice to quit, and using proven\\ncessation methods.\\n54For additional details\\nregarding tobacco cessation and treatment, we\\ndirect the reader to Hasmeena Kathuria and Enid\\nNeptune’s article, “ Primary and Secondary\\nPrevention of Lung Cancer: Tobacco Treatment ,”', metadata={'source': '/Users/donnymirzaadhitama/Documents/Lung Cancer 2020- Epidemiology, Etiology, and Prevention.pdf', 'page': 9}),\n",
       " Document(page_content='in this issue.\\nEnvironmental Tobacco Smoke\\nETS or secondhand smoke is known to contribute\\nto an increased risk for lung cancer. Longitudinal\\nstudies have shown this increased risk relationshipbetween ETS and lung cancer in never\\nsmokers.\\n55,56A recent meta-analysis evaluating\\ncancer risk associated with ETS across all cancersfound an increased risk of lung cancer (odds ratio[OR], 1.24) involving never smokers with tobacco\\nsmoke exposure compared with never smokers\\nwithout such exposure with the association stron-gest in women.\\n57At least 17% of lung cancers in\\nnonsmokers are attributable to exposure to high\\nlevels of ETS during childhood and adolescence.58\\nOne large epidemiologic study found an excess\\nTable 1\\nFactors influencing likelihood of cigarette smoking\\nFactor Those at Highest Risk of Smoking\\nGender Males\\nAge Adults <65 yRace Non-Hispanic American Indians/Alaska\\nNatives\\nWhitesBlacksMultiracial adults\\nGeography South\\nMidwest', metadata={'source': '/Users/donnymirzaadhitama/Documents/Lung Cancer 2020- Epidemiology, Etiology, and Prevention.pdf', 'page': 9}),\n",
       " Document(page_content='Midwest\\nEducation Those with a General Education Development certificate\\nIncome <$35,000/y\\nSexual orientation Lesbian, gay, or bisexual adultsMarital status Divorced, separated, widowed\\nSingle, never married, or not living with a partner\\nInsurance Uninsured\\nInsured by Medicaid or other public insurance (not Medicare)\\nComorbidities Adults with a disability or serious psychological distress\\nFrom Wang TW, Asman K, Gentzke AS, et al. Tobacco Product Use Among Adults - United States, 2017. MMWR Morb Mor-\\ntal Wkly Rep 2018;67(44):1225-1232.Bade & Dela Cruz 10', metadata={'source': '/Users/donnymirzaadhitama/Documents/Lung Cancer 2020- Epidemiology, Etiology, and Prevention.pdf', 'page': 9}),\n",
       " Document(page_content='risk for lung cancer of 24% in nonsmokers who\\nlived with a smoker.59Nonsmoking women mar-\\nried to men who smoke have an increased risk oflung cancer.\\n60\\nETS consists of both mainstream (exhaled)\\nsmoke and side stream smoke (from burning endof cigarettes) and contains carcinogens that\\ninclude benzene, benzo-a-pyrene, and 4-(methyl-\\nnitrosamino)-1(3-pyridyl)-1-butanone. Non-smokers exposed to side stream smoke\\ngenerated by machine smoking of cigarettes had\\nmeasurable carcinogenic metabolites in theirurine.\\n61Eighty-eight percent of nontobacco users\\nhad detectable levels of serum cotinine, a metab-\\nolite of nicotine, suggesting the exposure to ETS\\nand the pervasive presence of ETS.62However,\\nwith 14% of the American adult population still\\nsmoking, ETS will continue to be a major public\\nhealth issue until cigarette smoking altogether iseliminated.\\nThe majority (80%–90%) of lung cancers\\ndevelop in current or former tobacco smokersand could be avoided with tobacco smoking pre-', metadata={'source': '/Users/donnymirzaadhitama/Documents/Lung Cancer 2020- Epidemiology, Etiology, and Prevention.pdf', 'page': 10}),\n",
       " Document(page_content='vention and cessation.\\n63If individuals are able to\\nquit smoking before middle age, up to 90% ofassociated risk from tobacco smoking can beavoided.\\n64Decreases in the number of smokers\\nwill also decrease the number of individuals\\nexposed to ETS. If smoking cessation patterns inthe United States continue, lung cancer mortality\\nwill be greatly reduced in the future.\\n16Thus, the\\nimportance of smoking cessation in reducing riskof lung cancer cannot be over-estimated. Refer\\nto Hasmeena Kathuria and Enid Neptune’s article,\\n“Primary and Secondary Prevention of Lung\\nCancer: Tobacco Treatment ,” in this issue on to-\\nbacco treatment.\\nElectronic Nicotine Delivery Systems and\\nE-Cigarettes\\nThe newest and most controversial products\\npotentially influencing lung cancer risk are elec-\\ntronic nicotine delivery systems (ENDS) including\\nelectronic cigarettes (e-cigarettes), e-pens,e-pipes, e-hookah, and e-cigars.\\n65These prod-\\nucts are marketed as a safer alternative to tobacco', metadata={'source': '/Users/donnymirzaadhitama/Documents/Lung Cancer 2020- Epidemiology, Etiology, and Prevention.pdf', 'page': 10}),\n",
       " Document(page_content='smoking66by delivering nicotine without the other\\ncombustible exposures inherent to tobacco\\nsmoke and a mechanism of tobacco smoking\\ncessation.67ENDS allow liquid to be heated to\\ncreate an aerosol containing nicotine and sub-stances such as flavorings, propylene glycol,\\nvegetable glycerin, and other ingredients that the\\nuser inhales.\\n65About 12.6% of adults in the United\\nStates have tried an e-cigarette at least once68and\\nthe overall prevalence of ENDS use in adults was3.2% in 2016.65Almost one-half of current ciga-\\nrette smokers (47.6%) and more than one-half ofrecent former cigarette smokers (55.4%) hadever tried an e-cigarette.\\n68The use of e-cigarettes\\nhas become popular with teenagers and young\\nadults, resulting in a 900% increase in e-cigaretteuse in high school students between 2011 and\\n2015, with more than 2 million middle and high\\nschool students using ENDS in 2016.\\n69Although\\nENDS are advertised as a smoking cessation\\ntool, previous nonsmokers of traditional cigarettes', metadata={'source': '/Users/donnymirzaadhitama/Documents/Lung Cancer 2020- Epidemiology, Etiology, and Prevention.pdf', 'page': 10}),\n",
       " Document(page_content='comprised a good proportion of ENDS users.E-cigarette use is associated with a greater riskfor subsequent cigarette smoking initiation under-\\nscoring the urgency for strong regulation to curb\\nuse among youth and limit the future population-level burden of cigarette smoking.\\n70\\nThe alarming increased use of ENDS with unreg-\\nulated multiple brands and flavorings have made itdifficult to evaluate the safety of these devices.\\nAlthough the components of e-cigarette vapor\\nare different from those in traditional tobacco cig-arettes, available data suggest that formaldehyde,\\nacetaldehyde, and reactive oxygen species are\\npresent in sufficient concentrations to cause in-flammatory damage to the airway and lung epithe-lium. Aerosols for ENDS can contain polycyclic\\naromatic hydrocarbons, nitrosamines, and trace\\nmetals, and their contribution to tumorigenesis isunclear.\\n71\\nPresently, conclusive evidence regarding the', metadata={'source': '/Users/donnymirzaadhitama/Documents/Lung Cancer 2020- Epidemiology, Etiology, and Prevention.pdf', 'page': 10}),\n",
       " Document(page_content='safety of e-cigarettes overall or compared with to-bacco smoking is unavailable. A position state-\\nment from the Forum of International Respiratory\\nSocieties suggest the devices should be restrictedor banned until more convincing evidence is avail-\\nable.\\n67Since Because -cigarette use is popular\\nand growing in middle and high school students,and could actually promote tobacco use, under-age use must be avoided.\\n65,69\\nMarijuana and Other Recreational Drugs\\nThe effects of inhaling smoke from recreational\\ndrugs, such as marijuana and cocaine, are lessstudied and there is no clear consensus on\\nwhether marijuana use is associated with cancer\\nrisk. The main psychoactive ingredient incannabis, D9-tetrahydrocannabinol, is not known\\nto be carcinogenic but, like nicotine, produces\\naddiction. An association between marijuanasmoking and initiation of tobacco use in youngpeople has been described.\\n72The number of mari-\\njuana users has increased given the legalization for', metadata={'source': '/Users/donnymirzaadhitama/Documents/Lung Cancer 2020- Epidemiology, Etiology, and Prevention.pdf', 'page': 10}),\n",
       " Document(page_content='nonmedical recreational use in some places. Mari-juana continues to be the most commonly used\\nillegal substance in the United States, with up toLung Cancer Epidemiology 11', metadata={'source': '/Users/donnymirzaadhitama/Documents/Lung Cancer 2020- Epidemiology, Etiology, and Prevention.pdf', 'page': 10}),\n",
       " Document(page_content='12% of adolescents and adults admitting use.73\\nAbnormal metaplastic histologic and molecular\\nchanges similar to premalignant alterations havebeen described in the bronchial epithelium in\\nhabitual smokers of marijuana or cocaine.\\n74How-\\never, a clear association has not been fully estab-lished between such inhalant drug use and lung\\ncancer. A case-control study reported an 8%\\nincreased risk for lung cancer for each joint-yearof marijuana smoking after adjusting for tobacco\\ncigarette smoking.\\n75In fact, tar levels in marijuana\\nsmoke and carcinogenic polyaromatic hydrocar-bon concentrations can be much higher thanthose in tobacco.\\n76However, lung cancer studies\\nlargely seem not to support an association with\\nmarijuana use, possibly because of the smalleramounts of marijuana regularly smoked compared\\nwith tobacco, but more investigations are war-\\nranted.\\n77The relationship between other inhala-\\ntional recreational drug use such as cocaine and\\nlung cancer are not well-studied.\\nNever Smokers', metadata={'source': '/Users/donnymirzaadhitama/Documents/Lung Cancer 2020- Epidemiology, Etiology, and Prevention.pdf', 'page': 11}),\n",
       " Document(page_content='Never Smokers\\nThe term never smoker refers to persons who havesmoked fewer than 100 cigarettes in their lifetime,\\nincluding lifetime nonsmokers. The overall globalstatistics estimate that 15% of lung cancers inmen and up to 53% in women are not attributable\\nto smoking, highlighting a strong gender bias in\\nnever smokers.\\n78In addition, never smokers ac-\\ncount for up to 25% of all lung cancer cases world-\\nwide. If lung cancer in never smokers was\\nconsidered separately, it would rank as the sev-enth most common cause of cancer death world-\\nwide before cervical, pancreatic, and prostate\\ncancers. In the United States, 1 study estimatedthat 19% of lung cancer in women and 9% oflung cancer in men occurs in never smokers.\\n79In\\nSouth Asian countries, up to 80% of women with\\nlung cancer are never smokers.80The proportion\\nof never smokers with adenocarcinoma non small\\ncell lung cancer increased from 8.0% to 14.9%', metadata={'source': '/Users/donnymirzaadhitama/Documents/Lung Cancer 2020- Epidemiology, Etiology, and Prevention.pdf', 'page': 11}),\n",
       " Document(page_content='from 1990 to 1995 to 2011 to 2013, which wasnot the case for never smokers with small cell\\nlung cancer or squamous cell non small cell lung\\ncancer.\\n81With the decreasing smoking prevalence\\nand increasing rate of lung cancer in nonsmokers,\\nthere is heightened urgency to better understand\\nother etiologic factors contributing to lung canceraside from smoking tobacco.\\nBiomass Burning\\nWood is burned for cooking and heating purposesin many parts of the world, and approximately 3billion people worldwide rely on solid fuels as their\\nprimary source of domestic energy.\\n82Combustionof coal in homes has been linked with lung cancer\\nin China.83A study of residents living who burn\\ncoal and unprocessed biomass (crop residues,wood, sticks, and twigs) for heating and cooking\\nfound increased lung cancer risk associated with\\ncoal use (OR, 1.29) after adjusting for smoking.\\n84\\nIndoor emissions from household coal combustion\\nare classified by the International Agency for', metadata={'source': '/Users/donnymirzaadhitama/Documents/Lung Cancer 2020- Epidemiology, Etiology, and Prevention.pdf', 'page': 11}),\n",
       " Document(page_content='Research on Cancer as carcinogenic and emis-sions from biomass fuel primarily from wood as\\nprobable carcinogenic. Compared with nonsolid\\nfuel users, predominant coal users (OR, 1.64;coal users in Asia with OR, 4.93), and wood usersin North American and European countries\\n(OR, 1.21) exhibited a higher risk for lung cancer.\\n85\\nIt has been suggested that the lung cancer that\\narises from wood smoke may behave differently\\nfrom lung cancer owing to tobacco smoke.\\nAir Pollution\\nAir pollution, a serious global problem owing to\\nclimate change and the staggering rate of industri-\\nalization, is worsening in many large populated cit-\\nies across the globe where the highestconcentrations of suspected particulates, sulfur\\ndioxide, and smoke have been recorded. Epidemi-\\nologic studies suggest that air pollution, especiallyPM exposure, is associated with increased lungcancer risk and mortality independent of cigarette\\nsmoking.\\n86\\nEarly studies involving urban–rural comparisons', metadata={'source': '/Users/donnymirzaadhitama/Documents/Lung Cancer 2020- Epidemiology, Etiology, and Prevention.pdf', 'page': 11}),\n",
       " Document(page_content='showed that there was an “urban factor,” which\\nwas associated with a 10% to 40% increase in\\nlung cancer deaths.87Two large cohort studies\\nsuggest that there is an excess risk for lung cancer\\nof approximately 19% per 10 mg/m3increment in\\nthe long-term average exposure to fine particu-lates.\\n88,89Fine particulate and sulfur oxide-\\nrelated pollution were associated with 8%\\nincreased risk for lung cancer mortality. Despite\\nthese studies, it is difficult to pinpoint the carcino-genic role played by single constituents of air\\npollution. There is a gradient range of relative risk\\nfor lung cancer associated with exposure to com-bustion products, from 7.0 to 22.0 in cigarette\\nsmokers, to 2.5 to 10.0 in coke oven workers, to\\n1.0 to 1.6 in residents of areas with high levels ofair pollution, to 1.0 to 1.5 in nonsmokers exposed\\nto ETS.\\n89,90Diesel exhaust found in air pollution', metadata={'source': '/Users/donnymirzaadhitama/Documents/Lung Cancer 2020- Epidemiology, Etiology, and Prevention.pdf', 'page': 11}),\n",
       " Document(page_content='contain gaseous components, such as benzene,formaldehyde, and 1,3-butadiene has knowncarcinogenic effects. There is strong support that\\noccupational exposures to diesel exhaust, espe-\\ncially those in the trucking industry, is associatedwith 30% to 50% increase in the relative risk for\\nlung cancer.\\n91Data linking gasoline engineBade & Dela Cruz 12', metadata={'source': '/Users/donnymirzaadhitama/Documents/Lung Cancer 2020- Epidemiology, Etiology, and Prevention.pdf', 'page': 11}),\n",
       " Document(page_content='exhaust and lung cancer are less clear. A meta-\\nanalysis of European cohort studies found statisti-cally significant association between risk for lungcancer and PM10 (hazard ratio [HR], 1.22 per\\n10mg/m\\n3) and PM2.5 (HR, 1.18 per 5 mg/m3).92\\nAn increase in road traffic of 4000 vehicle-\\nkilometers per day within 100 m of the residence\\nwas significantly associated with an HR for\\nlung cancer of 1.09.93Significant associations\\nwere found with specific PM components (PM2.5\\nCu, PM10 S, PM10 Ni, PM10 Zn, PM10 K) and\\nlung cancer.93\\nUranium, Radium, and Radon\\nThe natural decay of uranium produces radium,which decays into radon gas when alpha particles\\nare emitted. Uranium and radium are found in soil,\\nrock, and mines with variable concentrations.Likely owing to these exposures, mining is the old-\\nest occupation associated with lung cancer.\\nAlthough the etiologic factors causing theincreased lung cancer risk were originally specu-\\nlated as dust-related pneumoconiosis, arsenic, or', metadata={'source': '/Users/donnymirzaadhitama/Documents/Lung Cancer 2020- Epidemiology, Etiology, and Prevention.pdf', 'page': 12}),\n",
       " Document(page_content='cobalt, the actual carcinogens have been identi-fied as radioactive materials, primarily radon and\\nits decay products. Alpha-radiation is highly\\ndamaging to tissues, including the respiratoryepithelium. Inhalation of these radon decay prod-ucts and subsequent alpha particle emission in\\nthe lung may cause damage to cells and genetic\\nmaterial. Ultimately, radon decay produces lead,which has a long half-life of 22 years. Radon is a\\nwell-established carcinogen with extensive data\\navailable both as an occupational hazard as wellas exposure experienced by the general\\npopulation.\\nA linear relationship between radon exposure\\nand lung cancer risk is reported in undergroundminers,\\n94and pooled data from 11 cohort studies\\nshowed that almost 40% of all lung cancer deaths\\n(70% in never smokers and 39% in smokers) werelikely due to radon exposure with potential syner-\\ngistic effect with smoking.\\n95The potential impor-\\ntance of radon as a carcinogen in thenonsmoking population was highlighted where', metadata={'source': '/Users/donnymirzaadhitama/Documents/Lung Cancer 2020- Epidemiology, Etiology, and Prevention.pdf', 'page': 12}),\n",
       " Document(page_content='nonsmoking miners had a higher relative risk for\\nlung cancer compared with all types of miners.\\n96\\nFortunately, uranium mining has now ceased in\\nthe United States; however, radon exposure con-\\ntinues to be an occupational concern in nonura-nium mining and underground work and inuranium mines around the world. Occupational\\nexposure to radon is legislatively controlled in the\\nUnited States where individual exposure recordsare mandated for all workers with annual cumula-\\ntive exposure limit. It has been estimated that a 40-year exposure at this level would increase a per-\\nson’s lifetime risk for lung cancer by approximately2-fold.\\n97\\nRadon, a ubiquitous indoor air pollutant in many\\nhomes, has been projected that to be the second\\nleading cause of lung cancer after smoking,becoming a major concern for the general popula-\\ntion. The primary factor determining radon gas\\nconcentration in homes is the concentration ofradium in the soil and rock beneath those struc-', metadata={'source': '/Users/donnymirzaadhitama/Documents/Lung Cancer 2020- Epidemiology, Etiology, and Prevention.pdf', 'page': 12}),\n",
       " Document(page_content='tures. Indoor-to-outdoor air exchange may also\\naffect the radon concentration within the home.A meta-analysis of 8 studies that included 4263patients with lung cancer and 6612 controls\\nconcluded that greater residential exposure levels\\nwere associated with an increased relative risk forlung cancer of 1.14.\\n98Although there has been\\nsome initial question to the estimated lung\\ncancer risk of indoor radon, recent systematic re-view of 16 studies from 12 different countries\\nfound the attributable fraction to range to be\\nfrom 3% to 17%.\\n99\\nOccupational Exposures (Asbestos)\\nOccupational exposures suggested or proven to\\nbe lung carcinogens include arsenic, asbestos,\\nberyllium, cadmium, chloromethyl ethers, chro-mium, nickel, radon, silica, and vinyl chloride. Ithas been estimated that 10% of lung cancer\\ndeaths among men and 5% among women world-\\nwide could be attributable to exposure to occupa-tional carcinogens, namely asbestos, arsenic,\\nberyllium, cadmium, chromium, nickel, silica, and', metadata={'source': '/Users/donnymirzaadhitama/Documents/Lung Cancer 2020- Epidemiology, Etiology, and Prevention.pdf', 'page': 12}),\n",
       " Document(page_content='diesel fumes.\\n100Approximately 6800 to 17,000\\nlung cancers were a result of exposure to chemi-\\ncals in the workplace in the United States.101\\nAsbestos is a naturally occurring fibrous mineral\\nconsisting primarily of 2 types: serpentine (chryso-tile) and amphibole (amosite, crocidolite, and\\ntremolites) and has for centuries been used\\ncommercially because of its strong and fire-retardant properties, making it useful for construc-\\ntion and insulation materials. There is a debate as\\nto whether asbestos exposure alone and asbes-tosis (fibrosis related to asbestos exposure)\\ncontribute to actual risk for lung cancer. Some\\nhave argued that asbestosis is a necessary pre-cursor to asbestos-attributable lung cancer.\\n102\\nOthers report that asbestos can act as a carcin-ogen independent of the presence ofasbestosis.\\n103\\nAlthough the risk for lung cancer from nonoccu-\\npational asbestos exposure in the general environ-', metadata={'source': '/Users/donnymirzaadhitama/Documents/Lung Cancer 2020- Epidemiology, Etiology, and Prevention.pdf', 'page': 12}),\n",
       " Document(page_content='ment is extremely low, occupational exposure isassociated with a relative risk for lung cancer of\\n3.5 after adjusting for age, smoking, and vitaminLung Cancer Epidemiology 13', metadata={'source': '/Users/donnymirzaadhitama/Documents/Lung Cancer 2020- Epidemiology, Etiology, and Prevention.pdf', 'page': 12}),\n",
       " Document(page_content='use.104The risk is dose dependent, but varied with\\nthe type of asbestos fiber exposure, with a higherrisk for workers exposed to amphibole fibers thanfor those exposed to chrysotile fibers, after adjust-\\ning for similar exposure level.\\n105In the United\\nStates, chrysotile has been by far the mostcommonly used type of asbestos.\\nThe interaction between asbestos and smoking\\nregarding lung cancer risk has been described tobe between additive and multiplicative.\\n106The\\nrelative risk for lung cancer with asbestos expo-\\nsure alone is 6-fold, with cigarette smoking aloneit is 11-fold, but with exposure to both asbestosand cigarette smoke, the increase may be as\\nhigh as 59-fold.\\n106Smoking cessation should be\\nthe most important goal of cancer prevention pro-grams in this population, with targeting of the sub-\\ngroup of workers with asbestosis. Fortunately,\\nwith recognition of the harmful health risks relatedto asbestos, its use has precipitously decreased in\\nthe United States since the 1970s.', metadata={'source': '/Users/donnymirzaadhitama/Documents/Lung Cancer 2020- Epidemiology, Etiology, and Prevention.pdf', 'page': 13}),\n",
       " Document(page_content='Prevention of Environmental and\\nOccupational Exposures\\nIn the United States, the Occupational Safety and\\nHealth Administration defines standards for expo-sure and worker production in the construction in-dustry and associated employment sectors.\\n107\\nFrom an environmental perspective, radon andenvironmental and household air pollution (ie,smoke from warming or cooking houses) are the\\npredominant exposures. Because radon is diluted\\nto low concentrations outdoors, the most worri-some exposures are in homes. Prevention via\\ntesting for radon in both newly built and existing\\nhomes is recommended.\\n108Decreasing exposure\\nto air pollution is a particular problem in developingand industrializing nations. Household exposure\\nmay be decreased via alternative heating/cooking\\nmethods or wearing a mask to avoid direct lungexposure. Toward this end, the World Health Or-\\nganization is developing a Clean Household En-', metadata={'source': '/Users/donnymirzaadhitama/Documents/Lung Cancer 2020- Epidemiology, Etiology, and Prevention.pdf', 'page': 13}),\n",
       " Document(page_content='ergy Solution Toolkit, which may be implementedto decrease the risks of household fuel combus-\\ntion.\\n109Decreases in environmental air pollution\\nwill require national and international efforts toimprove air quality.\\nGenetic Predisposition and History of Cancer\\nThere is a genetic component to the pathogenesisof lung cancer, whether it relates to host suscepti-bility to lung cancer (with or without exposure to\\ncigarette smoke and to the development of certain\\ntypes of lung cancer) or to an individual’s respon-siveness to therapies. The importance of a family\\nhistory of cancer, especially for family memberswith early onset lung cancer, has been highlighted\\nby the incorporation into several lung cancer riskprediction algorithms.\\n110,111A lot has been\\nlearned about the molecular epidemiology of\\nlung cancer and on host susceptibility genetic\\nmarkers to lung carcinogens (see Ramin Salehi-Rad and colleagues’ article, “ The Biology of Lung\\nCancer: Development of More Effective Methods', metadata={'source': '/Users/donnymirzaadhitama/Documents/Lung Cancer 2020- Epidemiology, Etiology, and Prevention.pdf', 'page': 13}),\n",
       " Document(page_content='for Prevention, Diagnosis and Treatment ,” in this\\nissue). The susceptibility genetic factors include\\nhigh-penetrance, low-frequency genes; low-\\npenetrance, high-frequency genes; and acquiredepigenetic polymorphisms. Familial associationapproaches such as those in rare mendelian can-\\ncer syndromes (Bloom and Werner syndromes)\\nhave been used to discover high-penetrance,low-frequency genes. There is a 2-fold increased\\nrisk for lung cancer in smokers with a family history\\nof lung cancer with an increased risk also presentin nonsmokers.\\n112Large-effect genome-wide as-\\nsociations for squamous lung cancer with the\\nrare variants BRCA2 and CHEK2 has recentlybeen described in a European cohort.\\n113\\nMany candidate susceptibility genes that are of\\nlow penetrance and high frequency have been re-ported. There have been more than 1000 candi-date gene association studies on genetic\\nsusceptibility to lung cancer in the past 2 decades', metadata={'source': '/Users/donnymirzaadhitama/Documents/Lung Cancer 2020- Epidemiology, Etiology, and Prevention.pdf', 'page': 13}),\n",
       " Document(page_content='but without clear consensus. One study reported22 of 21 genes (including ATM, CXCR2, CYP1A1,\\nCYP2E1, ERCC1, ERCC2, FGFR4, SOD2, TERT,\\nand TP53) exhibiting significant associations withlung cancer susceptibility.\\n114Genotypic analysis\\ncombined with existing data for an aggregated\\ngenome-wide association study analysis of lungcancer identified 18 (including 10 new) susceptibil-\\nity loci that highlighted striking heterogeneity in ge-\\nnetic susceptibility across the histologic subtypesof lung cancer.\\n115This work highlighted RNASET2,\\nSECISBP2L, and NRG1 as candidate genes, as\\nwell as cholinergic nicotinic receptor, CHRNA2,\\nand the telomere-related genes OFBC1 andRTEL1.\\n115High-depth, high-accuracy microsatel-\\nlite genotyping revealed 2 genes (ARID1B and\\nREL) and 2 significantly enriched pathways (chro-matin organization and cellular stress response),\\nsuggesting lung carcinogenesis to be linked to\\nchromatin remodeling, inflammation, and tumormicroenvironment restructuring.\\n116', metadata={'source': '/Users/donnymirzaadhitama/Documents/Lung Cancer 2020- Epidemiology, Etiology, and Prevention.pdf', 'page': 13}),\n",
       " Document(page_content='116\\nSusceptibility to carcinogenic agents may also\\nbe affected by individual differences in mutagen\\nsensitivity as noted by studies of DNA repair andlung cancer risks.\\n117Polymorphisms in DNA repair\\nenzymes active in base excision repair (XRCC1\\nand OGG1), nucleotide excision repair (ERCC1,XPD, and XPA), and double-strand break repair\\n(XRCC3), and different mismatch repair pathwaysBade & Dela Cruz 14', metadata={'source': '/Users/donnymirzaadhitama/Documents/Lung Cancer 2020- Epidemiology, Etiology, and Prevention.pdf', 'page': 13}),\n",
       " Document(page_content='have been linked to lung cancer risks. Chronic\\ninflammation in response to repetitive tobaccoexposure has been theorized as being involved inlung tumorigenesis. Genes encoding for the inter-\\nleukins or cyclo-oxygenase involved in inflamma-\\ntion, or the metalloproteases involve in repairduring inflammation have been associated with\\nlung cancer risk.\\n116Several cell cycle–related\\ngenes have been implicated in lung cancer sus-ceptibility, including tumor suppressor genes p53\\nand p73, and apoptosis genes FAS and FASL.\\nDNA adducts can be measured as biomarkers torepresent the degree of carcinogenesis and lungcancer susceptibility. Acquired or epigenetic\\nchanges to DNA chromosome can also lead to\\nincreased lung cancer susceptibility. These eventsinclude DNA methylation, histone deacetylation,\\nand phosphorylation, all of which can affect gene\\nexpression.\\nLung cancer susceptibility is determined at least\\nin part by host genetic factors. Persons with ge-', metadata={'source': '/Users/donnymirzaadhitama/Documents/Lung Cancer 2020- Epidemiology, Etiology, and Prevention.pdf', 'page': 14}),\n",
       " Document(page_content='netic susceptibility might therefore be at higherrisk if they smoke tobacco. As more is being\\ndiscovered about genetic risks to lung cancer, it\\nmay be possible to target high-risk subgroups forlung cancer for specific interventions, includingintensive efforts at smoking cessation, screening,\\nand prevention programs.\\nChronic Lung Diseases\\nChronic lung diseases have been associated with\\nan increased risk for lung cancer, the strongest as-\\nsociation being with chronic obstructive pulmo-\\nnary disease (COPD), especially in men.118The\\nprevalence of COPD in newly diagnosed lung can-\\ncer in 1 study was 6-fold greater than matched\\nsmokers, suggesting that COPD itself is an impor-tant independent risk factor.\\n118COPD is charac-\\nterized by chronic inflammation and a study\\nfound that the likelihood of developing lung cancer\\nwas increased if C-reactive protein, a nonspecificmeasure of inflammation, was greater than 3 mg/\\nL compared with patients with lower levels\\n(<1 mg/L).', metadata={'source': '/Users/donnymirzaadhitama/Documents/Lung Cancer 2020- Epidemiology, Etiology, and Prevention.pdf', 'page': 14}),\n",
       " Document(page_content='(<1 mg/L).\\n119A large retrospective study of pa-\\ntients with COPD found that the risk for lung can-\\ncer was lower among patients who took high-\\ndose inhaled corticosteroids (ICS) compared withpatients taking lower doses or none at all.\\n120A\\nrecent study using population-based linked\\nadministrative data in Canada showed that ICSexposure was associated with a 30% reducedrisk of lung cancer with a HR of 0.70.\\n121These re-\\nsults highlight the use of ICS as a potential chemo-\\nprevention in lung cancer among patients withCOPD. However, this finding must be tempered,\\ngiven that other investigators have shown thatpatients with COPD with post-ICS tuberculosis\\nor pneumonia had increased risk of lungcancers.\\n122\\nAlpha1-antitrypsin deficiency carriers have a\\nhigher risk for lung cancer (2-fold), after adjusting\\nfor tobacco smoke and COPD.123The incidence\\nof lung cancer in patients with interstitial fibrosis\\nis reported to be markedly increased with an OR', metadata={'source': '/Users/donnymirzaadhitama/Documents/Lung Cancer 2020- Epidemiology, Etiology, and Prevention.pdf', 'page': 14}),\n",
       " Document(page_content='for lung cancer of 8.25 compared with control sub-jects, even after adjustment for smoking.\\n124The\\nrisk of development of lung cancer in idiopathic\\npulmonary fibrosis or usual interstitial fibrosis ishigher for older male smokers and significantlyhigher in those with combined usual interstitial\\nfibrosis and emphysema syndrome compared\\nwith fibrosis only.\\n125Other fibrosing diseases,\\nincluding asbestosis and scleroderma-related\\nlung disease, also have an increased association\\nwith lung cancer. Although the mechanisms bywhich pulmonary interstitial disease may predis-\\npose to lung malignancy are not clear, various hy-\\npotheses have been raised, including malignanttransformation related to chronic inflammation,\\nepithelial hyperplasia, impaired clearance of car-\\ncinogens, and infections.\\nInfections\\nInfection as a causative factor in lung cancer re-mains debatable. A potential role for human papil-\\nlomavirus (HPV) has been suggested in lung', metadata={'source': '/Users/donnymirzaadhitama/Documents/Lung Cancer 2020- Epidemiology, Etiology, and Prevention.pdf', 'page': 14}),\n",
       " Document(page_content='cancer because it has been detected in bronchialsquamous cell lesions.\\n105A high incidence of\\nHPV DNA in lung cancer has been reported in\\nAsian cohorts, especially in nonsmokers; however,studies in Western Europe failed to show an etio-\\nlogic role of HPV in lung cancer.\\n126HPV serotypes\\n16 and 18 have been associated with lung cancermore than other serotypes. E6 and E7 oncogenesfrom these HPV serotypes have been shown to\\nimmortalize human tracheal epithelial cells, which\\nthemselves are highly prone to genetic dam-age.\\n127It will take time to see if an HPV-directed\\nvaccine for cervical cancer has any impact on\\nthe incidence of lung cancer.\\nBioinformatic analyses of The Cancer Genome\\nAtlas data found that viral sequences can be iden-\\ntified in 21% of the lung cancer samples comparedwith paired adjacent normal tissues.\\n128Viral se-\\nquences from only 8 viruses were found in lung', metadata={'source': '/Users/donnymirzaadhitama/Documents/Lung Cancer 2020- Epidemiology, Etiology, and Prevention.pdf', 'page': 14}),\n",
       " Document(page_content='cancer and these include HPV16, HPV18,HPV30, HPV33, human herpesvirus 4 (or Epstein-Barr virus), human herpesvirus 5 (or cytomegalo-\\nvirus CMV), human herpesvirus 6 and hepatitis B\\nvirus. Epstein-Barr virus, which is associatedwith Burkitt lymphoma and nasopharyngeal carci-\\nnoma, has been strongly associated withLung Cancer Epidemiology 15', metadata={'source': '/Users/donnymirzaadhitama/Documents/Lung Cancer 2020- Epidemiology, Etiology, and Prevention.pdf', 'page': 14}),\n",
       " Document(page_content='lymphoepithelioma-like carcinoma, a rare form of\\nlung cancer, in Asian patients, but this associationhas not been observed in the Western popula-tion.\\n129Other viruses suggested as etiologic for\\nlung cancer include BK virus, JC virus, the human\\ncytomegalovirus, simian virus 40, measles virus,and Torque tenovirus; however, the results have\\nremained inconclusive.\\n130–132\\nChlamydia (Chlamydophila )pneumonia is a\\ncommon cause of respiratory infection, especially\\nin smokers and might have a role in lung cancer.133\\nAlthough not known as an oncogenic pathogen,\\nthe inflammation resulting from Chlamydia infec-tion and or C pneumoniae proteins can lead to\\nDNA damage and cellular injury conferring selec-\\ntive advantages for tumorigenesis.\\n134A cohort\\nstudy of tuberculosis patients showed an\\nincreased risk for lung cancer in these patients\\nwith hazard ratio of 3.3 after adjusting forCOPD.\\n135Another study found that tuberculosis\\nwas significantly associated with increased risk', metadata={'source': '/Users/donnymirzaadhitama/Documents/Lung Cancer 2020- Epidemiology, Etiology, and Prevention.pdf', 'page': 15}),\n",
       " Document(page_content='for lung cancer (HR, 1.37) and mortality(HR, 1.43).\\n136Interestingly, there was no evidence\\nfor synergism between a history of tuberculosis\\nand smoking. It has been speculated that thetuberculosis-related inflammation and scarringcontribute to lung cancer pathogenesis.\\n137\\nPatients infected with the human immunodefi-\\nciency virus (HIV) are living longer owing to antire-troviral treatments; however, there is an increase\\nin the proportion of deaths attributable to non–\\nAIDS-defining tumors, especially lung cancer,which has become a leading cause of death\\namong people living with HIV.\\n138,139More than\\n40% of people living with HIV in the United Statessmoke cigarettes and HIV itself independently in-\\ncreases the risk of lung cancer.\\n140Tobacco use\\nand HIV together may accelerate the developmentof lung cancer. The risk of lung cancer is increasedby the presence of HIV through mechanisms likely\\ninvolving chronic inflammation, immunomodula-', metadata={'source': '/Users/donnymirzaadhitama/Documents/Lung Cancer 2020- Epidemiology, Etiology, and Prevention.pdf', 'page': 15}),\n",
       " Document(page_content='tion, and other infections. HIV was associatedwith a hazard ratio of 3.6 for lung cancer after con-\\ntrolling for smoking.\\n141An increased risk of lung\\ncancer in veteran patients with HIV was associatedwith low CD4 cell count, high viral load, and more\\nbacterial pneumonia episodes.\\n142Other factors\\nthat could contribute to the higher incidence oflung cancer in patients with HIV include the greaterprevalence of co-infection with oncogenic viruses\\n(HPV, Epstein-Barr virus, and Kaposi sarcoma vi-\\nrus), the potential direct effects of the HIV virus,and the consequences of long-term immunosup-\\npression.\\n143Certain lung microbiota dysbiosis\\nhas recently been correlated with developmentof lung cancer.\\n144For example, the lower airways\\nof patients with lung cancer were enriched for oraltaxa Streptococcus and Veillonella , which was\\nassociated with an up-regulation of the ERK andPI3K inflammatory signaling pathways.\\n145Overall,\\nevidence suggests that infection could play a role', metadata={'source': '/Users/donnymirzaadhitama/Documents/Lung Cancer 2020- Epidemiology, Etiology, and Prevention.pdf', 'page': 15}),\n",
       " Document(page_content='in lung cancer; however, definite proof of a causal\\nrelationship remains lacking.\\nDiet\\nCertain dietary items such as red meat, dairy prod-\\nucts, saturated fats, and lipids have been sug-\\ngested to increase the risk for lung cancer. Ameta-analysis found a significant (24%) increased\\nrisk of lung cancer for high consumption of red\\nmeat (relative risk, 1.24) among never smokersand nonsmokers\\n146but not for high consumption\\nof other types of meat or fish or for heterocyclic\\namines. A pooled analysis of 10 prospective\\ncohort studies showed that high intakes of totaland saturated fat were associated with increased\\nrisk of lung cancer (HR, 1.07 and 1.14, respec-\\ntively) where the positive association was greaterin current smokers than former/never smokers,\\nwhereas a high intake of polyunsaturated fat was\\nassociated with a decreased risk of lung cancer(HR, 0.92).\\n147Moreover, a 5% energy substitution\\nof saturated fat with polyunsaturated fat was asso-', metadata={'source': '/Users/donnymirzaadhitama/Documents/Lung Cancer 2020- Epidemiology, Etiology, and Prevention.pdf', 'page': 15}),\n",
       " Document(page_content='ciated with a 16% to 17% lower risk of small celland squamous cell carcinoma, respectively. Otherfoods with an adverse effect on lung cancer\\ninclude food that contain nitrosodimethylamines\\nand nitrites (found in salted and smoked meatproducts).\\n148\\nMany large-scale studies of vitamin supplemen-\\ntation have yielded disappointingly negative re-sults.\\n149,150Because of the large body of\\nepidemiologic literature pointing to the benefits\\nof fruits and vegetables, most health authoritiescontinue to recommend a balanced dietary intakeincorporating fruits and vegetables.\\n151Vitamin A\\nhas both an animal (retinol) and a vegetable (carot-\\nenoid) source; the vegetable component may haveprotective effects against lung cancer. In partic-\\nular, studies have shown beta-carotene (a promi-\\nnent carotenoid) and vitamins C and E (alpha-tocopherol) may have some protective effect\\nagainst lung cancer.\\n152,153However, large trials', metadata={'source': '/Users/donnymirzaadhitama/Documents/Lung Cancer 2020- Epidemiology, Etiology, and Prevention.pdf', 'page': 15}),\n",
       " Document(page_content='such as The Alpha-Tocopherol, Beta CaroteneCancer Prevention (ATBC) Study and the Beta-\\nCarotene and Retinol Efficacy Trial (CARET) not\\nonly did not find benefit of dietary supplementa-tion, but they found higher than expected mortalityin the group that received beta-carotene and or\\nvitamin A.\\n150,154As a result of these studies,\\namong others, the use of supplemental beta-carotene and vitamin A is discouraged. There\\nhave also been suggestions that low dietary intakeBade & Dela Cruz 16', metadata={'source': '/Users/donnymirzaadhitama/Documents/Lung Cancer 2020- Epidemiology, Etiology, and Prevention.pdf', 'page': 15}),\n",
       " Document(page_content='of certain minerals, including magnesium, zinc,\\ncopper, and iron, is associated with increasedlung cancer risk; however, later prospective cohortstudies observed no associations between total\\nmineral intake and lung cancer.\\n155,156Overall, die-\\ntary supplementation in lung cancer prevention isunclear and these studies should serve as a\\nreminder that indiscreet and excessive intake of vi-\\ntamins or other chemicals can be potentiallyharmful.\\nFruits and vegetables that contain carotenoids\\nand other antioxidants have been hypothesizedto decrease lung cancer risk. Comparing the high-est with the lowest intakes incorporating a large\\nnumber of independent studies, the summary rela-\\ntive risk estimates were 0.92 for vegetables and0.82 for fruits.\\n157Significant inverse dose–\\nresponse associations were observed for each\\n100 g/d increase for fruits and vegetables withno additional benefit when increasing consump-\\ntion more than 400 g/d. A meta-analysis of 37', metadata={'source': '/Users/donnymirzaadhitama/Documents/Lung Cancer 2020- Epidemiology, Etiology, and Prevention.pdf', 'page': 16}),\n",
       " Document(page_content='studies showed similar significant associationsbetween vegetables and fruits intake and lung\\ncancer risk with effects stronger in females than\\nin males.\\n158Although these studies showed that\\nany types of vegetables and fruits have beneficialeffects with lung cancer, the consumption of veg-\\netables described as cruciferous, such as broccoli\\nand cabbage, which are rich in isothiocyanates,has protective effect against lung cancer.\\n159Low\\nor no intake of fruits or vegetables has been asso-\\nciated with up to a 3-fold risk for lung cancer.160\\nFurthermore, consuming fruits or vegetables raw\\nrather than cooked is associated with a further\\ndecrease in the risk for lung cancer becauseimportant carotenoids can be destroyed with\\ncooking.\\n161\\nFlavonoid plant metabolites have antioxidant\\nand antiproliferative properties and can be foundin foods, such as berries, citrus fruits, tea, dark\\nchocolate, and red wine. A prospective study', metadata={'source': '/Users/donnymirzaadhitama/Documents/Lung Cancer 2020- Epidemiology, Etiology, and Prevention.pdf', 'page': 16}),\n",
       " Document(page_content='showed the risk for lung cancer was lower inmen with high total flavonoid intake.\\n162Consump-\\ntion of vegetables, tea, and wine, all of which are\\nrich sources of flavonoids, was associatedinversely with lung cancer among tobacco\\nsmokers.\\nA pooled analysis of the International Lung Can-\\ncer Consortium and the SYNERGY study found aninverse association between overall risk of lung\\ncancer and consumption of alcoholic beverages\\ncompared with nondrinkers.\\n163The lowest risk\\nwas observed for persons who consumed 10.0\\nto 19.9 g/d of alcoholic beverage where 1 drink\\nis approximately 12 to 15 g. There is an inverse as-sociation found between the consumption of wine\\nand liquor, but not beer, and lung cancer.\\n164Epidemiologic studies investigating the associa-\\ntion between coffee consumption and lung cancerrisk have yielded inconsistent results, althoughrecent studies have consistently indicated a signif-\\nicantly increased risk by 47% in the population', metadata={'source': '/Users/donnymirzaadhitama/Documents/Lung Cancer 2020- Epidemiology, Etiology, and Prevention.pdf', 'page': 16}),\n",
       " Document(page_content='with the highest category intake of coffeecompared with the lowest category of intake.\\n165\\nObesity and Exercise\\nGlobally, more than 1.9 billion adults are over-weight and of these 650 million are obese.\\nAlthough a meta-analysis showed an inverse as-\\nsociation between body mass index (BMI) andlung cancer risk, and obesity may even have a pro-tective role,\\n166the association between BMI and\\nlung cancer was not significant in the absence of\\ncigarette smoking. The observed BMI and cancerassociation may be related to residual strong con-\\nfounding effects of smoking because smokers\\ntend to have a lower BMI than their matched non-smokers with some gaining weight upon smoking\\ncessation.\\n167A meta-analysis of 29 studies\\nshowed, that compared with normal weight, therelative risk for lung cancer was 0.77 for excess\\nbody weight with a BMI of 25 kg/m\\n2or greater.168\\nUnderweight has also been associated with lower\\nlung cancer risk, with a nonlinear, invertedU-shaped relationship.', metadata={'source': '/Users/donnymirzaadhitama/Documents/Lung Cancer 2020- Epidemiology, Etiology, and Prevention.pdf', 'page': 16}),\n",
       " Document(page_content='169Waist circumference\\nhas been found to be positively associated with\\nlung cancer risk in smokers.170\\nThe role of physical activity and lung cancer risk\\nhas been mixed. Physical activity has been associ-\\nated with lower lung cancer risk with estimates,ranging from a 20% to a 50% lower risk in the\\nmost active study participants.\\n171A prospective\\nstudy found that, in middle-aged men with no his-tory of lung cancer, increasing levels of cardiore-spiratory fitness serve as a protective factor\\nagainst lung cancer.\\n172Using a large database of\\nsubjects in a cancer prevention study, physical ac-tivity was not associated with lung cancer risk\\nwithin any of the smoking strata except in former\\nsmokers less than 10 years since quitting (relativerisk, 0.77).\\n169Favorable lifestyle including good\\ncardiorespiratory fitness, healthy dietary habits\\nand nonsmoking lifestyle considerably reducesthe risk of cancer, especially lung cancer in\\nmen.\\n173\\nLung Cancer Risk Predictive Models', metadata={'source': '/Users/donnymirzaadhitama/Documents/Lung Cancer 2020- Epidemiology, Etiology, and Prevention.pdf', 'page': 16}),\n",
       " Document(page_content='With a better understanding of the risk factors for\\nlung cancer, predictive models have improved.\\nThe implementation of LCS has heightened the\\nimportance of predicting individual lung cancerrisk. Updated lung cancer risk prediction models\\nhave built on prior findings and several areLung Cancer Epidemiology 17', metadata={'source': '/Users/donnymirzaadhitama/Documents/Lung Cancer 2020- Epidemiology, Etiology, and Prevention.pdf', 'page': 16}),\n",
       " Document(page_content='currently available.174For example, the\\nPLCO M2012 model using patients from the Pros-\\ntate, Lung, Colorectal and Ovarian (PLCO) CancerScreening Trial and the National Lung Screening\\nTrial who were current or former smokers incorpo-\\nrated age, race, education, BMI, smoking history,family history of lung cancer, personal history of\\ncancer, and COPD.\\n175When compared with\\nestablished LCS criteria (including age andsmoking history; Nina A. Thomas and Nichole T.\\nTanner’s article, “ Lung Cancer Screening: Patient\\nSelection and Implementation ,” in this issue),\\nPLCO\\nM2012 had a higher sensitivity and positive\\npredictive value for determining individual risk of\\ndeveloping lung cancers. Risk-based selection of\\npatients for LCS may be associated with a lowernumber needed to screen.\\n176Trials are underway\\ncomparing lung cancer predictive models with\\ncurrent LCS criteria.177\\nChemopreventive Agents', metadata={'source': '/Users/donnymirzaadhitama/Documents/Lung Cancer 2020- Epidemiology, Etiology, and Prevention.pdf', 'page': 17}),\n",
       " Document(page_content='Although multiple potential chemopreventiveagents, including beta-carotene supplementation,vitamin E, retinoids, N-acetylcysteine, isotretinoin,\\naspirin, selenium, prostacyclin analogues, cyclo-\\noxygenase-2 inhibitors, anethole dithiolethione,inhaled steroids, pioglitazone, myoinositol, teaextract, and metformin have been studied; howev-\\ner, to date none have been identified as effec-\\ntive.\\n178Decreasing inflammation is a purported\\nmechanism for reducing lung cancer risk and large\\nretrospective studies have reported lower lung\\ncancer risk in patients receiving cholesterol-lowering statin medications\\n179and in patients\\nwith COPD treated with ICS.120,121Unfortunately,\\nconflicting results have been reported for bothmedication classes, showing no effects on lungcancer risk reduction.\\n147,180\\nSUMMARY\\nLung cancer remains a major problem in the United\\nStates and globally. Despite recent advances, the\\ndisease remains the number one cause of cancer', metadata={'source': '/Users/donnymirzaadhitama/Documents/Lung Cancer 2020- Epidemiology, Etiology, and Prevention.pdf', 'page': 17}),\n",
       " Document(page_content='death and portends one of the lowest 5-year sur-vival rates among all cancer types. In the United\\nStates, incidence and mortality are improving,\\nwhereas globally the number of lung cancer casesis still increasing likely due to rising tobacco use in\\ndeveloping and lower- and middle-income coun-\\ntries. The primary risk factor for lung cancer is ciga-rette smoking, and smoking cessation is animperative component of cancer prevention. Effec-\\ntive smoking cessation in the United States is\\nchanging traditional patterns of lung cancer devel-opment; in fact, some have estimated that 25% of\\nall lung cancer cases are observed in neversmokers and this number is likely to increase in\\nthe future. Understanding the role of nontobaccorisk factors will be increasingly important. Futurepreventive efforts and research needs to prioritize\\nnon–tobacco-related modifiable risk factors and\\nprovide more clarity with regard to modern expo-sures, such as noncigarette tobacco smoking', metadata={'source': '/Users/donnymirzaadhitama/Documents/Lung Cancer 2020- Epidemiology, Etiology, and Prevention.pdf', 'page': 17}),\n",
       " Document(page_content='products. There is likely benefit to maintaining a\\nhealthy body weight, increased physical activity,and healthy eating with a diet rich in whole grains,\\nfruit, and vegetables. From a population health\\nperspective, continued measures to promote to-bacco smoking avoidance or cessation, protectworkers from known inhaled carcinogens, and\\nmaintain clean air are needed to facilitate a\\ndecreased risk of lung cancer. The challenge inthe future will be to modify the impact of all risk fac-\\ntors while continuing to expand our knowledge of\\nthe genetic and molecular basis of carcinogenesis.\\nCONFLICTS OF INTEREST\\nNone.\\nREFERENCES\\n1. World Health Organization. Cancer. 2018. Avail-\\nable at: http://www.who.int/news-room/fact-sheets/\\ndetail/cancer . Accessed 24 November, 2018.\\n2.Ng M, Freeman MK, Fleming TD, et al. Smoking\\nprevalence and cigarette consumption in 187\\ncountries, 1980-2012. JAMA 2014;311(2):183–92 .\\n3.Dela Cruz CS, Tanoue LT, Matthay RA. Lung can-', metadata={'source': '/Users/donnymirzaadhitama/Documents/Lung Cancer 2020- Epidemiology, Etiology, and Prevention.pdf', 'page': 17}),\n",
       " Document(page_content='cer: epidemiology, etiology, and prevention. Clin\\nChest Med 2011;32(4):605–44 .\\n4. World Health Organization. Cancer fact sheets,\\nlung cancer. 2018. Available at: http://gco.iarc.fr/\\ntoday/fact-sheets-cancers . Accessed December\\n2, 2018.\\n5.Bray F, Ferlay J, Soerjomataram I, et al. Global can-\\ncer statistics 2018: GLOBOCAN estimates of inci-\\ndence and mortality worldwide for 36 cancers in185 countries. CA Cancer J Clin 2018;68(6):\\n394–424 .\\n6.Torre LA, Siegel RL, Jemal A. Lung cancer statis-\\ntics. Adv Exp Med Biol 2016;893:1–19 .\\n7.Torre LA, Bray F , Siegel RL, et al. Global cancer sta-\\ntistics, 2012. CA Cancer J Clin 2015;65(2):87–108 .\\n8. American Lung Association. Trends in tobacco use.\\n2011. Available at: https://www.lung.org/assets/\\ndocuments/research/tobacco-trend-report.pdf .A c -\\ncessed November 30, 2018.\\n9. American Lung Association Research and Program\\nServices. Trends in tobacco use. 2011. Available at:', metadata={'source': '/Users/donnymirzaadhitama/Documents/Lung Cancer 2020- Epidemiology, Etiology, and Prevention.pdf', 'page': 17}),\n",
       " Document(page_content='https://www.lung.org/assets/documents/research/tobacco-trend-report.pdf . Accessed 24 November,\\n2018.Bade & Dela Cruz 18', metadata={'source': '/Users/donnymirzaadhitama/Documents/Lung Cancer 2020- Epidemiology, Etiology, and Prevention.pdf', 'page': 17}),\n",
       " Document(page_content='10. Howlader N, NA, Krapcho M, et al, editors. SEER\\ncancer statistics review, 1975-2016. 2019. Avail-able at: https://seer.cancer.gov/csr/1975_2016/\\n2019. Accessed May 26, 2019.\\n11.Siegel R, Ward E, Brawley O, et al. Cancer statis-\\ntics, 2011: the impact of eliminating socioeconomic\\nand racial disparities on premature cancer deaths.\\nCA Cancer J Clin 2011;61(4):212–36 .\\n12.Siegel RL, Miller KD, Jemal A. Cancer statistics,\\n2019. CA Cancer J Clin 2019;69(1):7–34 .\\n13.Siegel RL, Miller KD, Jemal A. Cancer statistics,\\n2017. CA Cancer J Clin 2017;67(1):7–30 .\\n14.Wang TW, Asman K, Gentzke AS, et al. Tobacco\\nproduct use among adults - United States, 2017.MMWR Morb Mortal Wkly Rep 2018;67(44):1225–32 .\\n15.Cronin KA, Lake AJ, Scott S, et al. Annual report to\\nthe nation on the status of cancer, part I: nationalcancer statistics. Cancer 2018;124(13):2785–800 .\\n16.Jeon J, Holford TR, Levy DT, et al. Smoking and', metadata={'source': '/Users/donnymirzaadhitama/Documents/Lung Cancer 2020- Epidemiology, Etiology, and Prevention.pdf', 'page': 18}),\n",
       " Document(page_content='lung cancer mortality in the United States from2015 to 2065: a comparative modeling approach.\\nAnn Intern Med 2018;169(10):684–93 .\\n17.Boyer MJ, Williams CD, Harpole DH, et al.\\nImproved survival of stage I non-small cell lung\\ncancer: a VA Central cancer registry analysis.\\nJ Thorac Oncol 2017;12(12):1814–23 .\\n18.Silvestri GA, Carpenter MJ. Smoking trends and\\nlung cancer mortality: the good, the bad, and the\\nugly. Ann Intern Med 2018;169(10):721–2 .\\n19.National Lung Screening Trial Research Team,\\nAberle DR, Adams AM, Berg CD, et al. Reduced\\nlung-cancer mortality with low-dose computed\\ntomographic screening. N Engl J Med 2011;365(5):395–409 .\\n20.Jemal A, Fedewa SA. Lung cancer screening with\\nlow-dose computed tomography in the UnitedStates-2010 to 2015. JAMA Oncol 2017;3(9):1278–81 .\\n21.Reck M, Rabe KF. Precision diagnosis and treat-\\nment for advanced non-small-cell lung cancer.N Engl J Med 2017;377(9):849–61 .\\n22.Donington JS, Colson YL. Sex and gender differ-', metadata={'source': '/Users/donnymirzaadhitama/Documents/Lung Cancer 2020- Epidemiology, Etiology, and Prevention.pdf', 'page': 18}),\n",
       " Document(page_content='ences in non-small cell lung cancer. Semin ThoracCardiovasc Surg 2011;23(2):137–45 .\\n23.Kligerman S, White C. Epidemiology of lung cancer\\nin women: risk factors, survival, and screening.AJR Am J Roentgenol 2011;196(2):287–95 .\\n24.Jemal A, Miller KD, Ma J, et al. Higher lung cancer\\nincidence in young women than young men in theUnited States. N Engl J Med 2018;378(21):1999–2009 .\\n25. American Lung Association. Tobacco use in racial\\nand ethnic populations. 2018. Available at: https://\\nwww.lung.org/stop-smoking/smoking-facts/tobacco-\\nuse-racial-and-ethnic.html . Accessed October 28,\\n2018.26.Bach PB, Cramer LD, Warren JL, et al. Racial differ-\\nences in the treatment of early-stage lung cancer.N Engl J Med 1999;341(16):1198–205 .\\n27.Hardy D, Liu CC, Xia R, et al. Racial disparities and\\ntreatment trends in a large cohort of elderly blackand white patients with nonsmall cell lung cancer.\\nCancer 2009;115(10):2199–211 .\\n28.Wisnivesky JP, McGinn T, Henschke C, et al. Ethnic', metadata={'source': '/Users/donnymirzaadhitama/Documents/Lung Cancer 2020- Epidemiology, Etiology, and Prevention.pdf', 'page': 18}),\n",
       " Document(page_content='disparities in the treatment of stage I non-small cell\\nlung cancer. Am J Respir Crit Care Med 2005;\\n171(10):1158–63 .\\n29.Tanner NT, Gebregziabher M, Hughes Halbert C,\\net al. Racial differences in outcomes within the na-\\ntional lung screening trial. Implications for wide-spread implementation. Am J Respir Crit CareMed 2015;192(2):200–8 .\\n30.Ross K, Kramer MR, Jemal A. Geographic inequal-\\nities in progress against lung cancer amongwomen in the United States, 1990-2015. Cancer\\nEpidemiol Biomarkers Prev 2018;27(11):1261–4 .\\n31.\\nJemal A, Ma J, Rosenberg PS, et al. Increasinglung cancer death rates among young women in\\nsouthern and midwestern States. J Clin Oncol\\n2012;30(22):2739–44 .\\n32.Jemal A, Thun M, Yu XQ, et al. Changes in smoking\\nprevalence among U.S. Adults by state and region:\\nestimates from the tobacco use supplement to thecurrent population Survey, 1992-2007. BMC PublicHealth 2011;11:512 .\\n33.Hastert TA, Beresford SA, Sheppard L, et al. Dis-', metadata={'source': '/Users/donnymirzaadhitama/Documents/Lung Cancer 2020- Epidemiology, Etiology, and Prevention.pdf', 'page': 18}),\n",
       " Document(page_content='parities in cancer incidence and mortality byarea-level socioeconomic status: a multilevel anal-\\nysis. J Epidemiol Community Health 2015;69(2):\\n168–76 .\\n34.Clegg LX, Reichman ME, Miller BA, et al. Impact of\\nsocioeconomic status on cancer incidence and\\nstage at diagnosis: selected findings from the sur-veillance, epidemiology, and end results: nationalLongitudinal Mortality Study. Cancer Causes Con-\\ntrol 2009;20(4):417–35 .\\n35.Sidorchuk A, Agardh EE, Aremu O, et al. Socioeco-\\nnomic differences in lung cancer incidence: a sys-\\ntematic review and meta-analysis. Cancer Causes\\nControl 2009;20(4):459–71 .\\n36.LaPar DJ, Bhamidipati CM, Harris DA, et al.\\nGender, race, and socioeconomic status affects\\noutcomes after lung cancer resections in theUnited States. Ann Thorac Surg 2011;92(2):434–9 .\\n37.Hovanec J, Siemiatycki J, Conway DI, et al. Lung\\ncancer and socioeconomic status in a pooled anal-ysis of case-control studies. PLoS One 2018;13(2):e0192999 .', metadata={'source': '/Users/donnymirzaadhitama/Documents/Lung Cancer 2020- Epidemiology, Etiology, and Prevention.pdf', 'page': 18}),\n",
       " Document(page_content='38.Warner KE, Mendez D. Tobacco control policy in\\ndeveloped countries: yesterday, today, andtomorrow. Nicotine Tob Res 2010;12(9):876–87 .\\n39.Wynder EL, Graham EA. Tobacco smoking as a\\npossible etiologic factor in bronchiogenicLung Cancer Epidemiology 19', metadata={'source': '/Users/donnymirzaadhitama/Documents/Lung Cancer 2020- Epidemiology, Etiology, and Prevention.pdf', 'page': 18}),\n",
       " Document(page_content='carcinoma; a study of 684 proved cases. J Am\\nMed Assoc 1950;143(4):329–36 .\\n40.U.S. Public Health Service, Office of the Surgeon\\nGeneral: the health consequences of smoking.\\n72-7516 PNH. Washington, DC: National Clearing-house for Smoking Health.; 1972 .\\n41.Adler I. Primary malignant growth of the lung and\\nbronchi. New York: Longman, Green, Company.;1912 .\\n42.Pear R. Tobacco smoking and longevity. Science\\n1938;87:216 .\\n43.Ochsner A, DeBakey M. Primary pulmonary malig-\\nnancy: treatment of total pneumonectomy. Analysis\\nof seventy-nine collected cases and presentationof seven personal cases. Surg Gynecol Obstet1939;68:435 .\\n44.Doll R, Hill AB. Smoking and carcinoma of the lung;\\npreliminary report. Br Med J 1950;2(4682):739–48 .\\n45.Wynder EL, Graham EA. Etiologic factors in bron-\\nchiogenic carcinoma with special reference to in-\\ndustrial exposures; report of eight hundred fifty-seven proved cases. AMA Arch Ind Hyg Occup\\nMed 1951;4(3):221–35 .', metadata={'source': '/Users/donnymirzaadhitama/Documents/Lung Cancer 2020- Epidemiology, Etiology, and Prevention.pdf', 'page': 19}),\n",
       " Document(page_content='46.US Department of Health, Education, and Welfare.\\nSmoking and health report of the advisory commit-\\ntee to the surgeon general of the public health ser-\\nvice. Washington: US Department of Health,Education, and Welfare, Public Health Service;1964. PHS Publication No. 1103 .\\n47.US Department of Health and Human Services.\\nThe health consequences of smoking: 50 Years ofprogress. A report of the surgeon general. Atlanta\\n(GA): US Department of Health and Human Ser-\\nvices, Centers for Disease Control and Prevention,National Center for Chronic Disease Prevention\\nand Health Promotion, Office on Smoking and\\nHealth; 2014 .\\n48.Hoffmann D, Hoffmann I. The changing cigarette,\\n1950-1995. J Toxicol Environ Health 1997;50(4):\\n307–64 .\\n49.Smith CJ, Perfetti TA, Mullens MA, et al. \"IARC\\ngroup 2B Carcinogens\" reported in cigarette main-\\nstream smoke. Food Chem Toxicol 2000;38(9):\\n825–48 .\\n50.Akopyan G, Bonavida B. Understanding tobacco\\nsmoke carcinogen NNK and lung tumorigenesis.', metadata={'source': '/Users/donnymirzaadhitama/Documents/Lung Cancer 2020- Epidemiology, Etiology, and Prevention.pdf', 'page': 19}),\n",
       " Document(page_content='Int J Oncol 2006;29(4):745–52 .\\n51.Wynder EL, Hoffmann D. Smoking and lung can-\\ncer: scientific challenges and opportunities. Can-\\ncer Res 1994;54(20):5284–95 .\\n52.Harris JE, Thun MJ, Mondul AM, et al. Cigarette tar\\nyields in relation to mortality from lung cancer in the\\ncancer prevention study II prospective cohort,\\n1982-8. BMJ 2004;328(7431):72 .\\n53.Pisani P, Bray F, Parkin DM. Estimates of the world-\\nwide prevalence of cancer for 25 sites in the adult\\npopulation. Int J Cancer 2002;97(1):72–81 .54.Babb S, Malarcher A, Schauer G, et al. Quitting\\nsmoking among adults - United States, 2000-2015. MMWR Morb Mortal Wkly Rep 2017;65(52):\\n1457–64 .\\n55.Johnson KC, Hu J, Mao Y, et al. Lifetime residen-\\ntial and workplace exposure to environmental to-\\nbacco smoke and lung cancer in never-smoking\\nwomen, Canada 1994-97. Int J Cancer 2001;93(6):902–6 .\\n56.Lee CH, Ko YC, Goggins W, et al. Lifetime environ-\\nmental exposure to tobacco smoke and primarylung cancer of non-smoking Taiwanese women.', metadata={'source': '/Users/donnymirzaadhitama/Documents/Lung Cancer 2020- Epidemiology, Etiology, and Prevention.pdf', 'page': 19}),\n",
       " Document(page_content='Int J Epidemiol 2000;29(2):224–31 .\\n57.Kim AS, Ko HJ, Kwon JH, et al. Exposure to\\nsecondhand smoke and risk of cancer in neversmokers: a meta-analysis of epidemiologic studies.\\nInt J Environ Res Public Health 2018;15(9) [pii:\\nE1981] .\\n58.Janerich DT, Thompson WD, Varela LR, et al. Lung\\ncancer and exposure to tobacco smoke in the\\nhousehold. N Engl J Med 1990;323(10):632–6 .\\n59.Hackshaw AK, Law MR, Wald NJ. The accumu-\\nlated evidence on lung cancer and environmental\\ntobacco smoke. BMJ 1997;315(7114):980–8 .\\n60.Cardenas VM, Thun MJ, Austin H, et al. Environ-\\nmental tobacco smoke and lung cancer mortality\\nin the American Cancer Society’s Cancer Preven-tion Study. II. Cancer Causes Control 1997;8(1):57–64 .\\n61.Hecht SS, Carmella SG, Murphy SE, et al.\\nA tobacco-specific lung carcinogen in the urineof men exposed to cigarette smoke. N Engl J\\nMed 1993;329(21):1543–6 .\\n62.Pirkle JL, Flegal KM, Bernert JT, et al. Exposure of\\nthe US population to environmental tobacco', metadata={'source': '/Users/donnymirzaadhitama/Documents/Lung Cancer 2020- Epidemiology, Etiology, and Prevention.pdf', 'page': 19}),\n",
       " Document(page_content='smoke: the third national health and Nutrition Ex-\\namination Survey, 1988 to 1991. JAMA 1996;275(16):1233–40 .\\n63.Jemal A, Bray F, Center MM, et al. Global cancer\\nstatistics. CA Cancer J Clin 2011;61(2):69–90 .\\n64.Jha P, Ramasundarahettige C, Landsman V, et al.\\n21st-century hazards of smoking and benefits of\\ncessation in the United States. N Engl J Med\\n2013;368(4):341–50 .\\n65.Dinakar C, O’Connor GT. The health effects of elec-\\ntronic cigarettes. N Engl J Med 2016;375(14):\\n1372–81 .\\n66.Meo SA, Al Asiri SA. Effects of electronic cigarette\\nsmoking on human health. Eur Rev Med Pharmacol\\nSci 2014;18(21):3315–9 .\\n67.Schraufnagel DE, Blasi F, Drummond MB, et al.\\nElectronic cigarettes. A position statement of the\\nforum of international respiratory societies. Am J\\nRespir Crit Care Med 2014;190(6):611–8 .\\n68.Schoenborn CA, Gindi RM. Electronic cigarette use\\namong adults: United States, 2014. NCHS Data\\nBrief 2015;(217):1–8 .Bade & Dela Cruz 20', metadata={'source': '/Users/donnymirzaadhitama/Documents/Lung Cancer 2020- Epidemiology, Etiology, and Prevention.pdf', 'page': 19}),\n",
       " Document(page_content='69.Jamal A, Gentzke A, Hu SS, et al. Tobacco use\\namong middle and high school students-UnitedStates, 2011-2016. MMWR-Morbid Mortal W\\n2017;66(23):597–603 .\\n70.Soneji S, Barrington-Trimis JL, Wills TA, et al. Asso-\\nciation between initial use of e-cigarettes and sub-\\nsequent cigarette smoking among adolescents\\nand young adults: a systematic review and meta-analysis. JAMA Pediatr 2017;171(8):788–97 .\\n71.Tegin G, Mekala HM, Sarai SK, et al. E-cigarette\\ntoxicity? South Med J 2018;111(1):35–8 .\\n72.Ramo DE, Liu H, Prochaska JJ. Tobacco and mari-\\njuana use among adolescents and young adults: a\\nsystematic review of their co-use. Clin Psychol Rev2012;32(2):105–21 .\\n73.Volkow ND, Baler RD, Compton WM, et al. Adverse\\nhealth effects of marijuana use. N Engl J Med 2014;\\n370(23):2219–27 .\\n74.Barsky SH, Roth MD, Kleerup EC, et al. Histopath-\\nologic and molecular alterations in bronchial\\nepithelium in habitual smokers of marijuana,cocaine, and/or tobacco. J Natl Cancer Inst 1998;\\n90(16):1198–205 .', metadata={'source': '/Users/donnymirzaadhitama/Documents/Lung Cancer 2020- Epidemiology, Etiology, and Prevention.pdf', 'page': 20}),\n",
       " Document(page_content='90(16):1198–205 .\\n75.Aldington S, Harwood M, Cox B, et al. Cannabis\\nuse and risk of lung cancer: a case-control study.\\nEur Respir J 2008;31(2):280–6 .\\n76.Tashkin DP. Effects of marijuana smoking on the\\nlung. Ann Am Thorac Soc 2013;10(3):239–47 .\\n77.Huang YH, Zhang ZF, Tashkin DP, et al. An epide-\\nmiologic review of marijuana and cancer: an up-\\ndate. Cancer Epidemiol Biomarkers Prev 2015;24(1):15–31 .\\n78.Parkin DM, Bray F, Ferlay J, et al. Global cancer\\nstatistics, 2002. CA Cancer J Clin 2005;55(2):74–108 .\\n79.Wakelee HA, Chang ET, Gomez SL, et al. Lung\\ncancer incidence in never smokers. J Clin Oncol2007;25(5):472–8 .\\n80.Sun S, Schiller JH, Gazdar AF. Lung cancer in\\nnever smokers–a different disease. Nat Rev Can-\\ncer 2007;7(10):778–90 .\\n81.Pelosof L, Ahn C, Gao A, et al. Proportion of never-\\nsmoker non-small cell lung cancer patients at\\nthree diverse institutions. J Natl Cancer Inst2017;109(7) .\\n82.Bonjour S, Adair-Rohani H, Wolf J, et al. Solid fuel', metadata={'source': '/Users/donnymirzaadhitama/Documents/Lung Cancer 2020- Epidemiology, Etiology, and Prevention.pdf', 'page': 20}),\n",
       " Document(page_content='use for household cooking: country and regionalestimates for 1980-2010. Environ Health Perspect\\n2013;121(7):784–90 .\\n83.Luo RX, Wu B, Yi YN, et al. Indoor burning coal air\\npollution and lung cancer–a case-control study inFuzhou, China. Lung Cancer 1996;14(Suppl 1):\\nS113–9 .\\n84.Kleinerman RA, Wang Z, Wang L, et al. Lung can-\\ncer and indoor exposure to coal and biomass in ru-\\nral China. J Occup Environ Med 2002;44(4):\\n338–44 .85.Hosgood HD, Boffetta P, Greenland S, et al. In-\\nhome coal and wood use and lung cancer risk: apooled analysis of the International Lung Cancer\\nConsortium. Environ Health Perspect 2010;\\n118(12):1743–7 .\\n86.Li J, Li WX, Bai C, et al. Particulate matter-induced\\nepigenetic changes and lung cancer. Clin Respir J\\n2017;11(5):539–46 .\\n87.Pershagen G. Air pollution and cancer. IARC Sci\\nPubl 1990;(104):240–51 .\\n88.Dockery DW, Pope CA, Xu X, et al. An association\\nbetween air pollution and mortality in six U.S. cities.\\nN Engl J Med 1993;329(24):1753–9 .', metadata={'source': '/Users/donnymirzaadhitama/Documents/Lung Cancer 2020- Epidemiology, Etiology, and Prevention.pdf', 'page': 20}),\n",
       " Document(page_content='89.Pope CA, Burnett RT, Thun MJ, et al. Lung cancer,\\ncardiopulmonary mortality, and long-term exposure\\nto fine particulate air pollution. JAMA 2002;287(9):\\n1132–41 .\\n90.Cohen AJ, Brauer M, Burnett R, et al. Estimates\\nand 25-year trends of the global burden of disease\\nattributable to ambient air pollution: an analysis of\\ndata from the Global Burden of Diseases Study2015. Lancet 2017;389(10082):1907–18 .\\n91.Lipsett M, Campleman S. Occupational exposure\\nto diesel exhaust and lung cancer: a meta-analysis.Am J Public Health 1999;89(7):1009–17 .\\n92.Raaschou-Nielsen O, Pedersen M, Stafoggia M,\\net al. Outdoor air pollution and risk for kidney pa-renchyma cancer in 14 European cohorts. Int JCancer 2017;140(7):1528–37 .\\n93.Raaschou-Nielsen O, Beelen R, Wang M, et al. Par-\\nticulate matter air pollution components and risk forlung cancer. Environ Int 2016;87:66–73 .\\n94.Samet JM. Residential radon and lung cancer: end\\nof the story? J Toxicol Environ Health A 2006;69(7):527–31 .', metadata={'source': '/Users/donnymirzaadhitama/Documents/Lung Cancer 2020- Epidemiology, Etiology, and Prevention.pdf', 'page': 20}),\n",
       " Document(page_content='95.Lubin JH, Boice JD, Edling C, et al. Lung cancer in\\nradon-exposed miners and estimation of risk fromindoor exposure. J Natl Cancer Inst 1995;87(11):817–27 .\\n96.Saccomanno G, Huth GC, Auerbach O, et al. Rela-\\ntionship of radioactive radon daughters and ciga-rette smoking in the genesis of lung cancer in\\nuranium miners. Cancer 1988;62(7):1402–8 .\\n97.Fabrikant JI. Radon and lung cancer: the BEIR IV\\nReport. Health Phys 1990;59(1):89–97 .\\n98.Lubin JH, Boice JD. Lung cancer risk from resi-\\ndential radon: meta-analysis of eight epidemio-logic studies. J Natl Cancer Inst 1997;89(1):\\n49–57 .\\n99.Ajrouche R, Ielsch G, Cle ´ro E, et al. Quantitative\\nhealth risk assessment of indoor radon: a system-atic review. Radiat Prot Dosimetry 2017;177(1–2):\\n69–77 .\\n100. Fingerhut M, Nelson DI, Driscoll T, et al. The contri-\\nbution of occupational risks to the global burden of\\ndisease: summary and next steps. Med Lav 2006;\\n97(2):313–21 .Lung Cancer Epidemiology 21', metadata={'source': '/Users/donnymirzaadhitama/Documents/Lung Cancer 2020- Epidemiology, Etiology, and Prevention.pdf', 'page': 20}),\n",
       " Document(page_content='101. Steenland K, Burnett C, Lalich N, et al. Dying for\\nwork: the magnitude of US mortality from selectedcauses of death associated with occupation. Am J\\nInd Med 2003;43(5):461–82 .\\n102. Jones RN, Hughes JM, Weill H. Asbestos expo-\\nsure, asbestosis, and asbestos-attributable lung\\ncancer. Thorax 1996;51(Suppl 2):S9–15 .\\n103. Egilman D, Reinert A. Lung cancer and asbestos\\nexposure: asbestosis is not necessary. Am J Ind\\nMed 1996;30(4):398–406 .\\n104. Weiss W. Asbestosis: a marker for the increased\\nrisk of lung cancer among workers exposed to\\nasbestos. Chest 1999;115(2):536–49 .\\n105. Syrja¨nen KJ. Bronchial squamous cell carcinomas\\nassociated with epithelial changes identical tocondylomatous lesions of the uterine cervix. Lung\\n1980;158(3):131–42 .\\n106. Nielsen LS, Bælum J, Rasmussen J, et al. Occupa-\\ntional asbestos exposure and lung cancer–a sys-\\ntematic review of the literature. Arch Environ\\nOccup Health 2014;69(4):191–206 .\\n107. United States Department of Labor. Occupational', metadata={'source': '/Users/donnymirzaadhitama/Documents/Lung Cancer 2020- Epidemiology, Etiology, and Prevention.pdf', 'page': 21}),\n",
       " Document(page_content='safety and health administration. 2019. Available at:\\nhttps://www.osha.gov/ . Accessed January 6, 2019.\\n108. World Health Organization. Radon and health. 2016.\\nAvailable at: https://www.who.int/en/news-room/fact-\\nsheets/detail/radon-and-health . Accessed January\\n6, 2019.\\n109. World Health Organization. Air pollution. 2018.\\nAvailable at: https://www.who.int/airpollution/house\\nhold/en/ . Accessed January 6, 2019.\\n110. Spitz MR, Etzel CJ, Dong Q, et al. An expanded\\nrisk prediction model for lung cancer. Cancer\\nPrev Res (Phila) 2008;1(4):250–4 .\\n111. Cassidy A, Myles JP , van Tongeren M, et al. The\\nLLP risk model: an individual risk prediction model\\nfor lung cancer. Br J Cancer 2008;98(2):270–6 .\\n112. Matakidou A, Eisen T, Houlston RS. Systematic re-\\nview of the relationship between family history and\\nlung cancer risk. Br J Cancer 2005;93(7):825–33 .\\n113. Wang Y, McKay JD, Rafnar T, et al. Rare variants of\\nlarge effect in BRCA2 and CHEK2 affect risk of', metadata={'source': '/Users/donnymirzaadhitama/Documents/Lung Cancer 2020- Epidemiology, Etiology, and Prevention.pdf', 'page': 21}),\n",
       " Document(page_content='lung cancer. Nat Genet 2014;46(7):736–41 .\\n114. Wang J, Liu Q, Yuan S, et al. Genetic predisposi-\\ntion to lung cancer: comprehensive literature inte-\\ngration, meta-analysis, and multiple evidence\\nassessment of candidate-gene associationstudies. Sci Rep 2017;7(1):8371 .\\n115. McKay JD, Hung RJ, Han Y, et al. Large-scale as-\\nsociation analysis identifies new lung cancer sus-ceptibility loci and heterogeneity in geneticsusceptibility across histological subtypes. Nat\\nGenet 2017;49(7):1126–32 .\\n116. Velmurugan KR, Varghese RT, Fonville NC, et al.\\nHigh-depth, high-accuracy microsatellite genotyp-\\ning enables precision lung cancer risk classifica-\\ntion. Oncogene 2017;36(46):6383–90 .117. Spitz MR, Wei Q, Dong Q, et al. Genetic suscepti-\\nbility to lung cancer: the role of DNA damage andrepair. Cancer Epidemiol Biomarkers Prev 2003;\\n12(8):689–98 .\\n118. Turner MC, Chen Y, Krewski D, et al. Chronic\\nobstructive pulmonary disease is associated with\\nlung cancer mortality in a prospective study of', metadata={'source': '/Users/donnymirzaadhitama/Documents/Lung Cancer 2020- Epidemiology, Etiology, and Prevention.pdf', 'page': 21}),\n",
       " Document(page_content='never smokers. Am J Respir Crit Care Med 2007;176(3):285–90 .\\n119. Siemes C, Visser LE, Coebergh JW, et al. C-reac-\\ntive protein levels, variation in the C-reactive pro-tein gene, and cancer risk: the Rotterdam Study.\\nJ Clin Oncol 2006;24(33):5216–22 .\\n120. Parimon T, Chien JW, Bryson CL, et al. Inhaled cor-\\nticosteroids and risk of lung cancer among patientswith chronic obstructive pulmonary disease. Am J\\nRespir Crit Care Med 2007;175(7):712–9 .\\n121. Raymakers AJN, Sadatsafavi M, Sin DD, et al.\\nInhaled corticosteroids and the risk of lung cancer\\nin COPD: a population-based cohort study. Eur Re-\\nspir J 2019;53(6) [pii:1801257] .\\n122. Wu MF , Jian ZH, Huang JY, et al. Post-inhaled corti-\\ncosteroid pulmonary tuberculosis and pneumonia\\nincreases lung cancer in patients with COPD.BMC Cancer 2016;16(1):778 .\\n123. Yang P, Sun Z, Krowka MJ, et al. Alpha1-antitrypsin', metadata={'source': '/Users/donnymirzaadhitama/Documents/Lung Cancer 2020- Epidemiology, Etiology, and Prevention.pdf', 'page': 21}),\n",
       " Document(page_content='deficiency carriers, tobacco smoke, chronicobstructive pulmonary disease, and lung cancerrisk. Arch Intern Med 2008;168(10):1097–103 .\\n124. Hubbard R, Venn A, Lewis S, et al. Lung cancer\\nand cryptogenic fibrosing alveolitis. A population-based cohort study. Am J Respir Crit Care Med\\n2000;161(1):5–8 .\\n125. Antoniou KM, Tomassetti S, Tsitoura E, et al. Idio-\\npathic pulmonary fibrosis and lung cancer: a clin-\\nical and pathogenesis update. Curr Opin Pulm\\nMed 2015;21(6):626–33 .\\n126. de Freitas AC, Gurgel AP, de Lima EG, et al. Hu-\\nman papillomavirus and lung carcinogenesis: an\\noverview. J Cancer Res Clin Oncol 2016;142(12):\\n2415–27 .\\n127. Willey JC, Broussoud A, Sleemi A, et al. Immortali-\\nzation of normal human bronchial epithelial cells by\\nhuman papillomaviruses 16 or 18. Cancer Res1991;51(19):5370–7 .\\n128. Cao S, Wendl MC, Wyczalkowski MA, et al. Diver-\\ngent viral presentation among human tumors andadjacent normal tissues. Sci Rep 2016;6:28294 .', metadata={'source': '/Users/donnymirzaadhitama/Documents/Lung Cancer 2020- Epidemiology, Etiology, and Prevention.pdf', 'page': 21}),\n",
       " Document(page_content='129. Castro CY, Ostrowski ML, Barrios R, et al. Relation-\\nship between Epstein-Barr virus andlymphoepithelioma-like carcinoma of the lung: aclinicopathologic study of 6 cases and review of\\nthe literature. Hum Pathol 2001;32(8):863–72 .\\n130. Bando M, Takahashi M, Ohno S, et al. Torque teno\\nvirus DNA titre elevated in idiopathic pulmonary\\nfibrosis with primary lung cancer. Respirology\\n2008;13(2):263–9 .Bade & Dela Cruz 22', metadata={'source': '/Users/donnymirzaadhitama/Documents/Lung Cancer 2020- Epidemiology, Etiology, and Prevention.pdf', 'page': 21}),\n",
       " Document(page_content='131. Giuliani L, Jaxmar T, Casadio C, et al. Detection of\\noncogenic viruses SV40, BKV , JCV , HCMV, HPVand p53 codon 72 polymorphism in lung carci-\\nnoma. Lung Cancer 2007;57(3):273–81 .\\n132. Sion-Vardy N, Lasarov I, Delgado B, et al. Measles\\nvirus: evidence for association with lung cancer.\\nExp Lung Res 2009;35(8):701–12 .\\n133. Littman AJ, Jackson LA, Vaughan TL. Chlamydia\\npneumoniae and lung cancer: epidemiologic evi-\\ndence. Cancer Epidemiol Biomarkers Prev 2005;\\n14(4):773–8 .\\n134. Khan S, Imran A, Khan AA, et al. Systems Biology\\napproaches for the prediction of possible role of\\nChlamydia pneumoniae proteins in the etiology oflung cancer. PLoS One 2016;11(2):e0148530 .\\n135. Yu YH, Liao CC, Hsu WH, et al. Increased lung can-\\ncer risk among patients with pulmonary tubercu-\\nlosis: a population cohort study. J Thorac Oncol2011;6(1):32–7 .\\n136. Hong S, Mok Y, Jeon C, et al. Tuberculosis, smok-\\ning and risk for lung cancer incidence and mortal-ity. Int J Cancer 2016;139(11):2447–55 .', metadata={'source': '/Users/donnymirzaadhitama/Documents/Lung Cancer 2020- Epidemiology, Etiology, and Prevention.pdf', 'page': 22}),\n",
       " Document(page_content='137. Engels EA, Shen M, Chapman RS, et al. Tubercu-\\nlosis and subsequent risk of lung cancer in Xuan-wei, China. Int J Cancer 2009;124(5):1183–7 .\\n138. Morris A, Crothers K, Beck JM, et al. An official ATS\\nworkshop report: emerging issues and current con-troversies in HIV-associated pulmonary diseases.Proc Am Thorac Soc 2011;8(1):17–26 .\\n139. Reddy KP , Kong CY, Hyle EP, et al. Lung cancer mor-\\ntalityassociated with smoking andsmoking cessationamong people living with HIV in the United States.\\nJAMA Intern Med 2017;177(11):1613–21 .\\n140. Sigel K, Wisnivesky J, Gordon K, et al. HIV as an in-\\ndependent risk factor for incident lung cancer.\\nAIDS 2012;26(8):1017–25 .\\n141. Kirk GD, Merlo C, O’ Driscoll P, et al. HIV infection is\\nassociated with an increased risk for lung cancer,independent of smoking. Clin Infect Dis 2007;\\n45(1):103–10 .\\n142. Sigel K, Wisnivesky J, Crothers K, et al. Immuno-\\nlogical and infectious risk factors for lung cancer', metadata={'source': '/Users/donnymirzaadhitama/Documents/Lung Cancer 2020- Epidemiology, Etiology, and Prevention.pdf', 'page': 22}),\n",
       " Document(page_content='in US veterans with HIV: a longitudinal cohort study.\\nLancet HIV 2017;4(2):e67–73 .\\n143. Mitsuyasu RT. Non–AIDS-defining malignancies in\\nHIV. Top HIV Med 2008;16(4):117–21 .\\n144. Mao Q, Jiang F, Yin R, et al. Interplay between the\\nlung microbiome and lung cancer. Cancer Lett\\n2018;415:40–8 .\\n145. Tsay JJ, Wu BG, Badri MH, et al. Airway microbiota\\nis associated with upregulation of the PI3Kpathway in lung cancer. Am J Respir Crit Care\\nMed 2018;198(9):1188–98 .\\n146. Gnagnarella P, Caini S, Maisonneuve P, et al. Carci-\\nnogenicity of high consumption of meat and lung\\ncancer risk among non-smokers: a comprehensive\\nmeta-analysis. Nutr Cancer 2018;70(1):1–13 .147. Jacobs EJ, Newton CC, Thun MJ, et al. Long-term\\nuse of cholesterol-lowering drugs and cancer inci-dence in a large United States cohort. Cancer Res\\n2011;71(5):1763–71 .\\n148. Hecht SS. Approaches to cancer prevention based\\non an understanding of N-nitrosamine carcinogen-\\nesis. Proc Soc Exp Biol Med 1997;216(2):181–91 .', metadata={'source': '/Users/donnymirzaadhitama/Documents/Lung Cancer 2020- Epidemiology, Etiology, and Prevention.pdf', 'page': 22}),\n",
       " Document(page_content='149. Boone CW, Kelloff GJ, Malone WE. Identification of\\ncandidate cancer chemopreventive agents and\\ntheir evaluation in animal models and human clin-\\nical trials: a review. Cancer Res 1990;50(1):2–9 .\\n150. Goodman GE, Thornquist MD, Balmes J, et al. The\\nBeta-Carotene and Retinol Efficacy Trial: incidence\\nof lung cancer and cardiovascular disease mortal-ity during 6-year follow-up after stopping beta-carotene and retinol supplements. J Natl Cancer\\nInst 2004;96(23):1743–50 .\\n151. Wright ME, Park Y, Subar AF, et al. Intakes of fruit,\\nvegetables, and specific botanical groups in rela-\\ntion to lung cancer risk in the NIH-AARP Diet and\\nHealth Study. Am J Epidemiol 2008;168(9):1024–34 .\\n152. Buring JE, Hennekens CH. beta-carotene and can-\\ncer chemoprevention. J Cell Biochem Suppl 1995;22:226–30 .\\n153. Yong LC, Brown CC, Schatzkin A, et al. Intake of vi-', metadata={'source': '/Users/donnymirzaadhitama/Documents/Lung Cancer 2020- Epidemiology, Etiology, and Prevention.pdf', 'page': 22}),\n",
       " Document(page_content='tamins E, C, and A and risk of lung cancer. TheNHANES I epidemiologic followup study. First Na-tional Health and Nutrition Examination Survey.\\nAm J Epidemiol 1997;146(3):231–43 .\\n154. Omenn GS, Goodman GE, Thornquist MD, et al. Ef-\\nfects of a combination of beta carotene and vitamin\\nA on lung cancer and cardiovascular disease.\\nN Engl J Med 1996;334(18):1150–5 .\\n155. Mahabir S, Spitz MR, Barrera SL, et al. Dietary zinc,\\ncopper and selenium, and risk of lung cancer. Int J\\nCancer 2007;120(5):1108–15 .\\n156. Mahabir S, Forman MR, Dong YQ, et al. Mineral\\nintake and lung cancer risk in the NIH-American\\nassociation of retired persons diet and health\\nstudy. Cancer Epidemiol Biomarkers Prev 2010;19(8):1976–83 .\\n157. Vieira AR, Abar L, Vingeliene S, et al. Fruits, vege-\\ntables and lung cancer risk: a systematic reviewand meta-analysis. Ann Oncol 2016;27(1):81–96 .\\n158. Wang M, Qin S, Zhang T, et al. The effect of fruit', metadata={'source': '/Users/donnymirzaadhitama/Documents/Lung Cancer 2020- Epidemiology, Etiology, and Prevention.pdf', 'page': 22}),\n",
       " Document(page_content='and vegetable intake on the development of lungcancer: a meta-analysis of 32 publications and\\n20,414 cases. Eur J Clin Nutr 2015;69(11):\\n1184–92 .\\n159. Brennan P, Hsu CC, Moullan N, et al. Effect of\\ncruciferous vegetables on lung cancer in patients\\nstratified by genetic status: a mendelian random-\\nisation approach. Lancet 2005;366(9496):1558–60 .\\n160. Fontham ET. Protective dietary factors and lung\\ncancer. Int J Epidemiol 1990;19(Suppl 1):S32–42 .Lung Cancer Epidemiology 23', metadata={'source': '/Users/donnymirzaadhitama/Documents/Lung Cancer 2020- Epidemiology, Etiology, and Prevention.pdf', 'page': 22}),\n",
       " Document(page_content='161. Cooper DA, Eldridge AL, Peters JC. Dietary carot-\\nenoids and lung cancer: a review of recentresearch. Nutr Rev 1999;57(5 Pt 1):133–45 .\\n162. Mursu J, Nurmi T, Tuomainen TP, et al. Intake of fla-\\nvonoids and risk of cancer in Finnish men: the Kuo-pio Ischaemic heart disease risk factor study. Int J\\nCancer 2008;123(3):660–3 .\\n163. Brenner DR, Fehringer G, Zhang ZF, et al. Alcohol\\nconsumption and lung cancer risk: a pooled anal-\\nysis from the International Lung Cancer Consortium\\nand the SYNERGY study. Cancer Epidemiol 2019;58:25–32 .\\n164. Fehringer G, Brenner DR, Zhang ZF, et al. Alcohol\\nand lung cancer risk among never smokers: apooled analysis from the international lung cancerconsortium and the SYNERGY study. Int J Cancer\\n2017;140(9):1976–84 .\\n165. Xie Y, Qin J, Nan G, et al. Coffee consumption and\\nthe risk of lung cancer: an updated meta-analysis\\nof epidemiological studies. Eur J Clin Nutr 2016;\\n70(2):199–206 .\\n166. Renehan AG, Tyson M, Egger M, et al. Body-mass', metadata={'source': '/Users/donnymirzaadhitama/Documents/Lung Cancer 2020- Epidemiology, Etiology, and Prevention.pdf', 'page': 23}),\n",
       " Document(page_content='index and incidence of cancer: a systematic review\\nand meta-analysis of prospective observationalstudies. Lancet 2008;371(9612):569–78 .\\n167. Renehan AG, Soerjomataram I, Leitzmann MF. In-\\nterpreting the epidemiological evidence linkingobesity and cancer: a framework for population-attributable risk estimations in Europe. Eur J Can-\\ncer 2010;46(14):2581–92 .\\n168. Zhu H, Zhang S. Body mass index and lung cancer\\nrisk in never smokers: a meta-analysis. BMC Can-\\ncer 2018;18(1):635 .\\n169. Patel AV, Carter BD, Stevens VL, et al. The relation-\\nship between physical activity, obesity, and lung\\ncancer risk by smoking status in a large prospec-\\ntive cohort of US adults. Cancer Causes Control2017;28(12):1357–68 .\\n170. Kabat GC, Kim M, Hunt JR, et al. Body mass index\\nand waist circumference in relation to lung cancerrisk in the Women’s Health Initiative. Am J Epide-\\nmiol 2008;168(2):158–69 .\\n171. Friedenreich CM, Orenstein MR. Physical activity\\nand cancer prevention: etiologic evidence and bio-', metadata={'source': '/Users/donnymirzaadhitama/Documents/Lung Cancer 2020- Epidemiology, Etiology, and Prevention.pdf', 'page': 23}),\n",
       " Document(page_content='logical mechanisms. J Nutr 2002;132(11 Suppl):3456S–64S .\\n172. Pletnikoff PP, Tuomainen TP, Laukkanen JA, et al.\\nCardiorespiratory fitness and lung cancer risk: aprospective population-based cohort study. J Sci\\nMed Sport 2016;19(2):98–102 .\\n173. Laukkanen JA, Pukkala E, Rauramaa R, et al.\\nCardiorespiratory fitness, lifestyle factors and can-\\ncer risk and mortality in Finnish men. Eur J Cancer\\n2010;46(2):355–63 .\\n174. Katki HA, Kovalchik SA, Petito LC, et al. Implica-\\ntions of nine risk prediction models for selecting\\never-smokers for computed tomography lung can-\\ncer screening. Ann Intern Med 2018;169(1):10–9 .\\n175. Tammemagi MC, Katki HA, Hocking WG, et al. Se-\\nlection criteria for lung-cancer screening. N Engl J\\nMed 2013;368(8):728–36 .\\n176. Katki HA, Kovalchik SA, Berg CD, et al. Develop-\\nment and validation of risk models to select ever-\\nsmokers for CT lung cancer screening. JAMA2016;315(21):2300–11 .\\n177. Tammemagi MC. Selecting lung cancer screenees', metadata={'source': '/Users/donnymirzaadhitama/Documents/Lung Cancer 2020- Epidemiology, Etiology, and Prevention.pdf', 'page': 23}),\n",
       " Document(page_content='using risk prediction models-where do we go fromhere. Transl Lung Cancer Res 2018;7(3):243–53 .\\n178. Szabo E, Mao JT, Lam S, et al. Chemoprevention of\\nlung cancer: diagnosis and management of lung\\ncancer, 3rd ed: American College of Chest Physi-cians evidence-based clinical practice guidelines.\\nChest 2013;143(5 Suppl):e40S–60S .\\n179. Khurana V, Bejjanki HR, Caldito G, et al. Statins\\nreduce the risk of lung cancer in humans: a large\\ncase-control study of US veterans. Chest 2007;\\n131(5):1282–8 .\\n180. Sorli K, Thorvaldsen SM, Hatlen P. Use of inhaled\\ncorticosteroids and the risk of lung cancer, the\\nHUNT study. Lung 2018;196(2):179–84 .Bade & Dela Cruz 24', metadata={'source': '/Users/donnymirzaadhitama/Documents/Lung Cancer 2020- Epidemiology, Etiology, and Prevention.pdf', 'page': 23})]"
      ]
     },
     "execution_count": 68,
     "metadata": {},
     "output_type": "execute_result"
    }
   ],
   "source": [
    "# file_path = \"/Users/donnymirzaadhitama/workspace/bithealth/training_data/FPPK/2022110213021016_MRCCC_FPPK_PERTAMINA INTERNASIONAL EP PT ADMEDIKA_OPA2210270146_RIA NOVERIA.pdf\"\n",
    "file_path = \"/Users/donnymirzaadhitama/Documents/Lung Cancer 2020- Epidemiology, Etiology, and Prevention.pdf\"\n",
    "text_splitter = RecursiveCharacterTextSplitter(\n",
    "    chunk_size=1000,\n",
    "    chunk_overlap=20,\n",
    "    length_function=len,\n",
    "    is_separator_regex=False,\n",
    ")\n",
    "uda = UnstructuredDocumentAnalyzer(\n",
    "    endpoint=config.AZURE_DOCS_INT_ENDPOINT,\n",
    "    key=config.AZURE_DOCS_INT_API_KEY,\n",
    "    text_splitter=text_splitter,\n",
    ")\n",
    "\n",
    "# Form case:\n",
    "# result = uda.analyze(file_path=file_path)\n",
    "# doc_splitted = uda.split_documents([result])\n",
    "# print(doc_splitted[1].page_content)\n",
    "\n",
    "# Paper case:\n",
    "doc_splitted = uda.load(file_path=file_path)\n",
    "doc_splitted"
   ]
  },
  {
   "cell_type": "code",
   "execution_count": 69,
   "metadata": {},
   "outputs": [
    {
     "data": {
      "text/plain": [
       "dict_keys(['page_content', 'metadata', 'type'])"
      ]
     },
     "execution_count": 69,
     "metadata": {},
     "output_type": "execute_result"
    }
   ],
   "source": [
    "# result.key_value_pairs[0]\n",
    "doc_splitted[0].dict().keys()"
   ]
  },
  {
   "cell_type": "code",
   "execution_count": 70,
   "metadata": {},
   "outputs": [
    {
     "name": "stdout",
     "output_type": "stream",
     "text": [
      "Lung Cancer 2020\n",
      "Epidemiology, Etiology, and\n",
      "Prevention\n",
      "Brett C. Bade, MD, Charles S. Dela Cruz, MD, PhD *\n",
      "Notable changes in lung cancer epidemiology and\n",
      "prevention have occurred over the past decadeowing to changes in smoking patterns, ground-\n",
      "breaking advances in our understanding of the ge-\n",
      "netics of lung cancer, the immune system’s role inlung cancer control, and lung cancer treatment op-\n",
      "tions. Despite these advances, lung cancer re-\n",
      "mains the leading cause of cancer death.\n",
      "1\n",
      "Worldwide, there are more lung cancer casesand deaths since 2011, the number of smokers\n",
      "increased between 1980 and 2012,\n",
      "2,3and lung\n",
      "cancer rates are climbing in developing countriesin conjunction with tobacco smoking. In the United\n",
      "States, lower tobacco smoking rates have led to\n",
      "reductions in lung cancer incidence and mortality,altered the demographics of patients developing\n",
      "lung cancer, and heightened the importance of\n",
      "==================================================\n",
      "{'source': '/Users/donnymirzaadhitama/Documents/Lung Cancer 2020- Epidemiology, Etiology, and Prevention.pdf', 'page': 0}\n"
     ]
    }
   ],
   "source": [
    "print(doc_splitted[0].page_content)\n",
    "print(\"=\"*50)\n",
    "print(doc_splitted[0].metadata)"
   ]
  },
  {
   "cell_type": "markdown",
   "metadata": {},
   "source": [
    "## Using langchain data loader"
   ]
  },
  {
   "cell_type": "code",
   "execution_count": 71,
   "metadata": {},
   "outputs": [],
   "source": [
    "# from langchain_community.document_loaders.doc_intelligence import AzureAIDocumentIntelligenceLoader\n",
    "\n",
    "# file_path = \"/Users/donnymirzaadhitama/workspace/bithealth/training_data/FPKK/2022082011446651_MRCCC_FPKS_VALE INDONESIA PT_OPA2208190466_KAMRULLAH ILYAS-1.pdf\"\n",
    "# analysis_features = [\n",
    "#     # \"ocrHighResolution\", \n",
    "#     \"keyValuePairs\",\n",
    "# ]\n",
    "\n",
    "# loader = AzureAIDocumentIntelligenceLoader(\n",
    "#     file_path=file_path,\n",
    "#     api_endpoint=config.AZURE_DOCS_INT_ENDPOINT,\n",
    "#     api_key=config.AZURE_DOCS_INT_API_KEY,\n",
    "#     api_version=\"2024-02-29-preview\",\n",
    "#     api_model=\"prebuilt-layout\",\n",
    "#     mode=\"page\",\n",
    "#     analysis_features=analysis_features,\n",
    "# )"
   ]
  },
  {
   "cell_type": "code",
   "execution_count": 72,
   "metadata": {},
   "outputs": [],
   "source": [
    "# from langchain_text_splitters.character import RecursiveCharacterTextSplitter, TextSplitter\n",
    "# text_splitter = RecursiveCharacterTextSplitter(\n",
    "#     chunk_size=1000,\n",
    "#     chunk_overlap=20,\n",
    "#     length_function=len,\n",
    "#     is_separator_regex=False,\n",
    "# )"
   ]
  },
  {
   "cell_type": "code",
   "execution_count": 73,
   "metadata": {},
   "outputs": [],
   "source": [
    "# # result = loader.load()\n",
    "# result = loader.load_and_split(text_splitter=text_splitter)\n",
    "# result"
   ]
  },
  {
   "cell_type": "code",
   "execution_count": 74,
   "metadata": {},
   "outputs": [],
   "source": [
    "# print(result[0].page_content)\n",
    "# print(result[0].page_content)\n",
    "# result[0].dict()"
   ]
  },
  {
   "cell_type": "code",
   "execution_count": 18,
   "metadata": {},
   "outputs": [],
   "source": [
    "# from azure.ai.documentintelligence import DocumentIntelligenceClient\n",
    "# from azure.ai.documentintelligence.models import AnalyzeDocumentRequest\n",
    "# from azure.core.credentials import AzureKeyCredential\n",
    "# from langchain_community.document_loaders.blob_loaders import Blob\n",
    "# from langchain_community.document_loaders.parsers import AzureAIDocumentIntelligenceParser\n",
    "\n",
    "# document_intelligence_client = DocumentIntelligenceClient(\n",
    "#         endpoint=config.AZURE_DOCS_INT_ENDPOINT, \n",
    "#         credential=AzureKeyCredential(config.AZURE_DOCS_INT_API_KEY),\n",
    "#         # api_version=\"2023-07-31\"\n",
    "# )\n",
    "# parser = AzureAIDocumentIntelligenceParser(  # type: ignore[misc]\n",
    "#             api_endpoint=config.AZURE_DOCS_INT_ENDPOINT,\n",
    "#             api_key=config.AZURE_DOCS_INT_API_KEY,\n",
    "#             api_version=\"2024-02-29-preview\",\n",
    "#             api_model=\"prebuilt-layout\",\n",
    "#             mode=\"markdown\",\n",
    "#             analysis_features=analysis_features,\n",
    "# )\n",
    "# formUrl = \"https://raw.githubusercontent.com/Azure-Samples/cognitive-services-REST-api-samples/master/curl/form-recognizer/sample-layout.pdf\"\n",
    "# file_path = \"/Users/donnymirzaadhitama/workspace/bithealth/training_data/FPKS/2022082011446651_MRCCC_FPKS_VALE INDONESIA PT_OPA2208190466_KAMRULLAH ILYAS-1.pdf\"\n",
    "# in_file = io.BytesIO(\n",
    "#     open(file_path, 'rb').read()\n",
    "# )\n",
    "# blob = Blob.from_path(file_path)\n",
    "# blob = parser.parse(blob)\n",
    "# # with blob.as_bytes_io() as file_obj:\n",
    "# #     poller = document_intelligence_client.begin_analyze_document(\n",
    "# #             \"prebuilt-layout\",\n",
    "# #             AnalyzeDocumentRequest(\n",
    "# #                 bytes_source=file_obj,\n",
    "# #             #     url_source=formUrl\n",
    "# #             )\n",
    "# #     ) "
   ]
  },
  {
   "cell_type": "markdown",
   "metadata": {},
   "source": [
    "## Test PDFLoader"
   ]
  },
  {
   "cell_type": "code",
   "execution_count": 31,
   "metadata": {},
   "outputs": [],
   "source": [
    "from langchain_community.document_loaders import PyPDFLoader\n",
    "\n",
    "loader = PyPDFLoader(\n",
    "    \"/Users/donnymirzaadhitama/Documents/Lung Cancer 2020- Epidemiology, Etiology, and Prevention.pdf\", \n",
    "    extract_images=True\n",
    ")\n",
    "pages = loader.load()"
   ]
  },
  {
   "cell_type": "code",
   "execution_count": 42,
   "metadata": {},
   "outputs": [
    {
     "data": {
      "text/plain": [
       "24"
      ]
     },
     "execution_count": 42,
     "metadata": {},
     "output_type": "execute_result"
    }
   ],
   "source": [
    "len(pages)"
   ]
  },
  {
   "cell_type": "code",
   "execution_count": 44,
   "metadata": {},
   "outputs": [],
   "source": [
    "pages_split = loader.load_and_split(text_splitter=text_splitter)"
   ]
  },
  {
   "cell_type": "code",
   "execution_count": 45,
   "metadata": {},
   "outputs": [
    {
     "data": {
      "text/plain": [
       "118"
      ]
     },
     "execution_count": 45,
     "metadata": {},
     "output_type": "execute_result"
    }
   ],
   "source": [
    "len(pages_split)"
   ]
  },
  {
   "cell_type": "code",
   "execution_count": 52,
   "metadata": {},
   "outputs": [
    {
     "data": {
      "text/plain": [
       "{'page_content': 'with the recent increase in smoking prevalence in\\nChina, Indonesia, Eastern Europe, and the North-\\nern and Southern parts of Africa.5,7Up to 80% of\\ncurrent smokers now live in low- or middle-income countries, and more than one-half of lung\\ncancer deaths occur in less developed regions.\\n6–8\\nBy contrast, lung cancer incidence is decreasing\\nor expected to decrease in countries that “took\\nup” smoking the earliest and are now successfullyimplementing smoking cessation and avoidance\\ncampaigns.5These countries are generally high in-\\ncome and include the United States, the UnitedKingdom, the Nordic countries, Australia, NewZealand, Singapore, Germany, and Uruguay.\\n5,7\\nAlthough the increasing lung cancer burden\\nglobally is driven by lung cancer cases in men,most countries are also observing an increasing\\nincidence in women.\\n5Although breast cancer is\\nFig. 1. Distribution of cases and deaths\\nfor the 10 most common cancers in\\n2018 for ( A) both sexes, ( B) males,',\n",
       " 'metadata': {'source': '/Users/donnymirzaadhitama/Documents/Lung Cancer 2020- Epidemiology, Etiology, and Prevention.pdf',\n",
       "  'page': 1},\n",
       " 'type': 'Document'}"
      ]
     },
     "execution_count": 52,
     "metadata": {},
     "output_type": "execute_result"
    }
   ],
   "source": [
    "pages_split[4].dict()"
   ]
  },
  {
   "cell_type": "code",
   "execution_count": 32,
   "metadata": {},
   "outputs": [
    {
     "name": "stdout",
     "output_type": "stream",
     "text": [
      "Lung Cancer 2020\n",
      "Epidemiology, Etiology, and\n",
      "Prevention\n",
      "Brett C. Bade, MD, Charles S. Dela Cruz, MD, PhD *\n",
      "Notable changes in lung cancer epidemiology and\n",
      "prevention have occurred over the past decadeowing to changes in smoking patterns, ground-\n",
      "breaking advances in our understanding of the ge-\n",
      "netics of lung cancer, the immune system’s role inlung cancer control, and lung cancer treatment op-\n",
      "tions. Despite these advances, lung cancer re-\n",
      "mains the leading cause of cancer death.\n",
      "1\n",
      "Worldwide, there are more lung cancer casesand deaths since 2011, the number of smokers\n",
      "increased between 1980 and 2012,\n",
      "2,3and lung\n",
      "cancer rates are climbing in developing countriesin conjunction with tobacco smoking. In the United\n",
      "States, lower tobacco smoking rates have led to\n",
      "reductions in lung cancer incidence and mortality,altered the demographics of patients developing\n",
      "lung cancer, and heightened the importance of\n",
      "nontobacco risk factors. Although disease under-standing, treatment options, and outcomes for\n",
      "lung cancer in the United States are improving,\n",
      "survival continues to be low. Clinicians caring forpatients with lung cancer should be familiar withcurrent contemporary trends. This article reviewsthe epidemiology and etiology of lung cancer as\n",
      "well as preventive interventions.\n",
      "EPIDEMIOLOGY OF LUNG CANCER\n",
      "Global Lung Cancer Trends\n",
      "Globally, lung cancer cases and deaths are rising.In 2018, GLOBOCAN estimated 2.09 million new\n",
      "cases (11.6% of total cancer cases) and 1.76\n",
      "million deaths (18.4% of total cancer deaths),\n",
      "4,5\n",
      "higher than 2012 reported rates (1.8 million new\n",
      "cases and 1.6 million deaths),6making it the\n",
      "most frequent cancer and cause of cancer death\n",
      "in men and women combined ( Fig. 1 A, B),5,7and\n",
      "in women, the third most common cancer type\n",
      "and the second most common cause of cancer\n",
      "death ( Fig. 1 C).5,7\n",
      "Between countries, significant variation in lung\n",
      "cancer incidence and demographic distribution\n",
      "are noted, and tobacco smoking rates and stageof economic development influence these pat-\n",
      "terns. Although cancer statistics in developing\n",
      "countries are less reliable, lung cancer incidenceis expected to increase in developing regions\n",
      "Funding Sources for this work: None.\n",
      "Department of Medicine, Section of Pulmonary, Critical Care, and Sleep Medicine, Yale University School of\n",
      "Medicine, PO Box 208057, 300 Cedar Street TAC-441 South, New Haven, CT 06520-8057, USA* Corresponding author.\n",
      "E-mail address: charles.delacruz@yale.edu\n",
      "KEYWORDS\n",
      "/C15Lung cancer /C15Tobacco smoking /C15Epidemiology /C15Etiology /C15Prevention\n",
      "KEY POINTS\n",
      "/C15Lung cancer is on the rise globally and is the most common cause of cancer death.\n",
      "/C15Tobacco smoking remains the biggest risk factor for lung cancer.\n",
      "/C15In the United States, lung cancer incidence, mortality, and survival are improving, although risk of\n",
      "disease development and outcomes vary by age, gender, race, and socioeconomic status.\n",
      "/C15Nontobacco risk factors including environmental and occupational exposures, chronic lung dis-\n",
      "ease, and lifestyle factors contribute to lung cancer risk.\n",
      "Clin Chest Med 41 (2020) 1–24\n",
      "https://doi.org/10.1016/j.ccm.2019.10.0010272-5231/20/ /C2112019 Elsevier Inc. All rights reserved.\n",
      "chestmed.theclinics.com\n"
     ]
    }
   ],
   "source": [
    "print(pages[0].page_content)"
   ]
  },
  {
   "cell_type": "code",
   "execution_count": 41,
   "metadata": {},
   "outputs": [
    {
     "data": {
      "text/plain": [
       "{'page_content': 'uptake has been slow with only 4% of eligible\\nAmericans undergoing low-dose computed to-mography screening in 2015.\\n20Continued imple-\\nmentation of LCS combined with therapeutic\\nadvances for early and advanced stage diseasemay help reverse our current trends of late-stagediagnosis and low overall survival.\\nPerhaps the greatest change in our understand-\\ning of lung cancer epidemiology in the UnitedStates is the recognition of the disease’s “diver-\\nsity.” That is, lung cancer can no longer be stereo-\\ntyped as a disease of older male smokers. Fig. 4\\ndemonstrates the meaningful change in lung can-\\ncer development and outcomes by gender in the\\nlast 50 years. Although smoking history and olderage remain the predominant risk factors for lung\\ncancer development, current estimates are that10% to 20% of patients who develop lung cancerare never smokers,\\n21and lung cancer incidence in\\nwomen is approaching that in men. Also, although\\nthe overall trend in the United States is towardfewer lung cancer deaths and longer survival,\\nmany groups struggle with more lung cancer\\ncases and worsening outcomes. Several demo-graphic factors have been identified that influence\\nlung cancer development and outcomes, including\\ngender, age, race, geography, and socioeconomicstatus (SES).\\nGender\\nChristina R. MacRosty and M. Patricia Rivera’s\\narticle, “ Lung Cancer in Women: A Modern\\nEpidemic ,” in this issue, of this Clinics issue is\\ndedicated to lung cancer in women. Owing to\\nthe significant changes in lung cancer epidemi-\\nology, we mention 3 points here. First, lung can-cer incidence and mortality are consistently\\nlower in women compared with men (see\\nFig. 4 ), although the gender “gap” is narrowing\\nowing to both values falling more rapidly in\\nmen. If current trends continue, modeling studies\\nsuggest that the number of lung cancer deaths inwomen will exceed those in men in 2045.\\n16Sec-\\nond, the demographics of women diagnosed\\nwith lung cancer are different than those in\\nmen. Specifically, women tend to be diagnosedwith lung cancer at a younger age, are more\\nlikely to be nonsmokers, and are more likely to\\nbe diagnosed with an adenocarcinoma.\\n22Finally,\\nwomen have improved lung cancer survival\\nacross all disease stages than men.23In combi-\\nnation, these findings support unique biologicaland genetic mechanisms of lung cancerbetween men and women. Refer to Christina R.\\nMacRosty and M. Patricia Rivera’s article,\\n“Lung Cancer in Women: A Modern Epidemic ,”\\nin this issue, for a complete discussion of lung\\ncancer in women.\\nFig. 4. Cancer of the lung and bronchus Surveillance,\\nEpidemiology, and End Results delay-adjusted inci-dence and US death rates, 1975 to 2016, all races, bysex. ( From Howlader N NA, Krapcho M, Miller D, Brest\\nA, Yu M, Ruhl J, Tatalovich Z, Mariotto A, Lewis DR,\\nChen HS, Feuer EJ, Cronin KA (eds). SEER Cancer Statis-tics Review, 1975-2016. 2019; https://seer.cancer.gov/\\ncsr/1975_2016/ . Accessed May 26, 2019; with\\npermission.)\\nFig. 5. Percentage of adults aged\\n18 years and older who were current\\ncigarette smokers, overall and by sex; Na-tional Health Interview Survey, United\\nStates, 1965 to 2017. ( From Wang TW, As-\\nman K, Gentzke AS, et al. Tobacco Prod-uct Use Among Adults - United States,2017. MMWR Morb Mortal Wkly Rep\\n2018;67(44):1225-1232; with permission.)Lung Cancer Epidemiology 5Rateper100,000\\n120\\n100\\n80\\n60\\n40\\nMaleDelay-Adjusted Incidence\\nMaleMortality\\n20\\nFemaleDelay-AdjustedIncidence\\nFemale Mortality\\n0\\n1975\\n1980\\n1985\\n1990\\n1995\\n2000\\n2005\\n2010\\n2016\\nYearofDiagnosis/Death100\\n60\\nOverall\\nMale\\nFemale\\n50\\nPercentage\\n40\\n30\\n20\\n10\\n1965\\n1974\\n1978\\n1983\\n1988\\n1992\\n1995\\n1999\\n2002\\n2005\\n2008\\n2011\\n2014\\n2017\\nYear',\n",
       " 'metadata': {'source': '/Users/donnymirzaadhitama/Documents/Lung Cancer 2020- Epidemiology, Etiology, and Prevention.pdf',\n",
       "  'page': 4},\n",
       " 'type': 'Document'}"
      ]
     },
     "execution_count": 41,
     "metadata": {},
     "output_type": "execute_result"
    }
   ],
   "source": [
    "pages[4].dict()"
   ]
  }
 ],
 "metadata": {
  "kernelspec": {
   "display_name": "chatai",
   "language": "python",
   "name": "python3"
  },
  "language_info": {
   "codemirror_mode": {
    "name": "ipython",
    "version": 3
   },
   "file_extension": ".py",
   "mimetype": "text/x-python",
   "name": "python",
   "nbconvert_exporter": "python",
   "pygments_lexer": "ipython3",
   "version": "3.10.14"
  }
 },
 "nbformat": 4,
 "nbformat_minor": 2
}
