{
 "cells": [
  {
   "cell_type": "code",
   "execution_count": 1,
   "metadata": {},
   "outputs": [
    {
     "name": "stdout",
     "output_type": "stream",
     "text": [
      "Project ID: dwh-siloam\n",
      "Region: asia-southeast1\n",
      "Checking Credentials...\n",
      "Using service account credentials from service_account folder\n",
      "Using service account file: /Users/donnymirzaadhitama/workspace/others/chatbot-llm/service_account/dwh-siloam-99402e61edd2.json\n"
     ]
    }
   ],
   "source": [
    "PROJECT_ID = 'dwh-siloam'\n",
    "REGION = 'asia-southeast1'\n",
    "print(f\"Project ID: {PROJECT_ID}\\nRegion: {REGION}\")\n",
    "\n",
    "# Initialize Vertex AI\n",
    "from pathlib import Path\n",
    "import vertexai\n",
    "from google.cloud import aiplatform\n",
    "\n",
    "print(f\"Checking Credentials...\")\n",
    "if not any((Path.cwd()/\"service_account\").glob('*.json')):\n",
    "    print(\"Service account folder is empty. Fallback using default gcloud account\")\n",
    "    aiplatform.init(project=PROJECT_ID, location=REGION)\n",
    "    vertexai.init(project=PROJECT_ID, location=REGION)\n",
    "else:\n",
    "    print('Using service account credentials from service_account folder')\n",
    "    from google.oauth2 import service_account\n",
    "    sa_file = list((Path.cwd()/\"service_account\").glob('*.json'))[0]\n",
    "    print(f\"Using service account file: {sa_file}\")\n",
    "    credentials = service_account.Credentials.from_service_account_file(sa_file)\n",
    "    aiplatform.init(project=PROJECT_ID, location=REGION, credentials=credentials)\n",
    "    vertexai.init(project=PROJECT_ID, location=REGION, credentials=credentials)\n",
    "\n",
    "# Import libraries\n",
    "from langchain_google_vertexai import VertexAI, ChatVertexAI, create_structured_runnable\n",
    "from langchain_core.prompts import ChatPromptTemplate\n",
    "from langchain_core.pydantic_v1 import BaseModel, Field\n",
    "\n",
    "from typing import List, Optional\n",
    "import requests\n",
    "\n",
    "from langchain_core.messages import HumanMessage, AIMessage\n",
    "from langchain_core.prompts import MessagesPlaceholder\n",
    "from settings import CopilotSettings\n",
    "import time\n",
    "\n",
    "import io\n",
    "from langchain_community.document_loaders import AzureAIDocumentIntelligenceLoader"
   ]
  },
  {
   "cell_type": "code",
   "execution_count": 2,
   "metadata": {},
   "outputs": [],
   "source": [
    "config = CopilotSettings()"
   ]
  },
  {
   "cell_type": "code",
   "execution_count": 18,
   "metadata": {},
   "outputs": [],
   "source": [
    "file_path = \"/Users/donnymirzaadhitama/workspace/bithealth/training_data/FPKS/2022082011446651_MRCCC_FPKS_VALE INDONESIA PT_OPA2208190466_KAMRULLAH ILYAS-1.pdf\"\n",
    "in_file = io.BytesIO(\n",
    "    open(file_path, 'rb').read()\n",
    ")"
   ]
  },
  {
   "cell_type": "code",
   "execution_count": 17,
   "metadata": {},
   "outputs": [],
   "source": [
    "# endpoint = config.AZURE_DOCS_INT_ENDPOINT\n",
    "# key = config.AZURE_DOCS_INT_API_KEY\n",
    "# analysis_features = [\"ocrHighResolution\"]\n",
    "# loader = AzureAIDocumentIntelligenceLoader(\n",
    "#     api_endpoint=endpoint,\n",
    "#     api_key=key,\n",
    "#     file_path=file_path,\n",
    "#     api_model=\"prebuilt-document\",\n",
    "#     # analysis_features=analysis_features,\n",
    "# )\n",
    "\n",
    "# documents = loader.load()"
   ]
  },
  {
   "cell_type": "code",
   "execution_count": 6,
   "metadata": {},
   "outputs": [
    {
     "name": "stdout",
     "output_type": "stream",
     "text": [
      "----Key-value pairs found in document----\n",
      "Key 'Sex:': Value: 'Male /'\n",
      "Key 'Ph:': Value: '085399799077'\n",
      "Key 'MR No:': Value: 'MRCCC.00-42-94-47'\n",
      "Key 'DOB:': Value: '31-Dec-1971'\n",
      "Key 'Kepada TS :': Value: 'dr.'\n",
      "Key 'Internal': Value: ':selected:'\n",
      "Key 'Eksternal': Value: ':unselected:'\n",
      "Key 'Mohon konsultasi dan tindak lanjut untuk pasien dengan :': Value: 'Keluhan utama\n",
      "Bah- Kin'\n",
      "Key 'Hasil pemeriksaan yang ditemukan\n",
      ":': Value: 'difama\n",
      "Km .'\n",
      "Key 'Diagnosa\n",
      ":': Value: 'Saf Smilde'\n",
      "Key 'Konsultasi satu kali': Value: ':unselected:'\n",
      "Key 'Rawat bersama': Value: ':selected:'\n",
      "Key 'Alih rawat': Value: ':unselected:'\n",
      "Key 'Tanggal :': Value: '1120'\n",
      "----------------------------------------\n"
     ]
    }
   ],
   "source": [
    "\"\"\"\n",
    "This code sample shows Prebuilt Document operations with the Azure Form Recognizer client library. \n",
    "The async versions of the samples require Python 3.6 or later.\n",
    "\n",
    "To learn more, please visit the documentation - Quickstart: Form Recognizer Python client library SDKs\n",
    "https://learn.microsoft.com/azure/applied-ai-services/form-recognizer/quickstarts/get-started-v3-sdk-rest-api?view=doc-intel-3.1.0&pivots=programming-language-python\n",
    "\"\"\"\n",
    "\n",
    "from azure.core.credentials import AzureKeyCredential\n",
    "from azure.ai.formrecognizer import DocumentAnalysisClient\n",
    "\n",
    "\"\"\"\n",
    "Remember to remove the key from your code when you're done, and never post it publicly. For production, use\n",
    "secure methods to store and access your credentials. For more information, see \n",
    "https://docs.microsoft.com/en-us/azure/cognitive-services/cognitive-services-security?tabs=command-line%2Ccsharp#environment-variables-and-application-configuration\n",
    "\"\"\"\n",
    "endpoint = config.AZURE_DOCS_INT_ENDPOINT\n",
    "key = config.AZURE_DOCS_INT_API_KEY\n",
    "\n",
    "# sample document\n",
    "form_url = \"https://raw.githubusercontent.com/Azure-Samples/cognitive-services-REST-api-samples/master/curl/form-recognizer/sample-layout.pdf\"\n",
    "\n",
    "document_analysis_client = DocumentAnalysisClient(\n",
    "        endpoint=endpoint, credential=AzureKeyCredential(key)\n",
    "    )\n",
    "    \n",
    "# poller = document_analysis_client.begin_analyze_document_from_url(\n",
    "#     model_id=\"prebuilt-document\",\n",
    "#     document_url=form_url\n",
    "# )\n",
    "poller = document_analysis_client.begin_analyze_document(\n",
    "    model_id=\"prebuilt-document\",\n",
    "    document=in_file\n",
    ")\n",
    "\n",
    "result = poller.result()\n",
    "\n",
    "print(\"----Key-value pairs found in document----\")\n",
    "for kv_pair in result.key_value_pairs:\n",
    "    if kv_pair.key and kv_pair.value:\n",
    "        print(\"Key '{}': Value: '{}'\".format(kv_pair.key.content, kv_pair.value.content))\n",
    "    else:\n",
    "        print(\"Key '{}': Value:\".format(kv_pair.key.content))\n",
    "\n",
    "print(\"----------------------------------------\")\n"
   ]
  },
  {
   "cell_type": "code",
   "execution_count": 16,
   "metadata": {},
   "outputs": [
    {
     "name": "stdout",
     "output_type": "stream",
     "text": [
      "DocumentKeyValueElement(content=Sex:, bounding_regions=[BoundingRegion(page_number=1, polygon=[Point(x=4.5482, y=1.3704), Point(x=4.8071, y=1.3704), Point(x=4.802, y=1.543), Point(x=4.5431, y=1.543)])], spans=[DocumentSpan(offset=74, length=4)])\n",
      "DocumentKeyValueElement(content=Male /, bounding_regions=[BoundingRegion(page_number=1, polygon=[Point(x=4.8375, y=1.3704), Point(x=5.2385, y=1.3738), Point(x=5.2371, y=1.5413), Point(x=4.8361, y=1.5379)])], spans=[DocumentSpan(offset=79, length=6)])\n"
     ]
    }
   ],
   "source": [
    "# print(result.content)\n",
    "print(result.key_value_pairs[0].key)\n",
    "print(result.key_value_pairs[0].value)"
   ]
  }
 ],
 "metadata": {
  "kernelspec": {
   "display_name": "chatai",
   "language": "python",
   "name": "python3"
  },
  "language_info": {
   "codemirror_mode": {
    "name": "ipython",
    "version": 3
   },
   "file_extension": ".py",
   "mimetype": "text/x-python",
   "name": "python",
   "nbconvert_exporter": "python",
   "pygments_lexer": "ipython3",
   "version": "3.10.14"
  }
 },
 "nbformat": 4,
 "nbformat_minor": 2
}
