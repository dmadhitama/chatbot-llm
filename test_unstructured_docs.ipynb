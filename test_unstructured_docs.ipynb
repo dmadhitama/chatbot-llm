{
 "cells": [
  {
   "cell_type": "code",
   "execution_count": 1,
   "metadata": {},
   "outputs": [
    {
     "name": "stdout",
     "output_type": "stream",
     "text": [
      "Project ID: dwh-siloam\n",
      "Region: asia-southeast1\n",
      "Checking Credentials...\n",
      "Using service account credentials from service_account folder\n",
      "Using service account file: /Users/donnymirzaadhitama/workspace/others/chatbot-llm/service_account/dwh-siloam-99402e61edd2.json\n"
     ]
    }
   ],
   "source": [
    "PROJECT_ID = 'dwh-siloam'\n",
    "REGION = 'asia-southeast1'\n",
    "print(f\"Project ID: {PROJECT_ID}\\nRegion: {REGION}\")\n",
    "\n",
    "# Initialize Vertex AI\n",
    "from pathlib import Path\n",
    "import vertexai\n",
    "from google.cloud import aiplatform\n",
    "\n",
    "print(f\"Checking Credentials...\")\n",
    "if not any((Path.cwd()/\"service_account\").glob('*.json')):\n",
    "    print(\"Service account folder is empty. Fallback using default gcloud account\")\n",
    "    aiplatform.init(project=PROJECT_ID, location=REGION)\n",
    "    vertexai.init(project=PROJECT_ID, location=REGION)\n",
    "else:\n",
    "    print('Using service account credentials from service_account folder')\n",
    "    from google.oauth2 import service_account\n",
    "    sa_file = list((Path.cwd()/\"service_account\").glob('*.json'))[0]\n",
    "    print(f\"Using service account file: {sa_file}\")\n",
    "    credentials = service_account.Credentials.from_service_account_file(sa_file)\n",
    "    aiplatform.init(project=PROJECT_ID, location=REGION, credentials=credentials)\n",
    "    vertexai.init(project=PROJECT_ID, location=REGION, credentials=credentials)\n",
    "\n",
    "# Import libraries\n",
    "from langchain_google_vertexai import VertexAI, ChatVertexAI, create_structured_runnable\n",
    "from langchain_core.prompts import ChatPromptTemplate\n",
    "from langchain_core.pydantic_v1 import BaseModel, Field\n",
    "\n",
    "from typing import List, Optional\n",
    "import requests\n",
    "\n",
    "from langchain_core.messages import HumanMessage, AIMessage\n",
    "from langchain_core.prompts import MessagesPlaceholder\n",
    "from settings import CopilotSettings\n",
    "import time\n",
    "\n",
    "import io\n",
    "from langchain_community.document_loaders import AzureAIDocumentIntelligenceLoader"
   ]
  },
  {
   "cell_type": "code",
   "execution_count": 2,
   "metadata": {},
   "outputs": [],
   "source": [
    "config = CopilotSettings()"
   ]
  },
  {
   "cell_type": "code",
   "execution_count": 21,
   "metadata": {},
   "outputs": [],
   "source": [
    "file_path = \"/Users/donnymirzaadhitama/workspace/bithealth/training_data/FPKS/2022082011446651_MRCCC_FPKS_VALE INDONESIA PT_OPA2208190466_KAMRULLAH ILYAS-1.pdf\"\n",
    "in_file = io.BytesIO(\n",
    "    open(file_path, 'rb').read()\n",
    ")"
   ]
  },
  {
   "cell_type": "code",
   "execution_count": 17,
   "metadata": {},
   "outputs": [],
   "source": [
    "# endpoint = config.AZURE_DOCS_INT_ENDPOINT\n",
    "# key = config.AZURE_DOCS_INT_API_KEY\n",
    "# analysis_features = [\"ocrHighResolution\"]\n",
    "# loader = AzureAIDocumentIntelligenceLoader(\n",
    "#     api_endpoint=endpoint,\n",
    "#     api_key=key,\n",
    "#     file_path=file_path,\n",
    "#     api_model=\"prebuilt-document\",\n",
    "#     # analysis_features=analysis_features,\n",
    "# )\n",
    "\n",
    "# documents = loader.load()"
   ]
  },
  {
   "cell_type": "markdown",
   "metadata": {},
   "source": [
    "## Testing Azure Document Intelligence"
   ]
  },
  {
   "cell_type": "code",
   "execution_count": 22,
   "metadata": {},
   "outputs": [
    {
     "name": "stdout",
     "output_type": "stream",
     "text": [
      "----Key-value pairs found in document----\n",
      "Masuk if: Key 'Sex:': Value: 'Male /'\n",
      "Masuk if: Key 'Ph:': Value: '085399799077'\n",
      "Masuk if: Key 'MR No:': Value: 'MRCCC.00-42-94-47'\n",
      "Masuk if: Key 'DOB:': Value: '31-Dec-1971'\n",
      "Masuk if: Key 'Kepada TS :': Value: 'dr.'\n",
      "Masuk if: Key 'Internal': Value: ':selected:'\n",
      "Masuk if: Key 'Eksternal': Value: ':unselected:'\n",
      "Masuk if: Key 'Mohon konsultasi dan tindak lanjut untuk pasien dengan :': Value: 'Keluhan utama\n",
      "Bah- Kin'\n",
      "Masuk if: Key 'Hasil pemeriksaan yang ditemukan\n",
      ":': Value: 'difama\n",
      "Km .'\n",
      "Masuk if: Key 'Diagnosa\n",
      ":': Value: 'Saf Smilde'\n",
      "Masuk if: Key 'Konsultasi satu kali': Value: ':unselected:'\n",
      "Masuk if: Key 'Rawat bersama': Value: ':selected:'\n",
      "Masuk if: Key 'Alih rawat': Value: ':unselected:'\n",
      "Masuk if: Key 'Tanggal :': Value: '1120'\n",
      "----------------------------------------\n"
     ]
    }
   ],
   "source": [
    "\"\"\"\n",
    "This code sample shows Prebuilt Document operations with the Azure Form Recognizer client library. \n",
    "The async versions of the samples require Python 3.6 or later.\n",
    "\n",
    "To learn more, please visit the documentation - Quickstart: Form Recognizer Python client library SDKs\n",
    "https://learn.microsoft.com/azure/applied-ai-services/form-recognizer/quickstarts/get-started-v3-sdk-rest-api?view=doc-intel-3.1.0&pivots=programming-language-python\n",
    "\"\"\"\n",
    "\n",
    "from azure.core.credentials import AzureKeyCredential\n",
    "from azure.ai.formrecognizer import DocumentAnalysisClient\n",
    "\n",
    "\"\"\"\n",
    "Remember to remove the key from your code when you're done, and never post it publicly. For production, use\n",
    "secure methods to store and access your credentials. For more information, see \n",
    "https://docs.microsoft.com/en-us/azure/cognitive-services/cognitive-services-security?tabs=command-line%2Ccsharp#environment-variables-and-application-configuration\n",
    "\"\"\"\n",
    "endpoint = config.AZURE_DOCS_INT_ENDPOINT\n",
    "key = config.AZURE_DOCS_INT_API_KEY\n",
    "\n",
    "# sample document\n",
    "form_url = \"https://raw.githubusercontent.com/Azure-Samples/cognitive-services-REST-api-samples/master/curl/form-recognizer/sample-layout.pdf\"\n",
    "\n",
    "document_analysis_client = DocumentAnalysisClient(\n",
    "        endpoint=endpoint, credential=AzureKeyCredential(key)\n",
    "    )\n",
    "    \n",
    "# poller = document_analysis_client.begin_analyze_document_from_url(\n",
    "#     model_id=\"prebuilt-document\",\n",
    "#     document_url=form_url\n",
    "# )\n",
    "poller = document_analysis_client.begin_analyze_document(\n",
    "    model_id=\"prebuilt-document\",\n",
    "    document=in_file\n",
    ")\n",
    "\n",
    "result = poller.result()\n",
    "\n",
    "print(\"----Key-value pairs found in document----\")\n",
    "for kv_pair in result.key_value_pairs:\n",
    "    if kv_pair.key and kv_pair.value:\n",
    "        print(\"Masuk if: Key '{}': Value: '{}'\".format(kv_pair.key.content, kv_pair.value.content))\n",
    "    else:\n",
    "        print(\"Masuk else: Key '{}': Value:\".format(kv_pair.key.content))\n",
    "\n",
    "print(\"----------------------------------------\")\n"
   ]
  },
  {
   "cell_type": "code",
   "execution_count": 24,
   "metadata": {},
   "outputs": [
    {
     "data": {
      "text/plain": [
       "azure.ai.formrecognizer._models.AnalyzeResult"
      ]
     },
     "execution_count": 24,
     "metadata": {},
     "output_type": "execute_result"
    }
   ],
   "source": [
    "type(result)"
   ]
  },
  {
   "cell_type": "code",
   "execution_count": 19,
   "metadata": {},
   "outputs": [
    {
     "name": "stdout",
     "output_type": "stream",
     "text": [
      "Siloam\n",
      ".\n",
      "Siloam Hospitals\n",
      "PERMOHONAN KONSULTASI\n",
      "Hospitals\n",
      "KAMRULLAH ILYAS Sex: Male / Ph: 085399799077 MR No: MRCCC.00-42-94-47 / DOB: 31-Dec-1971 ( OPA2208190466 / 19-Agt-2022 11:00 Dr. dr. Andri Lubis, SpOT (K) / VALE INDONESIA, P.T\n",
      "Kepada TS : dr.\n",
      "Rehala mass Media :selected: Internal :unselected: Eksternal\n",
      "Mohon konsultasi dan tindak lanjut untuk pasien dengan :\n",
      "Keluhan utama\n",
      "Hasil pemeriksaan yang ditemukan\n",
      ": Bah- Kin difama\n",
      "Diagnosa\n",
      ": Saf Smilde\n",
      "Km .\n",
      "Obat dan tindakan yang diberikan\n",
      ".\n",
      "Terima kasih atas bantuan & kerjasamanya. :unselected: Konsultasi satu kali :selected: Rawat bersama :unselected: Alih rawat\n",
      "Tanggal : 19/8-20 Jam 1120 -\n",
      "Dokter yang merawat\n",
      "Tanda Tangan & Nama Lengkap\n",
      "SHAMA 1511.47a/1\n"
     ]
    }
   ],
   "source": [
    "print(result.content)"
   ]
  },
  {
   "cell_type": "code",
   "execution_count": 16,
   "metadata": {},
   "outputs": [
    {
     "name": "stdout",
     "output_type": "stream",
     "text": [
      "DocumentKeyValueElement(content=Sex:, bounding_regions=[BoundingRegion(page_number=1, polygon=[Point(x=4.5482, y=1.3704), Point(x=4.8071, y=1.3704), Point(x=4.802, y=1.543), Point(x=4.5431, y=1.543)])], spans=[DocumentSpan(offset=74, length=4)])\n",
      "DocumentKeyValueElement(content=Male /, bounding_regions=[BoundingRegion(page_number=1, polygon=[Point(x=4.8375, y=1.3704), Point(x=5.2385, y=1.3738), Point(x=5.2371, y=1.5413), Point(x=4.8361, y=1.5379)])], spans=[DocumentSpan(offset=79, length=6)])\n"
     ]
    }
   ],
   "source": [
    "print(result.key_value_pairs[0].key)\n",
    "print(result.key_value_pairs[0].value)"
   ]
  },
  {
   "cell_type": "markdown",
   "metadata": {},
   "source": [
    "## Create object document loader"
   ]
  },
  {
   "cell_type": "code",
   "execution_count": 36,
   "metadata": {},
   "outputs": [],
   "source": [
    "from langchain_text_splitters.character import RecursiveCharacterTextSplitter\n",
    "from typing import Any, List, Optional\n",
    "from azure.ai.formrecognizer._models import AnalyzeResult\n",
    "\n",
    "class AnalyzeDocumentIntelligence(RecursiveCharacterTextSplitter):\n",
    "    def __init__(\n",
    "        self,\n",
    "        separators: Optional[List[str]] = None,\n",
    "        keep_separator: bool = True,\n",
    "        is_separator_regex: bool = False,\n",
    "        endpoint: Optional[str] = None,\n",
    "        key: Optional[str] = None,\n",
    "\n",
    "        **kwargs: Any,\n",
    "    ) -> None:\n",
    "        \"\"\"Create a new TextSplitter.\"\"\"\n",
    "        super().__init__(keep_separator=keep_separator, **kwargs)\n",
    "        self._separators = separators or [\"\\n\\n\", \"\\n\", \" \", \"\"]\n",
    "        self._is_separator_regex = is_separator_regex\n",
    "        self.endpoint = endpoint\n",
    "        self.api_key = key\n",
    "\n",
    "    def analyze_document(\n",
    "        self,\n",
    "        file_path: str = None,\n",
    "        file_url: str = None,\n",
    "        model_id: str = \"prebuilt-document\",\n",
    "    ) -> AnalyzeResult:\n",
    "        document_analysis_client = DocumentAnalysisClient(\n",
    "            endpoint=self.endpoint, \n",
    "            credential=AzureKeyCredential(self.api_key)\n",
    "        )\n",
    "    \n",
    "        if file_url:\n",
    "            poller = document_analysis_client.begin_analyze_document_from_url(\n",
    "                model_id=model_id,\n",
    "                document_url=file_url\n",
    "            )\n",
    "        elif file_path:\n",
    "            in_file = io.BytesIO(\n",
    "                open(file_path, 'rb').read()\n",
    "            )\n",
    "            poller = document_analysis_client.begin_analyze_document(\n",
    "                model_id=model_id,\n",
    "                document=in_file\n",
    "            )\n",
    "        else:\n",
    "            raise ValueError(\"Either file_path or file_url must be provided.\")\n",
    "\n",
    "        return poller.result()\n",
    "    \n",
    "    def _get_dict_from_key_value_poller(\n",
    "        self,\n",
    "        poller_result: AnalyzeResult,\n",
    "    ):\n",
    "        dict_poller = {}\n",
    "        for kv_pair in poller_result.key_value_pairs:\n",
    "            if kv_pair.key not in dict_poller:\n",
    "                dict_poller[kv_pair.key.content] = []\n",
    "\n",
    "            if kv_pair.key and kv_pair.value:\n",
    "                dict_poller[kv_pair.key.content].append(kv_pair.value.content)\n",
    "            else:\n",
    "                dict_poller[kv_pair.key.content].append(None)\n",
    "\n",
    "        return dict_poller"
   ]
  },
  {
   "cell_type": "code",
   "execution_count": 37,
   "metadata": {},
   "outputs": [],
   "source": [
    "adi = AnalyzeDocumentIntelligence(\n",
    "    chunk_size=1000,\n",
    "    chunk_overlap=20,\n",
    "    length_function=len,\n",
    "    is_separator_regex=False,\n",
    "    endpoint=config.AZURE_DOCS_INT_ENDPOINT,\n",
    "    key=config.AZURE_DOCS_INT_API_KEY,\n",
    ")\n",
    "\n",
    "result = adi.analyze_document(file_path=file_path)"
   ]
  },
  {
   "cell_type": "code",
   "execution_count": 38,
   "metadata": {},
   "outputs": [
    {
     "data": {
      "text/plain": [
       "{'Sex:': ['Male /'],\n",
       " 'Ph:': ['085399799077'],\n",
       " 'MR No:': ['MRCCC.00-42-94-47'],\n",
       " 'DOB:': ['31-Dec-1971'],\n",
       " 'Kepada TS :': ['dr.'],\n",
       " 'Internal': [':selected:'],\n",
       " 'Eksternal': [':unselected:'],\n",
       " 'Mohon konsultasi dan tindak lanjut untuk pasien dengan :': ['Keluhan utama\\nBah- Kin'],\n",
       " 'Hasil pemeriksaan yang ditemukan\\n:': ['difama\\nKm .'],\n",
       " 'Diagnosa\\n:': ['Saf Smilde'],\n",
       " 'Konsultasi satu kali': [':unselected:'],\n",
       " 'Rawat bersama': [':selected:'],\n",
       " 'Alih rawat': [':unselected:'],\n",
       " 'Tanggal :': ['1120']}"
      ]
     },
     "execution_count": 38,
     "metadata": {},
     "output_type": "execute_result"
    }
   ],
   "source": [
    "adi._get_dict_from_key_value_poller(result)"
   ]
  }
 ],
 "metadata": {
  "kernelspec": {
   "display_name": "chatai",
   "language": "python",
   "name": "python3"
  },
  "language_info": {
   "codemirror_mode": {
    "name": "ipython",
    "version": 3
   },
   "file_extension": ".py",
   "mimetype": "text/x-python",
   "name": "python",
   "nbconvert_exporter": "python",
   "pygments_lexer": "ipython3",
   "version": "3.10.14"
  }
 },
 "nbformat": 4,
 "nbformat_minor": 2
}
