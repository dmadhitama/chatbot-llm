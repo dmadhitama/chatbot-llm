{
 "cells": [
  {
   "cell_type": "code",
   "execution_count": 1,
   "metadata": {},
   "outputs": [
    {
     "name": "stdout",
     "output_type": "stream",
     "text": [
      "Project ID: dwh-siloam\n",
      "Region: asia-southeast1\n",
      "Checking Credentials...\n",
      "Using service account credentials from service_account folder\n",
      "Using service account file: /Users/donnymirzaadhitama/workspace/others/chatbot-llm/service_account/dwh-siloam-99402e61edd2.json\n"
     ]
    }
   ],
   "source": [
    "PROJECT_ID = 'dwh-siloam'\n",
    "REGION = 'asia-southeast1'\n",
    "print(f\"Project ID: {PROJECT_ID}\\nRegion: {REGION}\")\n",
    "\n",
    "# Initialize Vertex AI\n",
    "from pathlib import Path\n",
    "import vertexai\n",
    "from google.cloud import aiplatform\n",
    "\n",
    "print(f\"Checking Credentials...\")\n",
    "if not any((Path.cwd()/\"service_account\").glob('*.json')):\n",
    "    print(\"Service account folder is empty. Fallback using default gcloud account\")\n",
    "    aiplatform.init(project=PROJECT_ID, location=REGION)\n",
    "    vertexai.init(project=PROJECT_ID, location=REGION)\n",
    "else:\n",
    "    print('Using service account credentials from service_account folder')\n",
    "    from google.oauth2 import service_account\n",
    "    sa_file = list((Path.cwd()/\"service_account\").glob('*.json'))[0]\n",
    "    print(f\"Using service account file: {sa_file}\")\n",
    "    credentials = service_account.Credentials.from_service_account_file(sa_file)\n",
    "    aiplatform.init(project=PROJECT_ID, location=REGION, credentials=credentials)\n",
    "    vertexai.init(project=PROJECT_ID, location=REGION, credentials=credentials)\n",
    "\n",
    "# Import libraries\n",
    "from langchain_google_vertexai import VertexAI, ChatVertexAI, create_structured_runnable\n",
    "from langchain_core.prompts import ChatPromptTemplate\n",
    "from langchain_core.pydantic_v1 import BaseModel, Field\n",
    "\n",
    "from typing import List, Optional\n",
    "import requests\n",
    "\n",
    "from langchain_core.messages import HumanMessage, AIMessage\n",
    "from langchain_core.prompts import MessagesPlaceholder\n",
    "from settings import CopilotSettings\n",
    "import time\n",
    "\n",
    "import io\n",
    "from langchain_community.document_loaders import AzureAIDocumentIntelligenceLoader"
   ]
  },
  {
   "cell_type": "code",
   "execution_count": 2,
   "metadata": {},
   "outputs": [],
   "source": [
    "config = CopilotSettings()"
   ]
  },
  {
   "cell_type": "markdown",
   "metadata": {},
   "source": [
    "## Testing Azure Document Intelligence"
   ]
  },
  {
   "cell_type": "code",
   "execution_count": 3,
   "metadata": {},
   "outputs": [
    {
     "name": "stdout",
     "output_type": "stream",
     "text": [
      "----Key-value pairs found in document----\n",
      "Masuk if: Key 'Sex:': Value: 'Male /'\n",
      "Masuk if: Key 'Ph:': Value: '085399799077'\n",
      "Masuk if: Key 'MR No:': Value: 'MRCCC.00-42-94-47'\n",
      "Masuk if: Key 'DOB:': Value: '31-Dec-1971'\n",
      "Masuk if: Key 'Kepada TS :': Value: 'dr.'\n",
      "Masuk if: Key 'Internal': Value: ':selected:'\n",
      "Masuk if: Key 'Eksternal': Value: ':unselected:'\n",
      "Masuk if: Key 'Mohon konsultasi dan tindak lanjut untuk pasien dengan :': Value: 'Keluhan utama\n",
      "Bah- Kin'\n",
      "Masuk if: Key 'Hasil pemeriksaan yang ditemukan\n",
      ":': Value: 'difama\n",
      "Km .'\n",
      "Masuk if: Key 'Diagnosa\n",
      ":': Value: 'Saf Smilde'\n",
      "Masuk if: Key 'Konsultasi satu kali': Value: ':unselected:'\n",
      "Masuk if: Key 'Rawat bersama': Value: ':selected:'\n",
      "Masuk if: Key 'Alih rawat': Value: ':unselected:'\n",
      "Masuk if: Key 'Tanggal :': Value: '1120'\n",
      "----------------------------------------\n"
     ]
    }
   ],
   "source": [
    "\"\"\"\n",
    "This code sample shows Prebuilt Document operations with the Azure Form Recognizer client library. \n",
    "The async versions of the samples require Python 3.6 or later.\n",
    "\n",
    "To learn more, please visit the documentation - Quickstart: Form Recognizer Python client library SDKs\n",
    "https://learn.microsoft.com/azure/applied-ai-services/form-recognizer/quickstarts/get-started-v3-sdk-rest-api?view=doc-intel-3.1.0&pivots=programming-language-python\n",
    "\"\"\"\n",
    "\n",
    "from azure.core.credentials import AzureKeyCredential\n",
    "from azure.ai.formrecognizer import DocumentAnalysisClient\n",
    "\n",
    "\"\"\"\n",
    "Remember to remove the key from your code when you're done, and never post it publicly. For production, use\n",
    "secure methods to store and access your credentials. For more information, see \n",
    "https://docs.microsoft.com/en-us/azure/cognitive-services/cognitive-services-security?tabs=command-line%2Ccsharp#environment-variables-and-application-configuration\n",
    "\"\"\"\n",
    "endpoint = config.AZURE_DOCS_INT_ENDPOINT\n",
    "key = config.AZURE_DOCS_INT_API_KEY\n",
    "\n",
    "# sample document\n",
    "form_url = \"https://raw.githubusercontent.com/Azure-Samples/cognitive-services-REST-api-samples/master/curl/form-recognizer/sample-layout.pdf\"\n",
    "file_path = \"/Users/donnymirzaadhitama/workspace/bithealth/training_data/FPKS/2022082011446651_MRCCC_FPKS_VALE INDONESIA PT_OPA2208190466_KAMRULLAH ILYAS-1.pdf\"\n",
    "in_file = io.BytesIO(\n",
    "    open(file_path, 'rb').read()\n",
    ")\n",
    "\n",
    "document_analysis_client = DocumentAnalysisClient(\n",
    "        endpoint=endpoint, credential=AzureKeyCredential(key)\n",
    "    )\n",
    "    \n",
    "# poller = document_analysis_client.begin_analyze_document_from_url(\n",
    "#     model_id=\"prebuilt-document\",\n",
    "#     document_url=form_url\n",
    "# )\n",
    "poller = document_analysis_client.begin_analyze_document(\n",
    "    model_id=\"prebuilt-document\",\n",
    "    document=in_file\n",
    ")\n",
    "\n",
    "result = poller.result()\n",
    "\n",
    "print(\"----Key-value pairs found in document----\")\n",
    "for kv_pair in result.key_value_pairs:\n",
    "    if kv_pair.key and kv_pair.value:\n",
    "        print(\"Masuk if: Key '{}': Value: '{}'\".format(kv_pair.key.content, kv_pair.value.content))\n",
    "    else:\n",
    "        print(\"Masuk else: Key '{}': Value:\".format(kv_pair.key.content))\n",
    "\n",
    "print(\"----------------------------------------\")\n"
   ]
  },
  {
   "cell_type": "markdown",
   "metadata": {},
   "source": [
    "## Create object document loader"
   ]
  },
  {
   "cell_type": "code",
   "execution_count": 98,
   "metadata": {},
   "outputs": [],
   "source": [
    "# from langchain_text_splitters.character import RecursiveCharacterTextSplitter, TextSplitter\n",
    "# from typing import Any, List, Optional, Iterable\n",
    "# from azure.ai.formrecognizer._models import AnalyzeResult\n",
    "# from langchain_core.documents import Document\n",
    "\n",
    "# class AnalyzeDocumentIntelligence(RecursiveCharacterTextSplitter):\n",
    "#     def __init__(\n",
    "#         self,\n",
    "#         text_splitter: TextSplitter = RecursiveCharacterTextSplitter,\n",
    "#         model_id: str = \"prebuilt-document\",\n",
    "#         endpoint: Optional[str] = None,\n",
    "#         key: Optional[str] = None,\n",
    "#         ## nanti kasih embedding, char splitter, fileloader (source file), dataanalyzer\n",
    "\n",
    "#         **kwargs: Any,\n",
    "#     ) -> None:\n",
    "#         # \"\"\"Create a new TextSplitter.\"\"\"\n",
    "#         # super().__init__(keep_separator=keep_separator, **kwargs)\n",
    "#         # self._separators = separators or [\"\\n\\n\", \"\\n\", \" \", \"\"]\n",
    "#         # self._is_separator_regex = is_separator_regex\n",
    "        \n",
    "#         self.endpoint = endpoint\n",
    "#         self.api_key = key\n",
    "#         self.model_id = model_id\n",
    "\n",
    "#     def analyze_document(\n",
    "#         self,\n",
    "#         file_path: str = None,\n",
    "#         file_url: str = None,\n",
    "#     ) -> AnalyzeResult:\n",
    "#         document_analysis_client = DocumentAnalysisClient(\n",
    "#             endpoint=self.endpoint, \n",
    "#             credential=AzureKeyCredential(self.api_key)\n",
    "#         )\n",
    "#         if file_url:\n",
    "#             self.source = file_url\n",
    "#             poller = document_analysis_client.begin_analyze_document_from_url(\n",
    "#                 model_id=self.model_id,\n",
    "#                 document_url=file_url\n",
    "#             )\n",
    "#         elif file_path:\n",
    "#             self.source = file_path\n",
    "#             in_file = io.BytesIO(\n",
    "#                 open(file_path, 'rb').read()\n",
    "#             )\n",
    "#             poller = document_analysis_client.begin_analyze_document(\n",
    "#                 model_id=self.model_id,\n",
    "#                 document=in_file\n",
    "#             )\n",
    "#         else:\n",
    "#             raise ValueError(\"Either 'file_path' or 'file_url' must be provided.\")\n",
    "\n",
    "#         return poller.result()\n",
    "    \n",
    "#     def _get_dict_from_key_value_poller(\n",
    "#         self,\n",
    "#         poller_result: AnalyzeResult,\n",
    "#         source: str = None,\n",
    "#     ) -> dict:\n",
    "#         dict_poller = {}\n",
    "#         for kv_pair in poller_result.key_value_pairs:\n",
    "#             if kv_pair.key not in dict_poller:\n",
    "#                 dict_poller[kv_pair.key.content] = []\n",
    "\n",
    "#             if kv_pair.key and kv_pair.value:\n",
    "#                 dict_poller[kv_pair.key.content].append(kv_pair.value.content)\n",
    "#             else:\n",
    "#                 dict_poller[kv_pair.key.content].append(None)\n",
    "\n",
    "#         dict_poller[\"source\"] = source\n",
    "#         return dict_poller\n",
    "\n",
    "#     def split_documents(\n",
    "#         self, \n",
    "#         documents: Iterable[AnalyzeResult]\n",
    "#     ) -> List[Document]:\n",
    "#         \"\"\"Note: Replaced the inherited split_documents method with additional metadata values\"\"\"\n",
    "#         texts, metadatas = [], []\n",
    "#         for doc in documents:\n",
    "#             texts.append(doc.content)\n",
    "#             dict_poller = self._get_dict_from_key_value_poller(doc, self.source)\n",
    "#             metadatas.append(dict_poller)\n",
    "#         return self.create_documents(texts, metadatas=metadatas)"
   ]
  },
  {
   "cell_type": "code",
   "execution_count": null,
   "metadata": {},
   "outputs": [],
   "source": [
    "from abc import ABC, abstractmethod\n",
    "from azure.ai.formrecognizer._models import AnalyzeResult\n",
    "from langchain_text_splitters.character import RecursiveCharacterTextSplitter, TextSplitter\n",
    "from typing import Any, List, Optional, Iterable\n",
    "from azure.core.credentials import AzureKeyCredential\n",
    "from azure.ai.formrecognizer import DocumentAnalysisClient\n",
    "\n",
    "class DocumentAnalyzer(ABC):\n",
    "    @abstractmethod\n",
    "    def analyze(\n",
    "        self,\n",
    "        file_path: str = None,\n",
    "        file_url: str = None,\n",
    "        **kwargs,\n",
    "    ) -> AnalyzeResult:\n",
    "        pass\n",
    "\n",
    "class UnstructuredDocumentAnalyzer(DocumentAnalyzer):\n",
    "    def __init__(\n",
    "        self,\n",
    "        text_splitter,\n",
    "        data_loader,\n",
    "        data_analyzer,\n",
    "        embedding,\n",
    "        endpoint: Optional[str] = None,\n",
    "        key: Optional[str] = None,\n",
    "        **kwargs: Any,\n",
    "    ) -> None:\n",
    "        super().__init__()\n",
    "        self.text_splitter = text_splitter\n",
    "        self.data_loader = data_loader\n",
    "        self.data_analyzer = data_analyzer\n",
    "        self.embedding = embedding,\n",
    "        self.endpoint = endpoint,\n",
    "        self.api_key = key\n",
    "\n",
    "    def analyze(\n",
    "        self,\n",
    "        file_path: str = None,\n",
    "        file_url: str = None,\n",
    "        **kwargs,\n",
    "    ) -> AnalyzeResult:\n",
    "        pass"
   ]
  },
  {
   "cell_type": "code",
   "execution_count": 100,
   "metadata": {},
   "outputs": [],
   "source": [
    "# file_path = \"/Users/donnymirzaadhitama/workspace/bithealth/training_data/FPPK/2022110213021016_MRCCC_FPPK_PERTAMINA INTERNASIONAL EP PT ADMEDIKA_OPA2210270146_RIA NOVERIA.pdf\"\n",
    "\n",
    "# adi = AnalyzeDocumentIntelligence(\n",
    "#     chunk_size=1000,\n",
    "#     chunk_overlap=20,\n",
    "#     length_function=len,\n",
    "#     is_separator_regex=False,\n",
    "#     endpoint=config.AZURE_DOCS_INT_ENDPOINT,\n",
    "#     key=config.AZURE_DOCS_INT_API_KEY,\n",
    "# )\n",
    "\n",
    "# result = adi.analyze_document(file_path=file_path)\n",
    "# doc_splitted = adi.split_documents([result])\n",
    "# # print(doc_splitted[1].page_content)"
   ]
  },
  {
   "cell_type": "code",
   "execution_count": 3,
   "metadata": {},
   "outputs": [],
   "source": [
    "from langchain_community.document_loaders.doc_intelligence import AzureAIDocumentIntelligenceLoader"
   ]
  },
  {
   "cell_type": "code",
   "execution_count": 5,
   "metadata": {},
   "outputs": [
    {
     "name": "stdout",
     "output_type": "stream",
     "text": [
      "https://southeastasia.api.cognitive.microsoft.com/\n",
      "4db9e2e800be4a2ca93034b8baa12b74\n"
     ]
    }
   ],
   "source": [
    "print(config.AZURE_DOCS_INT_ENDPOINT)\n",
    "print(config.AZURE_DOCS_INT_API_KEY)"
   ]
  },
  {
   "cell_type": "code",
   "execution_count": 16,
   "metadata": {},
   "outputs": [],
   "source": [
    "file_path = \"/Users/donnymirzaadhitama/workspace/bithealth/training_data/FPKS/2022082011446651_MRCCC_FPKS_VALE INDONESIA PT_OPA2208190466_KAMRULLAH ILYAS-1.pdf\"\n",
    "analysis_features = [\n",
    "    # \"ocrHighResolution\", \n",
    "    \"keyValuePairs\",\n",
    "]\n",
    "\n",
    "loader = AzureAIDocumentIntelligenceLoader(\n",
    "    file_path=file_path,\n",
    "    api_endpoint=config.AZURE_DOCS_INT_ENDPOINT,\n",
    "    api_key=config.AZURE_DOCS_INT_API_KEY,\n",
    "    api_version=\"2024-02-29-preview\",\n",
    "    api_model=\"prebuilt-layout\",\n",
    "    mode=\"single\",\n",
    "    analysis_features=analysis_features,\n",
    ")"
   ]
  },
  {
   "cell_type": "code",
   "execution_count": 13,
   "metadata": {},
   "outputs": [],
   "source": [
    "from langchain_text_splitters.character import RecursiveCharacterTextSplitter, TextSplitter\n",
    "text_splitter = RecursiveCharacterTextSplitter(\n",
    "    chunk_size=1000,\n",
    "    chunk_overlap=20,\n",
    "    length_function=len,\n",
    "    is_separator_regex=False,\n",
    ")"
   ]
  },
  {
   "cell_type": "code",
   "execution_count": 17,
   "metadata": {},
   "outputs": [
    {
     "data": {
      "text/plain": [
       "[Document(page_content='Siloam Hospitals\\nSiloam Hospitals\\nPERMOHONAN KONSULTASI\\nKAMRULLAH ILYAS Sex: Male / Ph: 085399799077 MR No: MRCCC.00-42-94-47 / DOB: 31-Dec-1971 ( OPA2208190466 / 19-Agt-2022 11:00 Dr. dr. Andri Lubis, SPOT (K) / VALE INDONESIA, PT\\nKepada TS : dr. Rehorarios Media :selected: Internal :unselected: Eksternal\\nMohon konsultasi dan tindak lanjut untuk pasien dengan :\\nKeluhan utama :\\n-\\nHasil pemeriksaan yang ditemukan :\\nBah - Kini\\ndizer\\n..........\\nDiagnosa :\\nObat dan tindakan yang diberikan\\n:\\nMen van\\ndenTs\\nTerima kasih atas bantuan & kerjasamanya. :unselected: Konsultasi satu kali :selected: Rawat bersama :unselected: Alih rawat\\nDokter yang merawat\\nTanda Tangan & Nama Lengkap\\nTanggal : Jam :\\n19/8-20\\n1120\\nSHAMA 1511.47a/1')]"
      ]
     },
     "execution_count": 17,
     "metadata": {},
     "output_type": "execute_result"
    }
   ],
   "source": [
    "# result = loader.load()\n",
    "result = loader.load_and_split(text_splitter=text_splitter)\n",
    "result"
   ]
  },
  {
   "cell_type": "code",
   "execution_count": 21,
   "metadata": {},
   "outputs": [
    {
     "data": {
      "text/plain": [
       "{'page_content': 'Siloam Hospitals\\nSiloam Hospitals\\nPERMOHONAN KONSULTASI\\nKAMRULLAH ILYAS Sex: Male / Ph: 085399799077 MR No: MRCCC.00-42-94-47 / DOB: 31-Dec-1971 ( OPA2208190466 / 19-Agt-2022 11:00 Dr. dr. Andri Lubis, SPOT (K) / VALE INDONESIA, PT\\nKepada TS : dr. Rehorarios Media :selected: Internal :unselected: Eksternal\\nMohon konsultasi dan tindak lanjut untuk pasien dengan :\\nKeluhan utama :\\n-\\nHasil pemeriksaan yang ditemukan :\\nBah - Kini\\ndizer\\n..........\\nDiagnosa :\\nObat dan tindakan yang diberikan\\n:\\nMen van\\ndenTs\\nTerima kasih atas bantuan & kerjasamanya. :unselected: Konsultasi satu kali :selected: Rawat bersama :unselected: Alih rawat\\nDokter yang merawat\\nTanda Tangan & Nama Lengkap\\nTanggal : Jam :\\n19/8-20\\n1120\\nSHAMA 1511.47a/1',\n",
       " 'metadata': {},\n",
       " 'type': 'Document'}"
      ]
     },
     "execution_count": 21,
     "metadata": {},
     "output_type": "execute_result"
    }
   ],
   "source": [
    "# print(result[0].page_content)\n",
    "# print(result[0].page_content)\n",
    "result[0].dict()"
   ]
  },
  {
   "cell_type": "code",
   "execution_count": 27,
   "metadata": {},
   "outputs": [
    {
     "ename": "AttributeError",
     "evalue": "'list' object has no attribute 'as_bytes_io'",
     "output_type": "error",
     "traceback": [
      "\u001b[0;31m---------------------------------------------------------------------------\u001b[0m",
      "\u001b[0;31mAttributeError\u001b[0m                            Traceback (most recent call last)",
      "Cell \u001b[0;32mIn[27], line 27\u001b[0m\n\u001b[1;32m     25\u001b[0m blob \u001b[38;5;241m=\u001b[39m Blob\u001b[38;5;241m.\u001b[39mfrom_path(file_path)\n\u001b[1;32m     26\u001b[0m blob \u001b[38;5;241m=\u001b[39m parser\u001b[38;5;241m.\u001b[39mparse(blob)\n\u001b[0;32m---> 27\u001b[0m \u001b[38;5;28;01mwith\u001b[39;00m \u001b[43mblob\u001b[49m\u001b[38;5;241;43m.\u001b[39;49m\u001b[43mas_bytes_io\u001b[49m() \u001b[38;5;28;01mas\u001b[39;00m file_obj:\n\u001b[1;32m     28\u001b[0m     poller \u001b[38;5;241m=\u001b[39m document_intelligence_client\u001b[38;5;241m.\u001b[39mbegin_analyze_document(\n\u001b[1;32m     29\u001b[0m             \u001b[38;5;124m\"\u001b[39m\u001b[38;5;124mprebuilt-layout\u001b[39m\u001b[38;5;124m\"\u001b[39m,\n\u001b[1;32m     30\u001b[0m             AnalyzeDocumentRequest(\n\u001b[0;32m   (...)\u001b[0m\n\u001b[1;32m     33\u001b[0m             )\n\u001b[1;32m     34\u001b[0m     )\n",
      "\u001b[0;31mAttributeError\u001b[0m: 'list' object has no attribute 'as_bytes_io'"
     ]
    }
   ],
   "source": [
    "from azure.ai.documentintelligence import DocumentIntelligenceClient\n",
    "from azure.ai.documentintelligence.models import AnalyzeDocumentRequest\n",
    "from azure.core.credentials import AzureKeyCredential\n",
    "from langchain_community.document_loaders.blob_loaders import Blob\n",
    "from langchain_community.document_loaders.parsers import AzureAIDocumentIntelligenceParser\n",
    "\n",
    "document_intelligence_client = DocumentIntelligenceClient(\n",
    "        endpoint=config.AZURE_DOCS_INT_ENDPOINT, \n",
    "        credential=AzureKeyCredential(config.AZURE_DOCS_INT_API_KEY),\n",
    "        # api_version=\"2023-07-31\"\n",
    ")\n",
    "parser = AzureAIDocumentIntelligenceParser(  # type: ignore[misc]\n",
    "            api_endpoint=config.AZURE_DOCS_INT_ENDPOINT,\n",
    "            api_key=config.AZURE_DOCS_INT_API_KEY,\n",
    "            api_version=\"2024-02-29-preview\",\n",
    "            api_model=\"prebuilt-layout\",\n",
    "            mode=\"markdown\",\n",
    "            analysis_features=analysis_features,\n",
    ")\n",
    "formUrl = \"https://raw.githubusercontent.com/Azure-Samples/cognitive-services-REST-api-samples/master/curl/form-recognizer/sample-layout.pdf\"\n",
    "file_path = \"/Users/donnymirzaadhitama/workspace/bithealth/training_data/FPKS/2022082011446651_MRCCC_FPKS_VALE INDONESIA PT_OPA2208190466_KAMRULLAH ILYAS-1.pdf\"\n",
    "in_file = io.BytesIO(\n",
    "    open(file_path, 'rb').read()\n",
    ")\n",
    "blob = Blob.from_path(file_path)\n",
    "blob = parser.parse(blob)\n",
    "with blob.as_bytes_io() as file_obj:\n",
    "    poller = document_intelligence_client.begin_analyze_document(\n",
    "            \"prebuilt-layout\",\n",
    "            AnalyzeDocumentRequest(\n",
    "                bytes_source=file_obj,\n",
    "            #     url_source=formUrl\n",
    "            )\n",
    "    )"
   ]
  },
  {
   "cell_type": "code",
   "execution_count": 28,
   "metadata": {},
   "outputs": [
    {
     "data": {
      "text/plain": [
       "[Document(page_content='<figure>\\n\\n![](figures/0)\\n\\n<!-- FigureContent=\"Siloam Hospitals\" -->\\n\\n</figure>\\n\\n\\nSiloam Hospitals\\n\\nPERMOHONAN KONSULTASI\\n\\nKAMRULLAH ILYAS Sex: Male / Ph: 085399799077 MR No: MRCCC.00-42-94-47 / DOB: 31-Dec-1971 ( OPA2208190466 / 19-Agt-2022 11:00 Dr. dr. Andri Lubis, SPOT (K) / VALE INDONESIA, PT\\n\\nKepada TS : dr. Rehorarios Media :selected: Internal :unselected: Eksternal\\n\\nMohon konsultasi dan tindak lanjut untuk pasien dengan :\\n\\nKeluhan utama :\\n\\n\\\\-\\n\\nHasil pemeriksaan yang ditemukan :\\n\\nBah - Kini\\n\\ndizer\\n\\n..........\\n\\nDiagnosa :\\n\\nObat dan tindakan yang diberikan\\n\\n:\\n\\nMen van\\n\\ndenTs\\n\\nTerima kasih atas bantuan & kerjasamanya. :unselected: Konsultasi satu kali :selected: Rawat bersama\\n :unselected:\\nAlih rawat\\n\\nDokter yang merawat\\n\\nTanda Tangan & Nama Lengkap\\n\\n| Tanggal : Jam : | 19/8-20 |\\n|| 1120 |\\n\\n<!-- PageFooter=\"SHAMA 1511.47a/1\" -->\\n')]"
      ]
     },
     "execution_count": 28,
     "metadata": {},
     "output_type": "execute_result"
    }
   ],
   "source": [
    "blob"
   ]
  }
 ],
 "metadata": {
  "kernelspec": {
   "display_name": "chatai",
   "language": "python",
   "name": "python3"
  },
  "language_info": {
   "codemirror_mode": {
    "name": "ipython",
    "version": 3
   },
   "file_extension": ".py",
   "mimetype": "text/x-python",
   "name": "python",
   "nbconvert_exporter": "python",
   "pygments_lexer": "ipython3",
   "version": "3.10.14"
  }
 },
 "nbformat": 4,
 "nbformat_minor": 2
}
